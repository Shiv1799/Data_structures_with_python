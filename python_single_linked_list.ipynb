{
  "nbformat": 4,
  "nbformat_minor": 0,
  "metadata": {
    "colab": {
      "name": "python single linked list.ipynb",
      "provenance": [],
      "include_colab_link": true
    },
    "kernelspec": {
      "name": "python3",
      "display_name": "Python 3"
    }
  },
  "cells": [
    {
      "cell_type": "markdown",
      "metadata": {
        "id": "view-in-github",
        "colab_type": "text"
      },
      "source": [
        "<a href=\"https://colab.research.google.com/github/Shiv1799/Data_structures_with_python/blob/master/python_single_linked_list.ipynb\" target=\"_parent\"><img src=\"https://colab.research.google.com/assets/colab-badge.svg\" alt=\"Open In Colab\"/></a>"
      ]
    },
    {
      "cell_type": "code",
      "metadata": {
        "id": "EN7t1eVDIAGn",
        "colab_type": "code",
        "colab": {}
      },
      "source": [
        "class Node:\n",
        "  def __init__(self,value):\n",
        "    self.info=value\n",
        "    self.link=None"
      ],
      "execution_count": 0,
      "outputs": []
    },
    {
      "cell_type": "code",
      "metadata": {
        "id": "GlPXTHkHINar",
        "colab_type": "code",
        "colab": {}
      },
      "source": [
        "class SinglelinkedList:\n",
        "  def __init__(self):\n",
        "    self.start=None\n",
        "  def display_list(self):\n",
        "    pass\n",
        "  def count_nodes(self):\n",
        "    pass\n",
        "  def search(self,x):\n",
        "    pass\n",
        "  def insert_in_beginning(self,data):\n",
        "    pass\n",
        "  def insert_at_end(self,data):\n",
        "    pass\n",
        "  def create_list(self):\n",
        "    pass\n",
        "  def insert_after(self,data,x):\n",
        "    pass\n",
        "  def insert_before(self,data,x):\n",
        "    pass\n",
        "  def insert_at_position(self,data,k):\n",
        "    pass\n",
        "  def delete_node(self,x):\n",
        "    pass\n",
        "  def delete_first_node(self):\n",
        "    pass\n",
        "  def delete_last_node(self):\n",
        "    pass\n",
        "  def reverse_list(self):\n",
        "    pass\n",
        "  def bubble_sort_exdata(self):\n",
        "    pass\n",
        "  def bubble_sort_exlink(self):\n",
        "    pass\n",
        "  def has_cycle(self):\n",
        "    pass\n",
        "  def find_cycle(self):\n",
        "    pass\n",
        "  def remove_cycle(self):\n",
        "    pass\n",
        "  def insert_cycle(self,x):\n",
        "    pass\n",
        "  def merge2(self,list2):\n",
        "    pass\n",
        "  def merge2(self,p1,p2):\n",
        "    pass\n",
        "  def merge_sort(self):\n",
        "    pass\n",
        "  def merge_sort_rec(self,listStart):\n",
        "    pass\n",
        "  def divide_list(self,p+):\n",
        "    pass"
      ],
      "execution_count": 0,
      "outputs": []
    }
  ]
}