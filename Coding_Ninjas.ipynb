{
  "nbformat": 4,
  "nbformat_minor": 0,
  "metadata": {
    "colab": {
      "name": "Coding Ninjas",
      "provenance": [],
      "collapsed_sections": [],
      "toc_visible": true,
      "include_colab_link": true
    },
    "kernelspec": {
      "display_name": "Python 3",
      "name": "python3"
    }
  },
  "cells": [
    {
      "cell_type": "markdown",
      "metadata": {
        "id": "view-in-github",
        "colab_type": "text"
      },
      "source": [
        "<a href=\"https://colab.research.google.com/github/Shiv1799/Data_structures_with_python/blob/master/Coding_Ninjas.ipynb\" target=\"_parent\"><img src=\"https://colab.research.google.com/assets/colab-badge.svg\" alt=\"Open In Colab\"/></a>"
      ]
    },
    {
      "cell_type": "markdown",
      "metadata": {
        "colab_type": "text",
        "id": "5fCEDCU_qrC0"
      },
      "source": [
        "<p><img alt=\"Colaboratory logo\" height=\"45px\" src=\"/img/colab_favicon.ico\" align=\"left\" hspace=\"10px\" vspace=\"0px\"></p>\n",
        "\n",
        "<h1>Welcome to Colaboratory!</h1>\n",
        "\n",
        "\n",
        "Colaboratory is a free Jupyter notebook environment that requires no setup and runs entirely in the cloud.\n",
        "\n",
        "With Colaboratory you can write and execute code, save and share your analyses, and access powerful computing resources, all for free from your browser."
      ]
    },
    {
      "cell_type": "code",
      "metadata": {
        "colab_type": "code",
        "id": "xitplqMNk_Hc",
        "outputId": "ed4f60d2-878d-4056-c438-352dac39a112",
        "colab": {
          "height": 420
        }
      },
      "source": [
        "#@title Introducing Colaboratory { display-mode: \"form\" }\n",
        "#@markdown This 3-minute video gives an overview of the key features of Colaboratory:\n",
        "from IPython.display import YouTubeVideo\n",
        "YouTubeVideo('inN8seMm7UI', width=600, height=400)"
      ],
      "execution_count": 0,
      "outputs": [
        {
          "output_type": "execute_result",
          "data": {
            "text/html": [
              "\n",
              "        <iframe\n",
              "            width=\"600\"\n",
              "            height=\"400\"\n",
              "            src=\"https://www.youtube.com/embed/inN8seMm7UI\"\n",
              "            frameborder=\"0\"\n",
              "            allowfullscreen\n",
              "        ></iframe>\n",
              "        "
            ],
            "text/plain": [
              "<IPython.lib.display.YouTubeVideo at 0x7f956e9dda50>"
            ]
          },
          "metadata": {
            "tags": []
          },
          "execution_count": 0
        }
      ]
    },
    {
      "cell_type": "markdown",
      "metadata": {
        "colab_type": "text",
        "id": "GJBs_flRovLc"
      },
      "source": [
        "## Getting Started\n",
        "\n",
        "The document you are reading is a  [Jupyter notebook](https://jupyter.org/), hosted in Colaboratory. It is not a static page, but an interactive environment that lets you write and execute code in Python and other languages.\n",
        "\n",
        "For example, here is a **code cell** with a short Python script that computes a value, stores it in a variable, and prints the result:"
      ]
    },
    {
      "cell_type": "code",
      "metadata": {
        "colab_type": "code",
        "id": "gJr_9dXGpJ05",
        "outputId": "5626194c-e802-4293-942d-2908885c3c1f",
        "colab": {
          "height": 35
        }
      },
      "source": [
        "seconds_in_a_day = 24 * 60 * 60\n",
        "seconds_in_a_day"
      ],
      "execution_count": 0,
      "outputs": [
        {
          "output_type": "execute_result",
          "data": {
            "text/plain": [
              "86400"
            ]
          },
          "metadata": {
            "tags": []
          },
          "execution_count": 0
        }
      ]
    },
    {
      "cell_type": "markdown",
      "metadata": {
        "colab_type": "text",
        "id": "2fhs6GZ4qFMx"
      },
      "source": [
        "To execute the code in the above cell, select it with a click and then either press the play button to the left of the code, or use the keyboard shortcut \"Command/Ctrl+Enter\".\n",
        "\n",
        "All cells modify the same global state, so variables that you define by executing a cell can be used in other cells:"
      ]
    },
    {
      "cell_type": "code",
      "metadata": {
        "colab_type": "code",
        "id": "-gE-Ez1qtyIA",
        "outputId": "8d2e4259-4682-4e19-b683-7b9087f28820",
        "colab": {
          "height": 35
        }
      },
      "source": [
        "seconds_in_a_week = 7 * seconds_in_a_day\n",
        "seconds_in_a_week"
      ],
      "execution_count": 0,
      "outputs": [
        {
          "output_type": "execute_result",
          "data": {
            "text/plain": [
              "604800"
            ]
          },
          "metadata": {
            "tags": []
          },
          "execution_count": 0
        }
      ]
    },
    {
      "cell_type": "markdown",
      "metadata": {
        "colab_type": "text",
        "id": "lSrWNr3MuFUS"
      },
      "source": [
        "For more information about working with Colaboratory notebooks, see [Overview of Colaboratory](/notebooks/basic_features_overview.ipynb).\n"
      ]
    },
    {
      "cell_type": "markdown",
      "metadata": {
        "colab_type": "text",
        "id": "-Rh3-Vt9Nev9"
      },
      "source": [
        "## More Resources\n",
        "\n",
        "Learn how to make the most of Python, Jupyter, Colaboratory, and related tools with these resources:\n",
        "\n",
        "### Working with Notebooks in Colaboratory\n",
        "- [Overview of Colaboratory](/notebooks/basic_features_overview.ipynb)\n",
        "- [Guide to Markdown](/notebooks/markdown_guide.ipynb)\n",
        "- [Importing libraries and installing dependencies](/notebooks/snippets/importing_libraries.ipynb)\n",
        "- [Saving and loading notebooks in GitHub](https://colab.research.google.com/github/googlecolab/colabtools/blob/master/notebooks/colab-github-demo.ipynb)\n",
        "- [Interactive forms](/notebooks/forms.ipynb)\n",
        "- [Interactive widgets](/notebooks/widgets.ipynb)\n",
        "- <img src=\"/img/new.png\" height=\"20px\" align=\"left\" hspace=\"4px\" alt=\"New\"></img>\n",
        " [TensorFlow 2 in Colab](/notebooks/tensorflow_version.ipynb)\n",
        "\n",
        "### Working with Data\n",
        "- [Loading data: Drive, Sheets, and Google Cloud Storage](/notebooks/io.ipynb) \n",
        "- [Charts: visualizing data](/notebooks/charts.ipynb)\n",
        "- [Getting started with BigQuery](/notebooks/bigquery.ipynb)\n",
        "\n",
        "### Machine Learning Crash Course\n",
        "These are a few of the notebooks from Google's online Machine Learning course. See the [full course website](https://developers.google.com/machine-learning/crash-course/) for more.\n",
        "- [Intro to Pandas](/notebooks/mlcc/intro_to_pandas.ipynb)\n",
        "- [Tensorflow concepts](/notebooks/mlcc/tensorflow_programming_concepts.ipynb)\n",
        "- [First steps with TensorFlow](/notebooks/mlcc/first_steps_with_tensor_flow.ipynb)\n",
        "- [Intro to neural nets](/notebooks/mlcc/intro_to_neural_nets.ipynb)\n",
        "- [Intro to sparse data and embeddings](/notebooks/mlcc/intro_to_sparse_data_and_embeddings.ipynb)\n",
        "\n",
        "### Using Accelerated Hardware\n",
        "- [TensorFlow with GPUs](/notebooks/gpu.ipynb)\n",
        "- [TensorFlow with TPUs](/notebooks/tpu.ipynb)"
      ]
    },
    {
      "cell_type": "markdown",
      "metadata": {
        "colab_type": "text",
        "id": "P-H6Lw1vyNNd"
      },
      "source": [
        "## Machine Learning Examples: Seedbank\n",
        "\n",
        "To see end-to-end examples of the interactive machine learning analyses that Colaboratory makes possible, check out the [Seedbank](https://research.google.com/seedbank/) project.\n",
        "\n",
        "A few featured examples:\n",
        "\n",
        "- [Neural Style Transfer](https://research.google.com/seedbank/seed/neural_style_transfer_with_tfkeras): Use deep learning to transfer style between images.\n",
        "- [EZ NSynth](https://research.google.com/seedbank/seed/ez_nsynth): Synthesize audio with WaveNet auto-encoders.\n",
        "- [Fashion MNIST with Keras and TPUs](https://research.google.com/seedbank/seed/fashion_mnist_with_keras_and_tpus): Classify fashion-related images with deep learning.\n",
        "- [DeepDream](https://research.google.com/seedbank/seed/deepdream): Produce DeepDream images from your own photos.\n",
        "- [Convolutional VAE](https://research.google.com/seedbank/seed/convolutional_vae): Create a generative model of handwritten digits."
      ]
    },
    {
      "cell_type": "code",
      "metadata": {
        "id": "000mz8jvIJvB",
        "colab_type": "code",
        "outputId": "c091f3f4-404c-4321-c212-4bec62e5794f",
        "colab": {
          "base_uri": "https://localhost:8080/",
          "height": 51
        }
      },
      "source": [
        "n = int(input())\n",
        "a=1\n",
        "b=1\n",
        "c=0\n",
        "i=1\n",
        "while(i<n-1):\n",
        "    c = a+b\n",
        "    a = b\n",
        "    b = c\n",
        "    i = i+1\n",
        "print(c)"
      ],
      "execution_count": 0,
      "outputs": [
        {
          "output_type": "stream",
          "text": [
            "4\n",
            "3\n"
          ],
          "name": "stdout"
        }
      ]
    },
    {
      "cell_type": "code",
      "metadata": {
        "id": "_xH7JFotlQNs",
        "colab_type": "code",
        "outputId": "7f35d598-0cdc-4a98-b959-5823e32327bd",
        "colab": {
          "base_uri": "https://localhost:8080/",
          "height": 102
        }
      },
      "source": [
        "n = int(input())\n",
        "i=1\n",
        "while i <=n:\n",
        "  j=1\n",
        "  while j<n:\n",
        "    print(i,end=\"\")\n",
        "    j=j+1\n",
        "  print()\n",
        "  i=i+1\n"
      ],
      "execution_count": 0,
      "outputs": [
        {
          "output_type": "stream",
          "text": [
            "4\n",
            "111\n",
            "222\n",
            "333\n",
            "444\n"
          ],
          "name": "stdout"
        }
      ]
    },
    {
      "cell_type": "code",
      "metadata": {
        "id": "E5u546UQoVlh",
        "colab_type": "code",
        "outputId": "0a6d3122-28c7-4e8f-c1f3-a9a80258beb8",
        "colab": {
          "base_uri": "https://localhost:8080/",
          "height": 102
        }
      },
      "source": [
        "n = int(input())\n",
        "i=0\n",
        "while i <n:\n",
        "  j=0\n",
        "  while j<n:\n",
        "    charp =chr(ord(\"A\")+j+i)\n",
        "    print(charp,end=\"\")\n",
        "    j=j+1\n",
        "  print()\n",
        "  i=i+1\n"
      ],
      "execution_count": 0,
      "outputs": [
        {
          "output_type": "stream",
          "text": [
            "4\n",
            "ABCD\n",
            "BCDE\n",
            "CDEF\n",
            "DEFG\n"
          ],
          "name": "stdout"
        }
      ]
    },
    {
      "cell_type": "code",
      "metadata": {
        "id": "QFu27dXBueOa",
        "colab_type": "code",
        "outputId": "b14e24b9-5263-441c-dd4c-93bcd93c21a7",
        "colab": {
          "base_uri": "https://localhost:8080/",
          "height": 119
        }
      },
      "source": [
        "n = int(input())\n",
        "i = 1\n",
        "while i<=n:\n",
        "  j = 1\n",
        "  start_char=chr(ord('E')-i+1)\n",
        "  while j<=i:\n",
        "    charp=chr(ord(start_char)+j-1)\n",
        "    print(charp, end ='')\n",
        "    j = j+1\n",
        "  print()\n",
        "  i = i+1"
      ],
      "execution_count": 0,
      "outputs": [
        {
          "output_type": "stream",
          "text": [
            "5\n",
            "E\n",
            "DE\n",
            "CDE\n",
            "BCDE\n",
            "ABCDE\n"
          ],
          "name": "stdout"
        }
      ]
    },
    {
      "cell_type": "code",
      "metadata": {
        "id": "bUAlHdRedLNX",
        "colab_type": "code",
        "outputId": "24f01b62-3d34-4140-97e6-6e4a33d611f5",
        "colab": {
          "base_uri": "https://localhost:8080/",
          "height": 102
        }
      },
      "source": [
        "\n",
        "n = int(input())\n",
        "i = n\n",
        "while i>0:\n",
        "  j =1\n",
        "  while j<=i:\n",
        "    print(j, end = '')\n",
        "    j = j+1\n",
        "  print()\n",
        "  i = i-1"
      ],
      "execution_count": 0,
      "outputs": [
        {
          "output_type": "stream",
          "text": [
            "4\n",
            "1234\n",
            "123\n",
            "12\n",
            "1\n"
          ],
          "name": "stdout"
        }
      ]
    },
    {
      "cell_type": "code",
      "metadata": {
        "id": "kfG3fl4pd1Hz",
        "colab_type": "code",
        "colab": {}
      },
      "source": [
        ""
      ],
      "execution_count": 0,
      "outputs": []
    },
    {
      "cell_type": "code",
      "metadata": {
        "id": "jLiJn10OjsOf",
        "colab_type": "code",
        "outputId": "9abe9706-e8c4-4c81-a9c8-48c011c1f150",
        "colab": {
          "base_uri": "https://localhost:8080/",
          "height": 85
        }
      },
      "source": [
        "n = int(input())\n",
        "i = 1\n",
        "while i<=n:\n",
        "  j = 1\n",
        "  start_char=chr(ord('A')+i-1)\n",
        "  while j<=i:\n",
        "    charp=chr(ord(start_char))\n",
        "    print(charp, end ='')\n",
        "    j = j+1\n",
        "  print()\n",
        "  i = i+1"
      ],
      "execution_count": 0,
      "outputs": [
        {
          "output_type": "stream",
          "text": [
            "3\n",
            "A\n",
            "BB\n",
            "CCC\n"
          ],
          "name": "stdout"
        }
      ]
    },
    {
      "cell_type": "code",
      "metadata": {
        "id": "L91ck_U0d2XD",
        "colab_type": "code",
        "outputId": "383deb02-c524-4e46-abb9-39a2ac5e50d1",
        "colab": {
          "base_uri": "https://localhost:8080/",
          "height": 102
        }
      },
      "source": [
        "n = int(input())\n",
        "i=1\n",
        "a=n\n",
        "while i<=n:\n",
        "    j = 1\n",
        "    while j<=n-i+1:\n",
        "        print(a, end = '')\n",
        "        j = j+1\n",
        "    print()\n",
        "    i = i+1\n",
        "    a=a-1"
      ],
      "execution_count": 0,
      "outputs": [
        {
          "output_type": "stream",
          "text": [
            "4\n",
            "4444\n",
            "333\n",
            "22\n",
            "1\n"
          ],
          "name": "stdout"
        }
      ]
    },
    {
      "cell_type": "code",
      "metadata": {
        "id": "9m1vZHUMprS8",
        "colab_type": "code",
        "outputId": "3960f135-253f-424c-ac59-dc15da4b7775",
        "colab": {
          "base_uri": "https://localhost:8080/",
          "height": 85
        }
      },
      "source": [
        "n=int(input())\n",
        "i=1\n",
        "while i <=n:\n",
        "    space=1\n",
        "    while space<=n-i:\n",
        "        print(\" \",end=\"\")\n",
        "        space=space+1\n",
        "    j=1\n",
        "    while j<=i:\n",
        "        print(j,end=\"\")\n",
        "        j=j+1\n",
        "    print()\n",
        "    i=i+1\n",
        "    "
      ],
      "execution_count": 0,
      "outputs": [
        {
          "output_type": "stream",
          "text": [
            "3\n",
            "  1\n",
            " 12\n",
            "123\n"
          ],
          "name": "stdout"
        }
      ]
    },
    {
      "cell_type": "code",
      "metadata": {
        "id": "_5FapwHy4-R8",
        "colab_type": "code",
        "outputId": "df887fb6-23fe-485e-d99e-3043fe0df4b1",
        "colab": {
          "base_uri": "https://localhost:8080/",
          "height": 85
        }
      },
      "source": [
        "n=int(input())\n",
        "i=1\n",
        "while i <=n:\n",
        "    space=1\n",
        "    while space<=n-i:\n",
        "        print(\" \",end=\"\")\n",
        "        space=space+1\n",
        "    j=1\n",
        "    p=i\n",
        "    while j<=i:\n",
        "        print(p,end=\"\")\n",
        "        j=j+1\n",
        "        p=p+1\n",
        "    j=i-1\n",
        "    p=(2*i)-2    \n",
        "    while j>=1:\n",
        "      print(p,end=\"\")\n",
        "      j=j-1\n",
        "      p=p-1\n",
        "    print()\n",
        "    i=i+1"
      ],
      "execution_count": 0,
      "outputs": [
        {
          "output_type": "stream",
          "text": [
            "3\n",
            "  1\n",
            " 232\n",
            "34543\n"
          ],
          "name": "stdout"
        }
      ]
    },
    {
      "cell_type": "code",
      "metadata": {
        "id": "jo0jkqF_Ajje",
        "colab_type": "code",
        "outputId": "fb407e7f-5ddc-40e3-a71b-178c3aa6b80f",
        "colab": {
          "base_uri": "https://localhost:8080/",
          "height": 51
        }
      },
      "source": [
        "i =int(input())\n",
        "print((2*i)-2)\n",
        "\n"
      ],
      "execution_count": 0,
      "outputs": [
        {
          "output_type": "stream",
          "text": [
            "0\n",
            "-2\n"
          ],
          "name": "stdout"
        }
      ]
    },
    {
      "cell_type": "code",
      "metadata": {
        "id": "WT7wxN2HhGMk",
        "colab_type": "code",
        "colab": {}
      },
      "source": [
        ""
      ],
      "execution_count": 0,
      "outputs": []
    },
    {
      "cell_type": "code",
      "metadata": {
        "id": "1xJTOpdCsBvF",
        "colab_type": "code",
        "outputId": "8648c861-8526-4ced-8348-79dc48c4852b",
        "colab": {
          "base_uri": "https://localhost:8080/",
          "height": 153
        }
      },
      "source": [
        "N=int(input())\n",
        "n1=(N+1)//2\n",
        "n2=n1-1\n",
        "i=1\n",
        "while i <=n1:\n",
        "    space=1\n",
        "    while space<=n1-i:\n",
        "      print(\" \",end=\"\")\n",
        "      space=space+1\n",
        "    star=1\n",
        "    while star<=(2*i)-1:\n",
        "      print('*',end=\"\")\n",
        "      star=star+1\n",
        "    print()\n",
        "    i=i+1\n",
        "i1=n2\n",
        "while i1>=1:\n",
        "  space=1\n",
        "  while space<=n2-i1+1:\n",
        "    print(\" \",end=\"\")\n",
        "    space=space+1\n",
        "    star=1\n",
        "  while star<=(2*i1)-1:\n",
        "    print('*',end=\"\")\n",
        "    star=star+1\n",
        "  print()\n",
        "  i1=i1-1"
      ],
      "execution_count": 0,
      "outputs": [
        {
          "output_type": "stream",
          "text": [
            "7\n",
            "   *\n",
            "  ***\n",
            " *****\n",
            "*******\n",
            " *****\n",
            "  ***\n",
            "   *\n"
          ],
          "name": "stdout"
        }
      ]
    },
    {
      "cell_type": "code",
      "metadata": {
        "id": "9yYBh_0UC_UO",
        "colab_type": "code",
        "outputId": "758137b5-33c4-4134-a8e0-0f8e83563445",
        "colab": {
          "base_uri": "https://localhost:8080/",
          "height": 102
        }
      },
      "source": [
        "n=int(input())\n",
        "i=1\n",
        "while i <=n:\n",
        "    space=1\n",
        "    while space<=n-i:\n",
        "        print(\" \",end=\"\")\n",
        "        space=space+1\n",
        "    j=i\n",
        "    p=i\n",
        "    while j>=1:\n",
        "        print(p,end=\"\")\n",
        "        j=j-1\n",
        "        p=p-1\n",
        "    p=2\n",
        "    j=i\n",
        "    while j>1:\n",
        "      print(p,end=\"\")\n",
        "      j=j-1\n",
        "      p=p+1\n",
        "    print()\n",
        "    i=i+1"
      ],
      "execution_count": 0,
      "outputs": [
        {
          "output_type": "stream",
          "text": [
            "4\n",
            "   1\n",
            "  212\n",
            " 32123\n",
            "4321234\n"
          ],
          "name": "stdout"
        }
      ]
    },
    {
      "cell_type": "code",
      "metadata": {
        "id": "maTLZMO-6rhh",
        "colab_type": "code",
        "colab": {}
      },
      "source": [
        "3j=i-1\n",
        "    p=i\n",
        "    while j>=1:\n",
        "      print(p,end=\"\")\n",
        "      j=j-1\n",
        "      p=p+1"
      ],
      "execution_count": 0,
      "outputs": []
    },
    {
      "cell_type": "code",
      "metadata": {
        "id": "tclEcFpfDsZv",
        "colab_type": "code",
        "outputId": "146a18b0-3468-45f9-e10e-db5471ef52f8",
        "colab": {
          "base_uri": "https://localhost:8080/",
          "height": 85
        }
      },
      "source": [
        "n = int(input())\n",
        "i=1\n",
        "star=1\n",
        "star1=1\n",
        "while i <=n:\n",
        "  j=1\n",
        "  while j<=n:\n",
        "    if star==j:\n",
        "      print(\"*\",end=\"\")\n",
        "    else:\n",
        "      print('0',end=\"\")\n",
        "    j=j+1\n",
        "  star=star+1\n",
        "  print('*',end='')\n",
        "  k=n\n",
        "  while k>=1:\n",
        "    if star1==k:\n",
        "      print(\"*\",end=\"\")\n",
        "    else:\n",
        "      print('0',end=\"\")\n",
        "    k=k-1\n",
        "  star1=star1+1\n",
        "  print()\n",
        "  i=i+1\n",
        "  "
      ],
      "execution_count": 0,
      "outputs": [
        {
          "output_type": "stream",
          "text": [
            "3\n",
            "*00*00*\n",
            "0*0*0*0\n",
            "00***00\n"
          ],
          "name": "stdout"
        }
      ]
    },
    {
      "cell_type": "code",
      "metadata": {
        "id": "VF-tHXb_NIpA",
        "colab_type": "code",
        "outputId": "be0bacf9-1e9c-486b-abdc-41533388a213",
        "colab": {
          "base_uri": "https://localhost:8080/",
          "height": 102
        }
      },
      "source": [
        "n = int(input())\n",
        "i=1\n",
        "star1=1\n",
        "while i <=n:\n",
        "  k=n\n",
        "  while k>=1:\n",
        "    if star1==k:\n",
        "      print(\"*\",end=\"\")\n",
        "    else:\n",
        "      print('0',end=\"\")\n",
        "    k=k-1\n",
        "  star1=star1+1\n",
        "  print()\n",
        "  i=i+1 "
      ],
      "execution_count": 0,
      "outputs": [
        {
          "output_type": "stream",
          "text": [
            "4\n",
            "000*\n",
            "00*0\n",
            "0*00\n",
            "*000\n"
          ],
          "name": "stdout"
        }
      ]
    },
    {
      "cell_type": "code",
      "metadata": {
        "id": "azDhKI3iYdwV",
        "colab_type": "code",
        "outputId": "72404789-e030-46dd-c4cc-73308c11027f",
        "colab": {
          "base_uri": "https://localhost:8080/",
          "height": 34
        }
      },
      "source": [
        "for i in range(1,5,2):\n",
        "  print(i,end='')"
      ],
      "execution_count": 0,
      "outputs": [
        {
          "output_type": "stream",
          "text": [
            "13"
          ],
          "name": "stdout"
        }
      ]
    },
    {
      "cell_type": "code",
      "metadata": {
        "id": "C2FBGofJbOed",
        "colab_type": "code",
        "outputId": "6955f9f4-0f7c-4e07-d19e-21b10485ff98",
        "colab": {
          "base_uri": "https://localhost:8080/",
          "height": 102
        }
      },
      "source": [
        "n=int(input())\n",
        "for i in range(n,0,-1):\n",
        "  a=n-i\n",
        "  if a%2==0:\n",
        "    while i>=1:\n",
        "      print(\"1\",end='')\n",
        "      i=i-1\n",
        "  if a%2!=0:\n",
        "    while i>=1:\n",
        "      print('0',end='')\n",
        "      i=i-1\n",
        "  print()"
      ],
      "execution_count": 0,
      "outputs": [
        {
          "output_type": "stream",
          "text": [
            "4\n",
            "1111\n",
            "000\n",
            "11\n",
            "0\n"
          ],
          "name": "stdout"
        }
      ]
    },
    {
      "cell_type": "code",
      "metadata": {
        "id": "_REjfbsXoSwR",
        "colab_type": "code",
        "outputId": "dd53786f-1804-4515-ccb6-e06d759b80a4",
        "colab": {
          "base_uri": "https://localhost:8080/",
          "height": 34
        }
      },
      "source": [
        "n=int(input())\n",
        "for i in range(n,1):\n",
        "  print(i)"
      ],
      "execution_count": 0,
      "outputs": [
        {
          "output_type": "stream",
          "text": [
            "5\n"
          ],
          "name": "stdout"
        }
      ]
    },
    {
      "cell_type": "code",
      "metadata": {
        "id": "ZNLROhJNIiLh",
        "colab_type": "code",
        "outputId": "d9a86a95-3868-464c-9513-e487dceb17a3",
        "colab": {
          "base_uri": "https://localhost:8080/",
          "height": 136
        }
      },
      "source": [
        "n=int(input())\n",
        "i=1\n",
        "while i<=n:\n",
        "  space=1\n",
        "  while space<=i-1:\n",
        "    print(\" \",end=\"\")\n",
        "    space=space+1\n",
        "  j=i\n",
        "  while j<=n:\n",
        "    print(j,end='')\n",
        "    j=j+1\n",
        "  print()\n",
        "  i=i+1\n"
      ],
      "execution_count": 0,
      "outputs": [
        {
          "output_type": "stream",
          "text": [
            "6\n",
            "123456\n",
            " 23456\n",
            "  3456\n",
            "   456\n",
            "    56\n",
            "     6\n"
          ],
          "name": "stdout"
        }
      ]
    },
    {
      "cell_type": "code",
      "metadata": {
        "id": "a6s6VA87YFw1",
        "colab_type": "code",
        "outputId": "c4cfef46-7ddd-4e87-dd5c-5ed02288e1c2",
        "colab": {
          "base_uri": "https://localhost:8080/",
          "height": 119
        }
      },
      "source": [
        "n=int(input())\n",
        "i1=n\n",
        "while i1>1:\n",
        "  space1=1\n",
        "  while space1<=i1-2:\n",
        "    print(\" \",end=\"\")\n",
        "    space1=space1+1\n",
        "  k=i1-1\n",
        "  while k<=n:\n",
        "    print(k,end='')\n",
        "    k=k+1\n",
        "  print()\n",
        "  i1=i1-1"
      ],
      "execution_count": 0,
      "outputs": [
        {
          "output_type": "stream",
          "text": [
            "6\n",
            "    56\n",
            "   456\n",
            "  3456\n",
            " 23456\n",
            "123456\n"
          ],
          "name": "stdout"
        }
      ]
    },
    {
      "cell_type": "code",
      "metadata": {
        "id": "V2MKNbJpopl3",
        "colab_type": "code",
        "outputId": "076f2d22-df04-409b-b716-cd0aeb1e2f37",
        "colab": {
          "base_uri": "https://localhost:8080/",
          "height": 221
        }
      },
      "source": [
        "n=int(input())\n",
        "i=1\n",
        "i1=n\n",
        "while i<=n:\n",
        "  space=1\n",
        "  while space<=i-1:\n",
        "    print(\" \",end=\"\")\n",
        "    space=space+1\n",
        "  j=i\n",
        "  while j<=n:\n",
        "    print(j,end='')\n",
        "    j=j+1\n",
        "  print()\n",
        "  i=i+1\n",
        "while i1>1:\n",
        "  space1=1\n",
        "  while space1<=i1-2:\n",
        "    print(\" \",end=\"\")\n",
        "    space1=space1+1\n",
        "  k=i1-1\n",
        "  while k<=n:\n",
        "    print(k,end='')\n",
        "    k=k+1\n",
        "  print()\n",
        "  i1=i1-1\n"
      ],
      "execution_count": 0,
      "outputs": [
        {
          "output_type": "stream",
          "text": [
            "6\n",
            "123456\n",
            " 23456\n",
            "  3456\n",
            "   456\n",
            "    56\n",
            "     6\n",
            "    56\n",
            "   456\n",
            "  3456\n",
            " 23456\n",
            "123456\n"
          ],
          "name": "stdout"
        }
      ]
    },
    {
      "cell_type": "code",
      "metadata": {
        "id": "vSqTPU22n0WF",
        "colab_type": "code",
        "outputId": "188bcf3c-ad9d-415f-9a41-32f3ee2b46ce",
        "colab": {
          "base_uri": "https://localhost:8080/",
          "height": 1000
        }
      },
      "source": [
        "n=int(input())\n",
        "y=1\n",
        "for i in range(n,0,-1):\n",
        "  x=i\n",
        "  z=n\n",
        "  for j in range(1,2*n):\n",
        "    if j>=y and j<=2*n-y:\n",
        "      print(x,end='')\n",
        "    elif j<y:\n",
        "      print(z,end='')\n",
        "      z-=1\n",
        "    else:\n",
        "      print(z+1,end='')\n",
        "      z+=1\n",
        "  y+=1\n",
        "  print()\n",
        "y=n-1\n",
        "for i in range(2,n+1,1):\n",
        "  x=i\n",
        "  z=n\n",
        "  for j in range(1,2*n):\n",
        "    if j>=y and j<=2*n-y:\n",
        "      print(x,end='')\n",
        "    elif j<y:\n",
        "      print(z,end='')\n",
        "      z-=1\n",
        "    else:\n",
        "      print(z+1,end='')\n",
        "      z+=1\n",
        "  y-=1\n",
        "  print()"
      ],
      "execution_count": 0,
      "outputs": [
        {
          "output_type": "stream",
          "text": [
            "4\n",
            "1\n",
            "1\n",
            "42\n",
            "1\n",
            "43\n",
            "1\n",
            "44\n",
            "1\n",
            "45\n",
            "1\n",
            "46\n",
            "1\n",
            "47\n",
            "1\n",
            "4\n",
            "1\n",
            "2\n",
            "42\n",
            "2\n",
            "33\n",
            "2\n",
            "34\n",
            "2\n",
            "35\n",
            "2\n",
            "36\n",
            "2\n",
            "37\n",
            "2\n",
            "4\n",
            "1\n",
            "3\n",
            "42\n",
            "3\n",
            "33\n",
            "3\n",
            "24\n",
            "3\n",
            "25\n",
            "3\n",
            "26\n",
            "3\n",
            "37\n",
            "3\n",
            "4\n",
            "1\n",
            "4\n",
            "42\n",
            "4\n",
            "33\n",
            "4\n",
            "24\n",
            "4\n",
            "15\n",
            "4\n",
            "26\n",
            "4\n",
            "37\n",
            "4\n",
            "4\n",
            "4322234\n",
            "4333334\n",
            "4444444\n"
          ],
          "name": "stdout"
        }
      ]
    },
    {
      "cell_type": "code",
      "metadata": {
        "id": "re2Joww3_iO2",
        "colab_type": "code",
        "outputId": "4c50b65d-75d0-4012-bd72-5211b96971b7",
        "colab": {
          "base_uri": "https://localhost:8080/",
          "height": 34
        }
      },
      "source": [
        "a=14\n",
        "def f():\n",
        "    global a\n",
        "    a=12\n",
        "f()\n",
        "print(a)"
      ],
      "execution_count": 0,
      "outputs": [
        {
          "output_type": "stream",
          "text": [
            "12\n"
          ],
          "name": "stdout"
        }
      ]
    },
    {
      "cell_type": "code",
      "metadata": {
        "id": "WzVqTVUCrqCf",
        "colab_type": "code",
        "outputId": "c3fd9df1-b9af-44f0-981e-28a120902279",
        "colab": {
          "base_uri": "https://localhost:8080/",
          "height": 265
        }
      },
      "source": [
        ""
      ],
      "execution_count": 0,
      "outputs": [
        {
          "output_type": "stream",
          "text": [
            "3\n",
            "[9,8,9]\n"
          ],
          "name": "stdout"
        },
        {
          "output_type": "error",
          "ename": "ValueError",
          "evalue": "ignored",
          "traceback": [
            "\u001b[0;31m---------------------------------------------------------------------------\u001b[0m",
            "\u001b[0;31mValueError\u001b[0m                                Traceback (most recent call last)",
            "\u001b[0;32m<ipython-input-11-2637eb4b59b7>\u001b[0m in \u001b[0;36m<module>\u001b[0;34m()\u001b[0m\n\u001b[1;32m      3\u001b[0m \u001b[0msum\u001b[0m\u001b[0;34m=\u001b[0m\u001b[0;36m0\u001b[0m\u001b[0;34m\u001b[0m\u001b[0;34m\u001b[0m\u001b[0m\n\u001b[1;32m      4\u001b[0m \u001b[0ma\u001b[0m\u001b[0;34m=\u001b[0m\u001b[0;36m0\u001b[0m\u001b[0;34m\u001b[0m\u001b[0;34m\u001b[0m\u001b[0m\n\u001b[0;32m----> 5\u001b[0;31m \u001b[0marr\u001b[0m\u001b[0;34m.\u001b[0m\u001b[0mextend\u001b[0m\u001b[0;34m(\u001b[0m\u001b[0mint\u001b[0m\u001b[0;34m(\u001b[0m\u001b[0minput\u001b[0m\u001b[0;34m(\u001b[0m\u001b[0;34m)\u001b[0m\u001b[0;34m)\u001b[0m\u001b[0;34m)\u001b[0m\u001b[0;34m\u001b[0m\u001b[0;34m\u001b[0m\u001b[0m\n\u001b[0m\u001b[1;32m      6\u001b[0m \u001b[0;32mfor\u001b[0m \u001b[0mele\u001b[0m \u001b[0;32min\u001b[0m \u001b[0marr\u001b[0m\u001b[0;34m:\u001b[0m\u001b[0;34m\u001b[0m\u001b[0;34m\u001b[0m\u001b[0m\n\u001b[1;32m      7\u001b[0m     \u001b[0msum\u001b[0m\u001b[0;34m=\u001b[0m\u001b[0msum\u001b[0m\u001b[0;34m+\u001b[0m\u001b[0mele\u001b[0m\u001b[0;34m\u001b[0m\u001b[0;34m\u001b[0m\u001b[0m\n",
            "\u001b[0;31mValueError\u001b[0m: invalid literal for int() with base 10: '[9,8,9]'"
          ]
        }
      ]
    },
    {
      "cell_type": "code",
      "metadata": {
        "id": "TsPOJ1JIsVlO",
        "colab_type": "code",
        "outputId": "d91d7bb8-9ac6-400b-ded1-980c73e3134a",
        "colab": {
          "base_uri": "https://localhost:8080/",
          "height": 102
        }
      },
      "source": [
        "n=int(input())\n",
        "arr=[]\n",
        "sum=0\n",
        "a=0\n",
        "for i in range(n):\n",
        "    arr.append(int(input()))\n",
        "    for ele in arr:\n",
        "        sum=sum+ele\n",
        "print(sum)"
      ],
      "execution_count": 0,
      "outputs": [
        {
          "output_type": "stream",
          "text": [
            "3\n",
            "9\n",
            "8\n",
            "9\n",
            "52\n"
          ],
          "name": "stdout"
        }
      ]
    },
    {
      "cell_type": "code",
      "metadata": {
        "id": "78GuW7bzxfGN",
        "colab_type": "code",
        "outputId": "a5546a4e-74f9-4930-e348-70e1bd578067",
        "colab": {
          "base_uri": "https://localhost:8080/",
          "height": 68
        }
      },
      "source": [
        "n=int(input())\n",
        "arr=[]\n",
        "sum=0\n",
        "arr=[int(x) for x in input().split()]\n",
        "for ele in arr:\n",
        "    sum=sum+ele\n",
        "print(sum)"
      ],
      "execution_count": 0,
      "outputs": [
        {
          "output_type": "stream",
          "text": [
            "3\n",
            "9 8 9\n",
            "26\n"
          ],
          "name": "stdout"
        }
      ]
    },
    {
      "cell_type": "code",
      "metadata": {
        "id": "S8eE7QozCgcL",
        "colab_type": "code",
        "outputId": "49ddd44f-493b-4b00-df0c-f7ab1b5d05c8",
        "colab": {
          "base_uri": "https://localhost:8080/",
          "height": 68
        }
      },
      "source": [
        "n=int(input())\n",
        "arr=[]\n",
        "arr=[int(x) for x in input().split()]\n",
        "for i in range(n//2):\n",
        "  arr[i+i],arr[i+1+i]=arr[i+1+i],arr[i+i]\n",
        "for ele in arr:\n",
        "  print(ele,end=' ')"
      ],
      "execution_count": 0,
      "outputs": [
        {
          "output_type": "stream",
          "text": [
            "9\n",
            "9 3 6 12 4 32 5 11 19\n",
            "3 9 12 6 32 4 11 5 19 "
          ],
          "name": "stdout"
        }
      ]
    },
    {
      "cell_type": "code",
      "metadata": {
        "id": "MzQIGqah3Z8G",
        "colab_type": "code",
        "outputId": "a21ce9cb-5c0b-411f-a287-dfcbb5dc1ed5",
        "colab": {
          "base_uri": "https://localhost:8080/",
          "height": 68
        }
      },
      "source": [
        "n=int(input())\n",
        "arr=[int(x) for x in input().split()]\n",
        "for i in range(n):\n",
        "  uni=arr[i]\n",
        "  for j in range(n):\n",
        "    if i==j:\n",
        "      continue\n",
        "    elif arr[j]==uni:\n",
        "      break\n",
        "  else:\n",
        "    print(uni)\n"
      ],
      "execution_count": 0,
      "outputs": [
        {
          "output_type": "stream",
          "text": [
            "7\n",
            "2 3 1 6 3 6 2\n",
            "1\n"
          ],
          "name": "stdout"
        }
      ]
    },
    {
      "cell_type": "code",
      "metadata": {
        "id": "J5I3tCtlbW3e",
        "colab_type": "code",
        "outputId": "5ce7a472-970e-47b1-90da-bf4700f8863d",
        "colab": {
          "base_uri": "https://localhost:8080/",
          "height": 187
        }
      },
      "source": [
        "n = int(input())\n",
        "arr = [int(x) for x in input().split()]\n",
        "x = int(input())\n",
        "for i in range(n+1):\n",
        "  for j in range(i+1,n):\n",
        "    if arr[i]+arr[j]==x:\n",
        "      if arr[i]>arr[j]:\n",
        "        print(arr[j],arr[i])\n",
        "      else:\n",
        "        print(arr[i],arr[j])"
      ],
      "execution_count": 0,
      "outputs": [
        {
          "output_type": "stream",
          "text": [
            "9\n",
            "1 3 6 2 5 4 3 2 4\n",
            "7\n",
            "1 6\n",
            "3 4\n",
            "3 4\n",
            "2 5\n",
            "2 5\n",
            "3 4\n",
            "3 4\n"
          ],
          "name": "stdout"
        }
      ]
    },
    {
      "cell_type": "code",
      "metadata": {
        "id": "vfXGCgaTDuyG",
        "colab_type": "code",
        "outputId": "183e97db-9f2d-4587-bd83-4b957dbc3e65",
        "colab": {
          "base_uri": "https://localhost:8080/",
          "height": 153
        }
      },
      "source": [
        "## Read input as specified in the question.\n",
        "## Print output as specified in the question.\n",
        "n = int(input())\n",
        "arr = [int(x) for x in input().split()]\n",
        "x = int(input())\n",
        "arr.sort()\n",
        "for i in range(n):\n",
        "  for j in range(i+1,n):\n",
        "    for k in range(j+1,n):\n",
        "      if arr[i]+(arr[j]+arr[k])==x:\n",
        "        print(arr[i],arr[j],arr[k])"
      ],
      "execution_count": 0,
      "outputs": [
        {
          "output_type": "stream",
          "text": [
            "7\n",
            "1 2 3 4 5 6 7\n",
            "12\n",
            "1 4 7\n",
            "1 5 6\n",
            "2 3 7\n",
            "2 4 6\n",
            "3 4 5\n"
          ],
          "name": "stdout"
        }
      ]
    },
    {
      "cell_type": "code",
      "metadata": {
        "id": "z_c4OtBUKWt-",
        "colab_type": "code",
        "outputId": "b1009f58-0307-43bd-b996-e7c081411a56",
        "colab": {
          "base_uri": "https://localhost:8080/",
          "height": 68
        }
      },
      "source": [
        "n = int(input())\n",
        "arr = [int(x) for x in input().split()]\n",
        "start =0\n",
        "end=len(arr)-1\n",
        "print(end)\n",
        "while start<end:\n",
        "  if arr[start]==0:\n",
        "    start=start+1\n",
        "  if arr[end]==1:\n",
        "    end=end-1\n",
        "  else:\n",
        "    arr[start],arr[end]=arr[end],arr[start]\n",
        "\n",
        "\n"
      ],
      "execution_count": 0,
      "outputs": [
        {
          "output_type": "stream",
          "text": [
            "4\n",
            "1001\n",
            "[1001]\n"
          ],
          "name": "stdout"
        }
      ]
    },
    {
      "cell_type": "code",
      "metadata": {
        "id": "yFYCF5OHqSdN",
        "colab_type": "code",
        "outputId": "cb12911f-d122-4909-cac5-fe0862082742",
        "colab": {
          "base_uri": "https://localhost:8080/",
          "height": 68
        }
      },
      "source": [
        "n=int(input())\n",
        "arr=[int(x) for x in input().split()]\n",
        "flag=False\n",
        "for i in range(n):\n",
        "  uni=arr[i]\n",
        "  for j in range(n):\n",
        "    if i==j:\n",
        "      continue\n",
        "    elif arr[j]==uni:\n",
        "      print(uni)\n",
        "      flag=True\n",
        "      break\n",
        "  if flag:\n",
        "    break"
      ],
      "execution_count": 0,
      "outputs": [
        {
          "output_type": "stream",
          "text": [
            "9\n",
            "0 7 2 5 4 7 1 3 6\n",
            "7\n"
          ],
          "name": "stdout"
        }
      ]
    },
    {
      "cell_type": "code",
      "metadata": {
        "id": "W_mJuhsQZ_pP",
        "colab_type": "code",
        "colab": {}
      },
      "source": [
        ""
      ],
      "execution_count": 0,
      "outputs": []
    },
    {
      "cell_type": "code",
      "metadata": {
        "id": "gTeigeqGqX6m",
        "colab_type": "code",
        "outputId": "f71e8138-9902-45bf-aa2c-0bfaa0f48082",
        "colab": {
          "base_uri": "https://localhost:8080/",
          "height": 153
        }
      },
      "source": [
        "n1 = int(input())\n",
        "arr1 = [int(x) for x in input().split()]\n",
        "n2 = int(input())\n",
        "arr2 = [int(x) for x in input().split()]\n",
        "\n",
        "c=[]\n",
        "for i in range(len(arr1)):\n",
        "    for j in range(len(arr2)):\n",
        "        if arr1[i]==arr2[j]:\n",
        "            print(arr1[i])\n",
        "            arr2.pop(j)\n",
        "            break"
      ],
      "execution_count": 0,
      "outputs": [
        {
          "output_type": "stream",
          "text": [
            "7\n",
            "1 4 7 2 5 8 7\n",
            "4\n",
            "2 7 4 1\n",
            "1\n",
            "4\n",
            "7\n",
            "2\n"
          ],
          "name": "stdout"
        }
      ]
    },
    {
      "cell_type": "markdown",
      "metadata": {
        "id": "F3wHkZPhK4bb",
        "colab_type": "text"
      },
      "source": [
        "# **Revise it again**"
      ]
    },
    {
      "cell_type": "code",
      "metadata": {
        "id": "UdlaVQXmaA_T",
        "colab_type": "code",
        "outputId": "91c98e08-b140-47d6-f96b-7d28ee59b475",
        "colab": {
          "base_uri": "https://localhost:8080/",
          "height": 68
        }
      },
      "source": [
        "n = int(input())\n",
        "arr = [int(x) for x in input().split()]\n",
        "start=0\n",
        "end=n-1\n",
        "while start<end:\n",
        "    while (arr[start]==0 and start<end):\n",
        "        start=start+1\n",
        "    while (arr[end]==1 and start<end):\n",
        "        end-=1\n",
        "    if start<end:\n",
        "        arr[start],arr[end]=arr[end],arr[start]\n",
        "        start+=1\n",
        "        end-=1\n",
        "print(*arr)"
      ],
      "execution_count": 0,
      "outputs": [
        {
          "output_type": "stream",
          "text": [
            "7\n",
            "0 1 1 0 1 0 1\n",
            "0 0 0 1 1 1 1\n"
          ],
          "name": "stdout"
        }
      ]
    },
    {
      "cell_type": "code",
      "metadata": {
        "id": "JSvtKR1YsE7v",
        "colab_type": "code",
        "outputId": "7b21b1c8-841a-42a1-d38f-48aa4b4df242",
        "colab": {
          "base_uri": "https://localhost:8080/",
          "height": 85
        }
      },
      "source": [
        "n = int(input())\n",
        "arr = [int(x) for x in input().split()]\n",
        "x = int(input())\n",
        "start=0\n",
        "end=n-1\n",
        "while start<=end:\n",
        "  mid = (start+end)// 2\n",
        "  if arr[mid]==x:\n",
        "    print(mid)\n",
        "    break\n",
        "  elif arr[mid]<x:\n",
        "    start=mid+1\n",
        "  else:\n",
        "    end=mid-1\n",
        "else:\n",
        "  print(-1)"
      ],
      "execution_count": 0,
      "outputs": [
        {
          "output_type": "stream",
          "text": [
            "6\n",
            "1 2 3 4 5 6\n",
            "3\n",
            "2\n"
          ],
          "name": "stdout"
        }
      ]
    },
    {
      "cell_type": "code",
      "metadata": {
        "id": "hoAzQaGkVP4g",
        "colab_type": "code",
        "outputId": "46cadc49-ece9-4c08-9fb2-f06726e7270b",
        "colab": {
          "base_uri": "https://localhost:8080/",
          "height": 85
        }
      },
      "source": [
        "n = int(input())\n",
        "arr = [int(x) for x in input().split()]\n",
        "s = int(input())\n",
        "mid=3\n",
        "print(arr[mid])"
      ],
      "execution_count": 0,
      "outputs": [
        {
          "output_type": "stream",
          "text": [
            "6\n",
            "1 3 7 9 11 45\n",
            "3\n",
            "9\n"
          ],
          "name": "stdout"
        }
      ]
    },
    {
      "cell_type": "markdown",
      "metadata": {
        "id": "fRQzIiFMtmFy",
        "colab_type": "text"
      },
      "source": [
        "**Bubble sort**"
      ]
    },
    {
      "cell_type": "code",
      "metadata": {
        "id": "cSH8kF-IAsdl",
        "colab_type": "code",
        "outputId": "666babac-c43c-4d46-da02-c5eda8dcf917",
        "colab": {
          "base_uri": "https://localhost:8080/",
          "height": 68
        }
      },
      "source": [
        "n = int(input())\n",
        "arr = [int(x) for x in input().split()]\n",
        "for i in range(n):\n",
        "  for j in range(n-i-1):\n",
        "    if arr[j]>arr[j+1]:\n",
        "      arr[j],arr[j+1]=arr[j+1],arr[j]\n",
        "print(*arr)"
      ],
      "execution_count": 0,
      "outputs": [
        {
          "output_type": "stream",
          "text": [
            "7\n",
            "2 5 8 99 12 45 0\n",
            "0 2 5 8 12 45 99\n"
          ],
          "name": "stdout"
        }
      ]
    },
    {
      "cell_type": "markdown",
      "metadata": {
        "id": "ZK89b9FS0qEZ",
        "colab_type": "text"
      },
      "source": [
        "# **Insertion Sort**\n",
        "# **Revise it again**"
      ]
    },
    {
      "cell_type": "code",
      "metadata": {
        "id": "lLt_Ulgbq5wz",
        "colab_type": "code",
        "outputId": "d7dbe372-408d-40bb-93b4-bb9ee49f8307",
        "colab": {
          "base_uri": "https://localhost:8080/",
          "height": 68
        }
      },
      "source": [
        "n = int(input())\n",
        "arr = [int(x) for x in input().split()]\n",
        "for i in range(n):\n",
        "  j=i-1\n",
        "  temp=arr[i]\n",
        "  #shiftinG till position hold\n",
        "  while(j>=0 and arr[j]>temp):\n",
        "    arr[j+1]=arr[j]\n",
        "    j=j-1\n",
        "  #correct position for ith element\n",
        "  arr[j+1]=temp\n",
        "print(*arr)"
      ],
      "execution_count": 0,
      "outputs": [
        {
          "output_type": "stream",
          "text": [
            "5\n",
            "7 2 1 8 4\n",
            "1 2 4 7 8\n"
          ],
          "name": "stdout"
        }
      ]
    },
    {
      "cell_type": "markdown",
      "metadata": {
        "id": "lxUuEXOaKqD8",
        "colab_type": "text"
      },
      "source": [
        "**Merge Sort**"
      ]
    },
    {
      "cell_type": "code",
      "metadata": {
        "id": "sZ1TeydJGIas",
        "colab_type": "code",
        "outputId": "3728f5c3-073f-4bb9-98de-96d73c36a70a",
        "colab": {
          "base_uri": "https://localhost:8080/",
          "height": 102
        }
      },
      "source": [
        "## Read input as specified in the question.\n",
        "## Print output as specified in the question.\n",
        "n = int(input())\n",
        "arr1 = [int(x) for x in input().split()]\n",
        "m = int(input())\n",
        "arr2 = [int(x) for x in input().split()]\n",
        "arr3=[]\n",
        "len1=len(arr1)\n",
        "len2=len(arr2)\n",
        "i=0\n",
        "j=0\n",
        "while ((i < len1) and (j< len2)):\n",
        "  if arr1[i]<arr2[j]:\n",
        "    arr3.append(arr1[i])\n",
        "    i=i+1\n",
        "  else:\n",
        "    arr3.append(arr2[j])\n",
        "    j=j+1\n",
        "while i<len1:\n",
        "  arr3.append(arr1[i])\n",
        "  i=i+1\n",
        "while j<len2:\n",
        "  arr3.append(arr2[j])\n",
        "  j=j+1\n",
        "\n",
        "print(*arr3)\n"
      ],
      "execution_count": 0,
      "outputs": [
        {
          "output_type": "stream",
          "text": [
            "4\n",
            "1 0 8 7\n",
            "4\n",
            "45 6 2 3\n",
            "1 0 8 7 45 6 2 3\n"
          ],
          "name": "stdout"
        }
      ]
    },
    {
      "cell_type": "code",
      "metadata": {
        "id": "g-MEykKaTNEE",
        "colab_type": "code",
        "outputId": "3f0330ed-f6bd-4dd8-9b8a-52fa7ff48f1a",
        "colab": {
          "base_uri": "https://localhost:8080/",
          "height": 68
        }
      },
      "source": [
        "n = int(input())\n",
        "arr = [int(x) for x in input().split()]\n",
        "for i in range(n):\n",
        "  for j in range(n-i-1):\n",
        "    if arr[j]>arr[j+1]:\n",
        "      arr[j],arr[j+1]=arr[j+1],arr[j]\n",
        "print(str(arr[-2]))"
      ],
      "execution_count": 0,
      "outputs": [
        {
          "output_type": "stream",
          "text": [
            "7\n",
            "2 13 4 1 3 6 28\n",
            "13\n"
          ],
          "name": "stdout"
        }
      ]
    },
    {
      "cell_type": "code",
      "metadata": {
        "id": "FuxZS6eoIuLs",
        "colab_type": "code",
        "outputId": "d2262632-911e-4ff5-d7de-1598ecd2d909",
        "colab": {
          "base_uri": "https://localhost:8080/",
          "height": 68
        }
      },
      "source": [
        "n=int(input())\n",
        "arr=[int(x) for x in input().split()]\n",
        "i=0\n",
        "k=0\n",
        "while i<n-1:\n",
        "  if arr[i]!=0 and arr[k]!=0:\n",
        "    i=i+1\n",
        "    k=k+1\n",
        "  elif arr[i]!=0 and arr[k]==0:\n",
        "    arr[i],arr[k]=arr[k],arr[i]\n",
        "    k=k+1\n",
        "    i=i+1\n",
        "  if arr[i]==0 and n>i:\n",
        "    i=i+1\n",
        "print(*arr)"
      ],
      "execution_count": 0,
      "outputs": [
        {
          "output_type": "stream",
          "text": [
            "7\n",
            "2 0 4 1 3 0 28\n",
            "2 4 1 3 0 0 28\n"
          ],
          "name": "stdout"
        }
      ]
    },
    {
      "cell_type": "code",
      "metadata": {
        "id": "qVCrFUW-SuqD",
        "colab_type": "code",
        "outputId": "54b05d2c-8935-423f-9a9a-8da95c2c3e25",
        "colab": {
          "base_uri": "https://localhost:8080/",
          "height": 85
        }
      },
      "source": [
        "n=int(input())\n",
        "arr1=list(int(i) for i in input().strip().split(' '))\n",
        "m=int(input())\n",
        "arr2=[]\n",
        "arr3=[]\n",
        "for i in range(m):\n",
        "  arr2.append(arr1[i])\n",
        "for j in range(n-m):\n",
        "  arr3.append(arr1[j+m])\n",
        "arr=arr3+arr2\n",
        "print(*arr)\n"
      ],
      "execution_count": 0,
      "outputs": [
        {
          "output_type": "stream",
          "text": [
            "7\n",
            "1 2 3 4 5 6 7\n",
            "2\n",
            "3 4 5 6 7 1 2\n"
          ],
          "name": "stdout"
        }
      ]
    },
    {
      "cell_type": "code",
      "metadata": {
        "id": "D2sXeq1sxAmm",
        "colab_type": "code",
        "outputId": "a1ebddce-880f-4427-c13e-27cd4dd7a9f3",
        "colab": {
          "base_uri": "https://localhost:8080/",
          "height": 85
        }
      },
      "source": [
        "def Rotate(arr, d):\n",
        "    arr2=[]\n",
        "    arr3=[]\n",
        "    arr.reverse()\n",
        "    for i in range(d):\n",
        "        arr2.append(arr[i])\n",
        "    for j in range(n-d):\n",
        "        arr3.append(arr[j+d])\n",
        "    arr4=arr3+arr2\n",
        "    arr=arr4\n",
        "    return arr\n",
        "# Main\n",
        "n=int(input())\n",
        "arr=list(int(i) for i in input().strip().split(' '))\n",
        "d=int(input())\n",
        "Rotate(arr, d)\n",
        "print(*arr)\n"
      ],
      "execution_count": 0,
      "outputs": [
        {
          "output_type": "stream",
          "text": [
            "7\n",
            "1 2 3 4 5 6 7\n",
            "2\n",
            "1 2 3 4 5 6 7\n"
          ],
          "name": "stdout"
        }
      ]
    },
    {
      "cell_type": "markdown",
      "metadata": {
        "id": "i1a4e6uOpFRr",
        "colab_type": "text"
      },
      "source": [
        "# **Check this once again some test cases not running**"
      ]
    },
    {
      "cell_type": "code",
      "metadata": {
        "id": "Yh-Ek61T4I3-",
        "colab_type": "code",
        "outputId": "e3839e3d-6bd5-4d74-aa24-2e605922d8d2",
        "colab": {
          "base_uri": "https://localhost:8080/",
          "height": 68
        }
      },
      "source": [
        "n=int(input())\n",
        "arr=[int(x) for x in input().split()]\n",
        "l=-2147483648\n",
        "s=-2147483648\n",
        "i=0\n",
        "while i<n:\n",
        "  if arr[i]>l:\n",
        "    s=l\n",
        "    l=arr[i]\n",
        "    i+=1\n",
        "  if arr[i]>s and arr[i]!=l:\n",
        "    s=arr[i]\n",
        "    i+=1\n",
        "  else:\n",
        "    i+=1\n",
        "print(s)"
      ],
      "execution_count": 0,
      "outputs": [
        {
          "output_type": "stream",
          "text": [
            "5\n",
            "13 2 4 6 2\n",
            "6\n"
          ],
          "name": "stdout"
        }
      ]
    },
    {
      "cell_type": "code",
      "metadata": {
        "id": "lbP6k3jYfczJ",
        "colab_type": "code",
        "outputId": "16eeed60-bf42-4803-df38-4ad7db60a0e9",
        "colab": {
          "base_uri": "https://localhost:8080/",
          "height": 102
        }
      },
      "source": [
        "n=int(input())\n",
        "arr1=[int(x) for x in input().split()]\n",
        "m=int(input())\n",
        "arr2=[int(x) for x in input().split()]\n",
        "i=n-1\n",
        "j=m-1\n",
        "num=0\n",
        "carry=0\n",
        "arr3=[]\n",
        "while i>=0 and j>=0:\n",
        "  num=arr1[i]+arr2[j]+carry\n",
        "  i-=1\n",
        "  j-=1\n",
        "  if num>9:\n",
        "    n1=num%10\n",
        "    arr3.append(n1)\n",
        "    carry=num//10\n",
        "    if i==-1 and j==-1:\n",
        "      arr3.append(carry)\n",
        "  else:\n",
        "     arr3.append(num)\n",
        "     carry=0\n",
        "  while i>=0 and j==-1:\n",
        "    num=arr1[i]+carry\n",
        "    i-=1\n",
        "    if num>9:\n",
        "      n1=num%10\n",
        "      arr3.append(n1)\n",
        "      carry=num//10\n",
        "      if i==-1:\n",
        "        arr3.append(0)\n",
        "    else:\n",
        "      arr3.append(num)\n",
        "      carry=0\n",
        "arr3.reverse()\n",
        "print(*arr3)"
      ],
      "execution_count": 0,
      "outputs": [
        {
          "output_type": "stream",
          "text": [
            "3\n",
            "8 5 2\n",
            "2\n",
            "1 2\n",
            "8 6 4\n"
          ],
          "name": "stdout"
        }
      ]
    },
    {
      "cell_type": "markdown",
      "metadata": {
        "id": "03KjKlfbhiIi",
        "colab_type": "text"
      },
      "source": [
        "# **More refined list addition do revise it**"
      ]
    },
    {
      "cell_type": "code",
      "metadata": {
        "id": "YApLVI9GfdY8",
        "colab_type": "code",
        "outputId": "3f93806e-990a-43e0-f304-6ec74e2228ac",
        "colab": {
          "base_uri": "https://localhost:8080/",
          "height": 561
        }
      },
      "source": [
        "def arr(li,i,j):\n",
        "    for k in range(j-i):\n",
        "        li.insert(k,0)\n",
        "        print(li)\n",
        "    return li\n",
        "def sum(li1,li2):\n",
        "    i=len(li1)\n",
        "    k=i+1\n",
        "    o_li=[]\n",
        "    for k in range(k):\n",
        "        o_li.append(0)\n",
        "    carry=0\n",
        "    for p in range(i-1,-1,-1):\n",
        "        while k>=0:\n",
        "            sum=li1[p]+li2[p]+carry\n",
        "            o_li[k]=sum%10\n",
        "            carry=sum//10\n",
        "            k-=1\n",
        "            break\n",
        "    return o_li\n",
        "n1=int(input())\n",
        "li1=[int(x) for x in input().split()]\n",
        "i=len(li1)\n",
        "n2=int(input())\n",
        "li2=[int(y) for y in input().split()]\n",
        "j=len(li2)\n",
        "if i>j:\n",
        "    li2=arr(li2,j,i)\n",
        "if i<j:\n",
        "    li1=arr(li1,i,j)\n",
        "sum_list=sum(li1,li2)\n",
        "\n",
        "\n",
        "for k in range(len(sum_list)):\n",
        "    print(sum_list[k],end=' ')"
      ],
      "execution_count": 0,
      "outputs": [
        {
          "output_type": "stream",
          "text": [
            "4\n",
            "1 0 2 1\n"
          ],
          "name": "stdout"
        },
        {
          "output_type": "error",
          "ename": "KeyboardInterrupt",
          "evalue": "ignored",
          "traceback": [
            "\u001b[0;31m---------------------------------------------------------------------------\u001b[0m",
            "\u001b[0;31mKeyboardInterrupt\u001b[0m                         Traceback (most recent call last)",
            "\u001b[0;32m/usr/local/lib/python3.6/dist-packages/ipykernel/kernelbase.py\u001b[0m in \u001b[0;36m_input_request\u001b[0;34m(self, prompt, ident, parent, password)\u001b[0m\n\u001b[1;32m    729\u001b[0m             \u001b[0;32mtry\u001b[0m\u001b[0;34m:\u001b[0m\u001b[0;34m\u001b[0m\u001b[0;34m\u001b[0m\u001b[0m\n\u001b[0;32m--> 730\u001b[0;31m                 \u001b[0mident\u001b[0m\u001b[0;34m,\u001b[0m \u001b[0mreply\u001b[0m \u001b[0;34m=\u001b[0m \u001b[0mself\u001b[0m\u001b[0;34m.\u001b[0m\u001b[0msession\u001b[0m\u001b[0;34m.\u001b[0m\u001b[0mrecv\u001b[0m\u001b[0;34m(\u001b[0m\u001b[0mself\u001b[0m\u001b[0;34m.\u001b[0m\u001b[0mstdin_socket\u001b[0m\u001b[0;34m,\u001b[0m \u001b[0;36m0\u001b[0m\u001b[0;34m)\u001b[0m\u001b[0;34m\u001b[0m\u001b[0;34m\u001b[0m\u001b[0m\n\u001b[0m\u001b[1;32m    731\u001b[0m             \u001b[0;32mexcept\u001b[0m \u001b[0mException\u001b[0m\u001b[0;34m:\u001b[0m\u001b[0;34m\u001b[0m\u001b[0;34m\u001b[0m\u001b[0m\n",
            "\u001b[0;32m/usr/local/lib/python3.6/dist-packages/jupyter_client/session.py\u001b[0m in \u001b[0;36mrecv\u001b[0;34m(self, socket, mode, content, copy)\u001b[0m\n\u001b[1;32m    802\u001b[0m         \u001b[0;32mtry\u001b[0m\u001b[0;34m:\u001b[0m\u001b[0;34m\u001b[0m\u001b[0;34m\u001b[0m\u001b[0m\n\u001b[0;32m--> 803\u001b[0;31m             \u001b[0mmsg_list\u001b[0m \u001b[0;34m=\u001b[0m \u001b[0msocket\u001b[0m\u001b[0;34m.\u001b[0m\u001b[0mrecv_multipart\u001b[0m\u001b[0;34m(\u001b[0m\u001b[0mmode\u001b[0m\u001b[0;34m,\u001b[0m \u001b[0mcopy\u001b[0m\u001b[0;34m=\u001b[0m\u001b[0mcopy\u001b[0m\u001b[0;34m)\u001b[0m\u001b[0;34m\u001b[0m\u001b[0;34m\u001b[0m\u001b[0m\n\u001b[0m\u001b[1;32m    804\u001b[0m         \u001b[0;32mexcept\u001b[0m \u001b[0mzmq\u001b[0m\u001b[0;34m.\u001b[0m\u001b[0mZMQError\u001b[0m \u001b[0;32mas\u001b[0m \u001b[0me\u001b[0m\u001b[0;34m:\u001b[0m\u001b[0;34m\u001b[0m\u001b[0;34m\u001b[0m\u001b[0m\n",
            "\u001b[0;32m/usr/local/lib/python3.6/dist-packages/zmq/sugar/socket.py\u001b[0m in \u001b[0;36mrecv_multipart\u001b[0;34m(self, flags, copy, track)\u001b[0m\n\u001b[1;32m    465\u001b[0m         \"\"\"\n\u001b[0;32m--> 466\u001b[0;31m         \u001b[0mparts\u001b[0m \u001b[0;34m=\u001b[0m \u001b[0;34m[\u001b[0m\u001b[0mself\u001b[0m\u001b[0;34m.\u001b[0m\u001b[0mrecv\u001b[0m\u001b[0;34m(\u001b[0m\u001b[0mflags\u001b[0m\u001b[0;34m,\u001b[0m \u001b[0mcopy\u001b[0m\u001b[0;34m=\u001b[0m\u001b[0mcopy\u001b[0m\u001b[0;34m,\u001b[0m \u001b[0mtrack\u001b[0m\u001b[0;34m=\u001b[0m\u001b[0mtrack\u001b[0m\u001b[0;34m)\u001b[0m\u001b[0;34m]\u001b[0m\u001b[0;34m\u001b[0m\u001b[0;34m\u001b[0m\u001b[0m\n\u001b[0m\u001b[1;32m    467\u001b[0m         \u001b[0;31m# have first part already, only loop while more to receive\u001b[0m\u001b[0;34m\u001b[0m\u001b[0;34m\u001b[0m\u001b[0;34m\u001b[0m\u001b[0m\n",
            "\u001b[0;32mzmq/backend/cython/socket.pyx\u001b[0m in \u001b[0;36mzmq.backend.cython.socket.Socket.recv\u001b[0;34m()\u001b[0m\n",
            "\u001b[0;32mzmq/backend/cython/socket.pyx\u001b[0m in \u001b[0;36mzmq.backend.cython.socket.Socket.recv\u001b[0;34m()\u001b[0m\n",
            "\u001b[0;32mzmq/backend/cython/socket.pyx\u001b[0m in \u001b[0;36mzmq.backend.cython.socket._recv_copy\u001b[0;34m()\u001b[0m\n",
            "\u001b[0;32m/usr/local/lib/python3.6/dist-packages/zmq/backend/cython/checkrc.pxd\u001b[0m in \u001b[0;36mzmq.backend.cython.checkrc._check_rc\u001b[0;34m()\u001b[0m\n",
            "\u001b[0;31mKeyboardInterrupt\u001b[0m: ",
            "\nDuring handling of the above exception, another exception occurred:\n",
            "\u001b[0;31mKeyboardInterrupt\u001b[0m                         Traceback (most recent call last)",
            "\u001b[0;32m<ipython-input-26-73d3e5b29e97>\u001b[0m in \u001b[0;36m<module>\u001b[0;34m()\u001b[0m\n\u001b[1;32m     22\u001b[0m \u001b[0mli1\u001b[0m\u001b[0;34m=\u001b[0m\u001b[0;34m[\u001b[0m\u001b[0mint\u001b[0m\u001b[0;34m(\u001b[0m\u001b[0mx\u001b[0m\u001b[0;34m)\u001b[0m \u001b[0;32mfor\u001b[0m \u001b[0mx\u001b[0m \u001b[0;32min\u001b[0m \u001b[0minput\u001b[0m\u001b[0;34m(\u001b[0m\u001b[0;34m)\u001b[0m\u001b[0;34m.\u001b[0m\u001b[0msplit\u001b[0m\u001b[0;34m(\u001b[0m\u001b[0;34m)\u001b[0m\u001b[0;34m]\u001b[0m\u001b[0;34m\u001b[0m\u001b[0;34m\u001b[0m\u001b[0m\n\u001b[1;32m     23\u001b[0m \u001b[0mi\u001b[0m\u001b[0;34m=\u001b[0m\u001b[0mlen\u001b[0m\u001b[0;34m(\u001b[0m\u001b[0mli1\u001b[0m\u001b[0;34m)\u001b[0m\u001b[0;34m\u001b[0m\u001b[0;34m\u001b[0m\u001b[0m\n\u001b[0;32m---> 24\u001b[0;31m \u001b[0mn2\u001b[0m\u001b[0;34m=\u001b[0m\u001b[0mint\u001b[0m\u001b[0;34m(\u001b[0m\u001b[0minput\u001b[0m\u001b[0;34m(\u001b[0m\u001b[0;34m)\u001b[0m\u001b[0;34m)\u001b[0m\u001b[0;34m\u001b[0m\u001b[0;34m\u001b[0m\u001b[0m\n\u001b[0m\u001b[1;32m     25\u001b[0m \u001b[0mli2\u001b[0m\u001b[0;34m=\u001b[0m\u001b[0;34m[\u001b[0m\u001b[0mint\u001b[0m\u001b[0;34m(\u001b[0m\u001b[0my\u001b[0m\u001b[0;34m)\u001b[0m \u001b[0;32mfor\u001b[0m \u001b[0my\u001b[0m \u001b[0;32min\u001b[0m \u001b[0minput\u001b[0m\u001b[0;34m(\u001b[0m\u001b[0;34m)\u001b[0m\u001b[0;34m.\u001b[0m\u001b[0msplit\u001b[0m\u001b[0;34m(\u001b[0m\u001b[0;34m)\u001b[0m\u001b[0;34m]\u001b[0m\u001b[0;34m\u001b[0m\u001b[0;34m\u001b[0m\u001b[0m\n\u001b[1;32m     26\u001b[0m \u001b[0mj\u001b[0m\u001b[0;34m=\u001b[0m\u001b[0mlen\u001b[0m\u001b[0;34m(\u001b[0m\u001b[0mli2\u001b[0m\u001b[0;34m)\u001b[0m\u001b[0;34m\u001b[0m\u001b[0;34m\u001b[0m\u001b[0m\n",
            "\u001b[0;32m/usr/local/lib/python3.6/dist-packages/ipykernel/kernelbase.py\u001b[0m in \u001b[0;36mraw_input\u001b[0;34m(self, prompt)\u001b[0m\n\u001b[1;32m    703\u001b[0m             \u001b[0mself\u001b[0m\u001b[0;34m.\u001b[0m\u001b[0m_parent_ident\u001b[0m\u001b[0;34m,\u001b[0m\u001b[0;34m\u001b[0m\u001b[0;34m\u001b[0m\u001b[0m\n\u001b[1;32m    704\u001b[0m             \u001b[0mself\u001b[0m\u001b[0;34m.\u001b[0m\u001b[0m_parent_header\u001b[0m\u001b[0;34m,\u001b[0m\u001b[0;34m\u001b[0m\u001b[0;34m\u001b[0m\u001b[0m\n\u001b[0;32m--> 705\u001b[0;31m             \u001b[0mpassword\u001b[0m\u001b[0;34m=\u001b[0m\u001b[0;32mFalse\u001b[0m\u001b[0;34m,\u001b[0m\u001b[0;34m\u001b[0m\u001b[0;34m\u001b[0m\u001b[0m\n\u001b[0m\u001b[1;32m    706\u001b[0m         )\n\u001b[1;32m    707\u001b[0m \u001b[0;34m\u001b[0m\u001b[0m\n",
            "\u001b[0;32m/usr/local/lib/python3.6/dist-packages/ipykernel/kernelbase.py\u001b[0m in \u001b[0;36m_input_request\u001b[0;34m(self, prompt, ident, parent, password)\u001b[0m\n\u001b[1;32m    733\u001b[0m             \u001b[0;32mexcept\u001b[0m \u001b[0mKeyboardInterrupt\u001b[0m\u001b[0;34m:\u001b[0m\u001b[0;34m\u001b[0m\u001b[0;34m\u001b[0m\u001b[0m\n\u001b[1;32m    734\u001b[0m                 \u001b[0;31m# re-raise KeyboardInterrupt, to truncate traceback\u001b[0m\u001b[0;34m\u001b[0m\u001b[0;34m\u001b[0m\u001b[0;34m\u001b[0m\u001b[0m\n\u001b[0;32m--> 735\u001b[0;31m                 \u001b[0;32mraise\u001b[0m \u001b[0mKeyboardInterrupt\u001b[0m\u001b[0;34m\u001b[0m\u001b[0;34m\u001b[0m\u001b[0m\n\u001b[0m\u001b[1;32m    736\u001b[0m             \u001b[0;32melse\u001b[0m\u001b[0;34m:\u001b[0m\u001b[0;34m\u001b[0m\u001b[0;34m\u001b[0m\u001b[0m\n\u001b[1;32m    737\u001b[0m                 \u001b[0;32mbreak\u001b[0m\u001b[0;34m\u001b[0m\u001b[0;34m\u001b[0m\u001b[0m\n",
            "\u001b[0;31mKeyboardInterrupt\u001b[0m: "
          ]
        }
      ]
    },
    {
      "cell_type": "markdown",
      "metadata": {
        "id": "zlZMuO5bsJam",
        "colab_type": "text"
      },
      "source": [
        ""
      ]
    },
    {
      "cell_type": "code",
      "metadata": {
        "id": "-kDINa70EC4d",
        "colab_type": "code",
        "outputId": "de1efebb-9384-47bc-d361-509b65d45d04",
        "colab": {
          "base_uri": "https://localhost:8080/",
          "height": 68
        }
      },
      "source": [
        "n=int(input())\n",
        "arr=[int(x) for x in input().split()]\n",
        "i=0\n",
        "nz=0\n",
        "nt=n-1\n",
        "while i<n-1:\n",
        "    if arr[i] == 1:\n",
        "        i+=1\n",
        "    elif arr[i] == 0 and i>=nz:\n",
        "        arr[i],arr[nz] = arr[nz],arr[i]\n",
        "        nz+=1\n",
        "    elif arr[i] == 2 and i<=nt:\n",
        "        arr[i],arr[nt] = arr[nt],arr[i]\n",
        "        nt-=1\n",
        "    else:\n",
        "        i+=1\n",
        "print(*arr)\n",
        "  \n"
      ],
      "execution_count": 0,
      "outputs": [
        {
          "output_type": "stream",
          "text": [
            "7\n",
            "0 1 2 0 2 0 1\n",
            "0 0 0 1 1 2 2\n"
          ],
          "name": "stdout"
        }
      ]
    },
    {
      "cell_type": "code",
      "metadata": {
        "id": "RGVrVaAOtuDb",
        "colab_type": "code",
        "outputId": "2b024c4a-4194-4b1c-8a11-ac316ee61ae3",
        "colab": {
          "base_uri": "https://localhost:8080/",
          "height": 119
        }
      },
      "source": [
        ""
      ],
      "execution_count": 0,
      "outputs": [
        {
          "output_type": "stream",
          "text": [
            "6\n",
            "5 6 1 2 3 4\n",
            "5 6 1 2 3 4\n",
            "6 5 4 3 2 1\n",
            "0\n",
            "0\n"
          ],
          "name": "stdout"
        }
      ]
    },
    {
      "cell_type": "code",
      "metadata": {
        "id": "w6MdxJbhjzSK",
        "colab_type": "code",
        "outputId": "d382f4dc-c5ce-4529-f608-47779d74ee17",
        "colab": {
          "base_uri": "https://localhost:8080/",
          "height": 34
        }
      },
      "source": [
        "li1=[5,6,1,2,3,4]\n",
        "li2=[1,2,3,4,5,6]\n",
        "#li_copy = li1.copy()\n",
        "#li1.sort()\n",
        "#print(*li1)\n",
        "#print(*li_copy)\n",
        "c=0\n",
        "a=len(li2)-1\n",
        "for i in range(0,len(li1)):\n",
        "  for j in range(a,a-1,-1):\n",
        "    if li1[i]==li2[a]:\n",
        "      c=c+1\n",
        "    else:\n",
        "      break\n",
        "print(c)"
      ],
      "execution_count": 0,
      "outputs": [
        {
          "output_type": "stream",
          "text": [
            "1\n"
          ],
          "name": "stdout"
        }
      ]
    },
    {
      "cell_type": "code",
      "metadata": {
        "id": "nZ_769PGyefB",
        "colab_type": "code",
        "colab": {}
      },
      "source": [
        "for p in range(n):\n",
        "        while k==n:\n",
        "            if li1[p]==li2[k]:\n",
        "\n",
        "            k-=1"
      ],
      "execution_count": 0,
      "outputs": []
    },
    {
      "cell_type": "code",
      "metadata": {
        "id": "tQGJmz2uJioe",
        "colab_type": "code",
        "outputId": "c564aa3b-8f6c-4d5c-a02f-f102f5565a0c",
        "colab": {
          "base_uri": "https://localhost:8080/",
          "height": 88
        }
      },
      "source": [
        "## Print output as specified in the question.\n",
        "n=int(input())\n",
        "arr=[int(x) for x in input().split()]\n",
        "c=0\n",
        "for i in range(n-1):\n",
        "  if arr[i]<=arr[i+1] and c!=n-1:\n",
        "    c+=1\n",
        "    if c==n-1:\n",
        "      print(0)\n",
        "      break\n",
        "  else:\n",
        "    print(c+1)\n",
        "    break\n",
        "\n"
      ],
      "execution_count": 0,
      "outputs": [
        {
          "output_type": "stream",
          "text": [
            "622\n",
            "6 6 6 8 10 10 11 11 12 12 13 13 15 17 19 19 20 23 23 25 27 27 28 29 30 30 31 32 32 32 32 32 33 33 33 34 35 37 38 39 40 41 41 42 43 44 44 44 45 49 51 51 51 51 51 53 53 54 55 55 55 58 59 59 60 60 61 63 63 64 66 67 68 69 71 71 71 72 72 75 76 76 77 77 78 78 79 80 80 80 81 83 84 84 84 85 86 86 86 87 89 89 89 90 91 93 93 94 96 98 98 99 99 100 100 101 101 103 104 104 105 105 106 106 106 106 110 110 110 111 112 113 113 114 116 118 118 118 120 120 122 123 123 124 124 125 126 128 128 129 129 130 131 132 132 133 133 134 134 136 136 137 138 138 138 141 142 142 142 143 145 145 145 146 147 147 149 151 151 151 154 154 155 156 158 158 158 160 161 161 161 163 164 165 166 167 168 168 168 168 169 171 172 173 174 174 174 174 174 176 176 177 177 178 180 181 182 183 183 185 185 186 187 188 189 189 189 190 192 193 196 197 197 200 201 203 203 204 205 206 207 209 209 209 210 212 212 216 216 217 219 220 220 221 222 224 225 226 226 228 228 228 228 229 230 230 230 231 231 232 232 232 234 234 234 234 235 236 238 238 238 240 241 242 243 243 244 244 245 245 245 246 249 251 251 252 253 253 255 256 256 257 258 258 258 259 260 260 260 263 263 263 264 264 264 267 267 267 268 268 268 270 271 271 272 273 273 273 274 275 277 278 278 280 281 283 284 285 285 285 287 287 288 289 291 292 292 294 295 297 300 300 300 302 302 302 302 304 304 307 308 309 311 311 314 315 315 315 315 316 316 317 318 318 319 319 319 319 321 322 322 325 327 328 329 329 329 329 329 330 331 333 337 338 338 338 339 340 340 340 343 343 343 344 344 344 344 344 344 345 346 346 346 346 347 347 348 349 349 350 351 353 354 356 356 357 357 358 358 360 361 362 364 364 364 366 369 369 370 370 370 370 371 372 373 373 373 373 374 374 374 374 375 378 378 379 380 380 380 380 381 382 382 383 386 386 386 386 387 387 387 387 387 387 388 388 389 392 392 392 392 393 393 393 393 398 399 399 400 401 401 401 402 402 403 405 406 406 407 408 409 413 414 414 415 415 417 418 421 421 421 421 422 423 423 423 425 426 427 427 428 430 430 431 431 432 432 433 433 435 435 435 437 438 439 439 441 442 442 442 443 443 443 443 445 447 447 448 448 449 449 450 452 452 453 453 453 454 454 454 455 455 455 457 459 459 459 460 460 460 463 464 465 468 468 469 470 470 471 472 472 472 472 473 474 474 474 475 475 476 476 478 478 479 479 481 484 486 487 487 489 490 490 490 491 491 491 493 496 496 497 498 498 498 499 499 499 500 500 1 4 5\n",
            "619\n"
          ],
          "name": "stdout"
        }
      ]
    },
    {
      "cell_type": "code",
      "metadata": {
        "id": "Bq33SGf5Jtoe",
        "colab_type": "code",
        "colab": {}
      },
      "source": [
        "6\n"
      ],
      "execution_count": 0,
      "outputs": []
    },
    {
      "cell_type": "code",
      "metadata": {
        "id": "JxpvQsWkuITA",
        "colab_type": "code",
        "outputId": "52a857ed-a047-48de-eb41-31427e97bec7",
        "colab": {
          "base_uri": "https://localhost:8080/",
          "height": 51
        }
      },
      "source": [
        "s=input()\n",
        "a=s[::-1]\n",
        "if s==a:\n",
        "  print(\"True\")\n",
        "else:\n",
        "  print(\"False\")"
      ],
      "execution_count": 0,
      "outputs": [
        {
          "output_type": "stream",
          "text": [
            "abcdcba\n",
            "True\n"
          ],
          "name": "stdout"
        }
      ]
    },
    {
      "cell_type": "code",
      "metadata": {
        "id": "72c8s9PvuZ7q",
        "colab_type": "code",
        "colab": {}
      },
      "source": [
        "\n",
        "def permutation(string1,string2):\n",
        "  for i in string1:\n",
        "    for j in string2:\n",
        "      if string[i]!=\n",
        "s=\"abc\"\n",
        "a=\"cbd\"\n",
        "str=permutation(s,a)\n",
        "\n",
        "print(str)"
      ],
      "execution_count": 0,
      "outputs": []
    },
    {
      "cell_type": "code",
      "metadata": {
        "id": "Ljjwo0nFh-YY",
        "colab_type": "code",
        "outputId": "01e89dac-f31b-4ec6-9c9b-38925dd4e78d",
        "colab": {
          "base_uri": "https://localhost:8080/",
          "height": 51
        }
      },
      "source": [
        "def remove(str):\n",
        "  out=\"\"\n",
        "  for ch in str:\n",
        "    if ch not in out:\n",
        "      out+=ch\n",
        "  return out\n",
        "\n",
        "str=input()\n",
        "str1=remove(str)\n",
        "print(str1)"
      ],
      "execution_count": 0,
      "outputs": [
        {
          "output_type": "stream",
          "text": [
            "aabccbaa\n",
            "abc\n"
          ],
          "name": "stdout"
        }
      ]
    },
    {
      "cell_type": "markdown",
      "metadata": {
        "id": "nm7wDBOVxb6r",
        "colab_type": "text"
      },
      "source": [
        "# **By list**"
      ]
    },
    {
      "cell_type": "code",
      "metadata": {
        "id": "KARzwL6jrejc",
        "colab_type": "code",
        "outputId": "44122a2b-2cbe-4936-eabb-7a3babed4f95",
        "colab": {
          "base_uri": "https://localhost:8080/",
          "height": 34
        }
      },
      "source": [
        "def remove(str):\n",
        "  out=[]\n",
        "  for ch in str:\n",
        "    if ch not in out:\n",
        "        out+=ch\n",
        "  out=''.join(out)\n",
        "  return out\n",
        "\n",
        "str=\"aaaaaaaaabbbbbccddeeed\"\n",
        "str1=remove(str)\n",
        "print(str1)"
      ],
      "execution_count": 0,
      "outputs": [
        {
          "output_type": "stream",
          "text": [
            "abcde\n"
          ],
          "name": "stdout"
        }
      ]
    },
    {
      "cell_type": "code",
      "metadata": {
        "id": "_3oSLpx0xkhM",
        "colab_type": "code",
        "outputId": "800b0878-cc91-407d-97ec-f29dbfe68b1e",
        "colab": {
          "base_uri": "https://localhost:8080/",
          "height": 51
        }
      },
      "source": [
        "# Function to reverse a string \n",
        "def reverse(string):\n",
        "  words=string.split(' ')\n",
        "  print(words)\n",
        "  newword=[word[::-1] for word in words]\n",
        "  newsentence=' '.join(newword)\n",
        "  return newsentence\n",
        "string=\"welcome to coding Ninjas\"\n",
        "rvs=reverse(string)\n",
        "print(rvs)"
      ],
      "execution_count": 0,
      "outputs": [
        {
          "output_type": "stream",
          "text": [
            "['welcome', 'to', 'coding', 'Ninjas']\n",
            "emoclew ot gnidoc sajniN\n"
          ],
          "name": "stdout"
        }
      ]
    },
    {
      "cell_type": "markdown",
      "metadata": {
        "id": "dsSMK0IlWlED",
        "colab_type": "text"
      },
      "source": [
        "# **ONE liner  for reversing a string**"
      ]
    },
    {
      "cell_type": "code",
      "metadata": {
        "id": "c8VSzhs-WVoO",
        "colab_type": "code",
        "outputId": "1983cd9d-cc44-4d79-a961-f8f86bfe43d4",
        "colab": {
          "base_uri": "https://localhost:8080/",
          "height": 34
        }
      },
      "source": [
        "def reverse(string):\n",
        "  newsentence=' '.join([word[::-1] for word in string.split(' ')])\n",
        "  return newsentence\n",
        "string=\"welcome to coding Ninjas\"\n",
        "rvs=reverse(string)\n",
        "print(rvs)"
      ],
      "execution_count": 0,
      "outputs": [
        {
          "output_type": "stream",
          "text": [
            "emoclew ot gnidoc sajniN\n"
          ],
          "name": "stdout"
        }
      ]
    },
    {
      "cell_type": "code",
      "metadata": {
        "id": "6N9wG72KCPin",
        "colab_type": "code",
        "outputId": "a0f1c0c4-8b12-47ff-dd1a-e9c03aabad85",
        "colab": {
          "base_uri": "https://localhost:8080/",
          "height": 51
        }
      },
      "source": [
        "def removeDuplicates(S): \n",
        "          \n",
        "    n = len(S)  \n",
        "      \n",
        "    # We don't need to do anything for  \n",
        "    # empty or single character string.  \n",
        "    if (n < 2) :\n",
        "      return\n",
        "          \n",
        "    # j is used to store index is result  \n",
        "    # string (or index of current distinct  \n",
        "    # character)  \n",
        "    j = 0\n",
        "      \n",
        "    # Traversing string  \n",
        "    for i in range(n):\n",
        "\n",
        "          \n",
        "        # If current character S[i]  \n",
        "        # is different from S[j]  \n",
        "        if (S[j] != S[i]): \n",
        "            j += 1\n",
        "            S[j] = S[i]  \n",
        "      \n",
        "    # Putting string termination  \n",
        "    # character.  \n",
        "    j += 1\n",
        "    S = S[:j] \n",
        "    return S \n",
        "s=input()\n",
        "S1 = list(s.rstrip()) \n",
        "S1 = removeDuplicates(S1)  \n",
        "print(*S1, sep = \"\")  \n"
      ],
      "execution_count": 0,
      "outputs": [
        {
          "output_type": "stream",
          "text": [
            "aabccbaa\n",
            "abcba\n"
          ],
          "name": "stdout"
        }
      ]
    },
    {
      "cell_type": "code",
      "metadata": {
        "id": "6jBbifhWHLlQ",
        "colab_type": "code",
        "outputId": "e6b50c96-f0a9-4c2a-95eb-f019bc8860a5",
        "colab": {
          "base_uri": "https://localhost:8080/",
          "height": 51
        }
      },
      "source": [
        "def remove(str,x):\n",
        "  new=\"\"\n",
        "  for i in range(len(str)):\n",
        "    if str[i]==x:\n",
        "      pass\n",
        "    else:\n",
        "      new+=str[i]\n",
        "  return new\n",
        "str=\"welcome to coding ninjas\"\n",
        "x=input()\n",
        "rem=remove(str,x)\n",
        "print(rem)\n"
      ],
      "execution_count": 0,
      "outputs": [
        {
          "output_type": "stream",
          "text": [
            "n\n",
            "welcome to codig ijas\n"
          ],
          "name": "stdout"
        }
      ]
    },
    {
      "cell_type": "code",
      "metadata": {
        "id": "fozg4j82KhdO",
        "colab_type": "code",
        "outputId": "78583d61-4b4d-48d6-b05e-5244673792f4",
        "colab": {
          "base_uri": "https://localhost:8080/",
          "height": 51
        }
      },
      "source": [
        "def frequency(str):\n",
        "  ASCII_SIZE=256\n",
        "  count=[0]*ASCII_SIZE\n",
        "  max=-1\n",
        "  c=''\n",
        "  for i in str:\n",
        "    count[ord(i)]+=1\n",
        "  for i in str:\n",
        "    if max<count[ord(i)]:\n",
        "      max=count[ord(i)]\n",
        "      c=i\n",
        "  return c\n",
        "\n",
        "str=input()\n",
        "a=len(str)\n",
        "if a<=2:\n",
        "  for ele in range(len(str)-1):\n",
        "    print(str[ele])\n",
        "else:\n",
        "  freq=frequency(str)\n",
        "  print(freq)"
      ],
      "execution_count": 0,
      "outputs": [
        {
          "output_type": "stream",
          "text": [
            "hjhjhweowhbjwooe\n",
            "h\n"
          ],
          "name": "stdout"
        }
      ]
    },
    {
      "cell_type": "markdown",
      "metadata": {
        "id": "YXVkGgkIku_E",
        "colab_type": "text"
      },
      "source": [
        "# **A CONCEPT CALLED ALL**"
      ]
    },
    {
      "cell_type": "code",
      "metadata": {
        "id": "pYGcjRBiMRPz",
        "colab_type": "code",
        "outputId": "7f6b4b7d-a6ae-4a1f-fc91-1972f368f812",
        "colab": {
          "base_uri": "https://localhost:8080/",
          "height": 34
        }
      },
      "source": [
        "def permutation(str,str1):\n",
        "  ASCII_SIZE=256\n",
        "  count=[0]*ASCII_SIZE\n",
        "  for i in str:\n",
        "    count[ord(i)]+=1\n",
        "  for i in str1:\n",
        "    count[ord(i)]-=1\n",
        "  a=all(v == 0 for v in count)\n",
        "  if a==True:\n",
        "    print(\"true\")\n",
        "  else:\n",
        "    print(\"false\")\n",
        "str=\"aacde\"\n",
        "str1=\"baedc\"\n",
        "ans=permutation(str,str1)"
      ],
      "execution_count": 0,
      "outputs": [
        {
          "output_type": "stream",
          "text": [
            "false\n"
          ],
          "name": "stdout"
        }
      ]
    },
    {
      "cell_type": "code",
      "metadata": {
        "id": "BVZ-jzvGeZcx",
        "colab_type": "code",
        "outputId": "22b0ca44-f466-4670-88a1-b60ab6644a0c",
        "colab": {
          "base_uri": "https://localhost:8080/",
          "height": 333
        }
      },
      "source": [
        "def compress(str):\n",
        "  ASCII_SIZE=256\n",
        "  count=[0]*ASCII_SIZE\n",
        "  new =''\n",
        "  for i in str:\n",
        "    count[ord(i)]+=1\n",
        "  for i in str:\n",
        "    new=str[i]+str(count[ord(i)])\n",
        "  return new\n",
        "str=\"aaabbccdsa\"\n",
        "a=compress(str)\n",
        "print(a)"
      ],
      "execution_count": 0,
      "outputs": [
        {
          "output_type": "error",
          "ename": "TypeError",
          "evalue": "ignored",
          "traceback": [
            "\u001b[0;31m---------------------------------------------------------------------------\u001b[0m",
            "\u001b[0;31mTypeError\u001b[0m                                 Traceback (most recent call last)",
            "\u001b[0;32m<ipython-input-64-34662448d4ca>\u001b[0m in \u001b[0;36m<module>\u001b[0;34m()\u001b[0m\n\u001b[1;32m      9\u001b[0m   \u001b[0;32mreturn\u001b[0m \u001b[0mnew\u001b[0m\u001b[0;34m\u001b[0m\u001b[0;34m\u001b[0m\u001b[0m\n\u001b[1;32m     10\u001b[0m \u001b[0mstr\u001b[0m\u001b[0;34m=\u001b[0m\u001b[0;34m\"aaabbccdsa\"\u001b[0m\u001b[0;34m\u001b[0m\u001b[0;34m\u001b[0m\u001b[0m\n\u001b[0;32m---> 11\u001b[0;31m \u001b[0ma\u001b[0m\u001b[0;34m=\u001b[0m\u001b[0mcompress\u001b[0m\u001b[0;34m(\u001b[0m\u001b[0mstr\u001b[0m\u001b[0;34m)\u001b[0m\u001b[0;34m\u001b[0m\u001b[0;34m\u001b[0m\u001b[0m\n\u001b[0m\u001b[1;32m     12\u001b[0m \u001b[0mprint\u001b[0m\u001b[0;34m(\u001b[0m\u001b[0ma\u001b[0m\u001b[0;34m)\u001b[0m\u001b[0;34m\u001b[0m\u001b[0;34m\u001b[0m\u001b[0m\n",
            "\u001b[0;32m<ipython-input-64-34662448d4ca>\u001b[0m in \u001b[0;36mcompress\u001b[0;34m(str)\u001b[0m\n\u001b[1;32m      6\u001b[0m     \u001b[0mcount\u001b[0m\u001b[0;34m[\u001b[0m\u001b[0mord\u001b[0m\u001b[0;34m(\u001b[0m\u001b[0mi\u001b[0m\u001b[0;34m)\u001b[0m\u001b[0;34m]\u001b[0m\u001b[0;34m+=\u001b[0m\u001b[0;36m1\u001b[0m\u001b[0;34m\u001b[0m\u001b[0;34m\u001b[0m\u001b[0m\n\u001b[1;32m      7\u001b[0m   \u001b[0;32mfor\u001b[0m \u001b[0mi\u001b[0m \u001b[0;32min\u001b[0m \u001b[0mstr\u001b[0m\u001b[0;34m:\u001b[0m\u001b[0;34m\u001b[0m\u001b[0;34m\u001b[0m\u001b[0m\n\u001b[0;32m----> 8\u001b[0;31m     \u001b[0mnew\u001b[0m\u001b[0;34m=\u001b[0m\u001b[0mstr\u001b[0m\u001b[0;34m[\u001b[0m\u001b[0mi\u001b[0m\u001b[0;34m]\u001b[0m\u001b[0;34m+\u001b[0m\u001b[0mstr\u001b[0m\u001b[0;34m(\u001b[0m\u001b[0mcount\u001b[0m\u001b[0;34m[\u001b[0m\u001b[0mord\u001b[0m\u001b[0;34m(\u001b[0m\u001b[0mi\u001b[0m\u001b[0;34m)\u001b[0m\u001b[0;34m]\u001b[0m\u001b[0;34m)\u001b[0m\u001b[0;34m\u001b[0m\u001b[0;34m\u001b[0m\u001b[0m\n\u001b[0m\u001b[1;32m      9\u001b[0m   \u001b[0;32mreturn\u001b[0m \u001b[0mnew\u001b[0m\u001b[0;34m\u001b[0m\u001b[0;34m\u001b[0m\u001b[0m\n\u001b[1;32m     10\u001b[0m \u001b[0mstr\u001b[0m\u001b[0;34m=\u001b[0m\u001b[0;34m\"aaabbccdsa\"\u001b[0m\u001b[0;34m\u001b[0m\u001b[0;34m\u001b[0m\u001b[0m\n",
            "\u001b[0;31mTypeError\u001b[0m: string indices must be integers"
          ]
        }
      ]
    },
    {
      "cell_type": "code",
      "metadata": {
        "id": "QMnn328Wgnv7",
        "colab_type": "code",
        "outputId": "9c43ef4f-2208-45e8-d9f2-63d16327df0d",
        "colab": {
          "base_uri": "https://localhost:8080/",
          "height": 34
        }
      },
      "source": [
        "aaabbccdsa"
      ],
      "execution_count": 0,
      "outputs": [
        {
          "output_type": "stream",
          "text": [
            "Empty List\n"
          ],
          "name": "stdout"
        }
      ]
    },
    {
      "cell_type": "code",
      "metadata": {
        "id": "DbiKfcYThYee",
        "colab_type": "code",
        "outputId": "6972db8a-7ea8-4422-d14d-361dbb53cb66",
        "colab": {
          "base_uri": "https://localhost:8080/",
          "height": 51
        }
      },
      "source": [
        " # run length compression algorithm\n",
        "## Read input as specified in the question.\n",
        "## Print output as specified in the question.\n",
        "def compress_s(s):\n",
        "    \n",
        "    if len(s) == 0:\n",
        "        return None\n",
        "    \n",
        "    final_arr = []\n",
        "    index = 0\n",
        "    letter = s[0]\n",
        "    \n",
        "    for el in s:\n",
        "        if el == letter and ord(el) == ord(letter):\n",
        "            index += 1\n",
        "        else: \n",
        "            if index!=1:\n",
        "                final_arr.append(letter + repr(index))\n",
        "            else:\n",
        "                final_arr.append(letter)\n",
        "            letter = el\n",
        "            index = 1\n",
        "            \n",
        "    if index!=1:\n",
        "        final_arr.append(letter + repr(index))\n",
        "    else:\n",
        "        final_arr.append(letter)     \n",
        "    return \"\".join(final_arr)\n",
        "        \n",
        "print(compress_s(input()))"
      ],
      "execution_count": 0,
      "outputs": [
        {
          "output_type": "stream",
          "text": [
            "aabbbbgfhbabs\n",
            "a2b4gfhbabs\n"
          ],
          "name": "stdout"
        }
      ]
    },
    {
      "cell_type": "code",
      "metadata": {
        "id": "orrs0PyNq_ga",
        "colab_type": "code",
        "outputId": "c53d80ff-e747-421d-b096-0f05dfe70148",
        "colab": {
          "base_uri": "https://localhost:8080/",
          "height": 102
        }
      },
      "source": [
        "n=int(input())\n",
        "for i in range(1,n+1,2):\n",
        "    for j in range(1,n+1,1):\n",
        "        print(n*(i-1)+j,end=\" \")\n",
        "    print()\n",
        "for i in range((n//2)*2,0,-2):\n",
        "    for j in range(1,n+1,1):\n",
        "        print(n*(i-1)+j,end=\" \")\n",
        "    print()"
      ],
      "execution_count": 0,
      "outputs": [
        {
          "output_type": "stream",
          "text": [
            "4\n",
            "1 2 3 4 \n",
            "9 10 11 12 \n",
            "13 14 15 16 \n",
            "5 6 7 8 \n"
          ],
          "name": "stdout"
        }
      ]
    },
    {
      "cell_type": "code",
      "metadata": {
        "id": "Na41e-1L1gtI",
        "colab_type": "code",
        "outputId": "cc866f32-a496-493b-c1fd-e999ec15d91a",
        "colab": {
          "base_uri": "https://localhost:8080/",
          "height": 68
        }
      },
      "source": [
        "def rowWiseSum(arr):\n",
        "  k=[]\n",
        "  for li in arr:\n",
        "    sum=0\n",
        "    for ele in li:\n",
        "      sum=sum+ele\n",
        "    k.append(sum)\n",
        "  return k\n",
        "\n",
        "\n",
        "#Main\n",
        "m, n=(int(i) for i in input().strip().split(' '))\n",
        "l=[int(i) for i in input().strip().split(' ')]\n",
        "arr = [ [ l[(j*n)+i] for i in range(n)] for j in range(m)]\n",
        "l=rowWiseSum(arr)\n",
        "print(*l)\n"
      ],
      "execution_count": 0,
      "outputs": [
        {
          "output_type": "stream",
          "text": [
            "4 2\n",
            "1 2 3 4 5 6 7 8\n",
            "3 7 11 15\n"
          ],
          "name": "stdout"
        }
      ]
    },
    {
      "cell_type": "markdown",
      "metadata": {
        "id": "XfHb5XGtJo3M",
        "colab_type": "text"
      },
      "source": [
        "# **Largest Row or Column**"
      ]
    },
    {
      "cell_type": "code",
      "metadata": {
        "id": "WCSghtlWIvMw",
        "colab_type": "code",
        "outputId": "86608982-5c12-4656-a2dc-da05a071d584",
        "colab": {
          "base_uri": "https://localhost:8080/",
          "height": 68
        }
      },
      "source": [
        "def largestRowCol(arr):\n",
        "    list = []\n",
        "    n = len(arr)\n",
        "    m = len(arr[0])\n",
        "    \n",
        "    max_row = -1\n",
        "    max_col = -1\n",
        "    max_col_index = -1\n",
        "    max_row_index = -1\n",
        "    \n",
        "    for i in range(n):\n",
        "        sum = 0\n",
        "        for j in range(m):\n",
        "            sum = sum+arr[i][j]\n",
        "        if sum>max_row:\n",
        "            max_row_index = i\n",
        "            max_row = sum\n",
        "            \n",
        "    for j in range(m):\n",
        "        sum1 = 0\n",
        "        for i in range(n):\n",
        "            sum1 = sum1+arr[i][j]\n",
        "        if sum1>max_col:\n",
        "            max_col_index = j\n",
        "            max_col = sum1\n",
        "            \n",
        "            \n",
        "    if max_row>max_col:\n",
        "        list.append('row')\n",
        "        list.append(max_row_index)\n",
        "        list.append(max_row)\n",
        "    else:\n",
        "        list.append('column')\n",
        "        list.append(max_col_index)\n",
        "        list.append(max_col)\n",
        "        \n",
        "    return(list)\n",
        "\n",
        "#Main\n",
        "m, n=(int(i) for i in input().strip().split(' '))\n",
        "l=[int(i) for i in input().strip().split(' ')]\n",
        "arr = [ [ l[(j*n)+i] for i in range(n)] for j in range(m)]\n",
        "l=largestRowCol(arr)\n",
        "print(*l)\n"
      ],
      "execution_count": 0,
      "outputs": [
        {
          "output_type": "stream",
          "text": [
            "3 3\n",
            "3 6 9 1 4 7 2 8 9\n",
            "column 2 25\n"
          ],
          "name": "stdout"
        }
      ]
    },
    {
      "cell_type": "markdown",
      "metadata": {
        "id": "Zl3WZtYuMbwI",
        "colab_type": "text"
      },
      "source": [
        "# **Wave print**"
      ]
    },
    {
      "cell_type": "code",
      "metadata": {
        "id": "-Rnn0C2zJxH1",
        "colab_type": "code",
        "outputId": "e28d4231-00b7-4294-ca46-6212c21ec2b2",
        "colab": {
          "base_uri": "https://localhost:8080/",
          "height": 51
        }
      },
      "source": [
        "def wavePrint(arr):\n",
        "    n = len(arr)\n",
        "    m = len(arr[0])\n",
        "    for j in range(m):\n",
        "        if j%2==0:\n",
        "            for i in range(n):\n",
        "                print(arr[i][j], end = ' ')\n",
        "                \n",
        "        else:\n",
        "            for i in range(n-1,0,1):\n",
        "                print(arr[i][j], end = ' ')\n",
        "    pass\n",
        "\n",
        "#Main\n",
        "l=[int(i) for i in input().strip().split(' ')]\n",
        "m, n=l[0], l[1]\n",
        "arr = [ [ l[(j*n)+i+2] for i in range(n)] for j in range(m)]\n",
        "wavePrint(arr)\n",
        " "
      ],
      "execution_count": 0,
      "outputs": [
        {
          "output_type": "stream",
          "text": [
            "3 4 1 2 3 4 5 6 7 8 9 10 11 12\n",
            "1 5 9 3 7 11 "
          ],
          "name": "stdout"
        }
      ]
    },
    {
      "cell_type": "code",
      "metadata": {
        "id": "FCzmIpdzMhf-",
        "colab_type": "code",
        "outputId": "028506ec-b172-41e4-ebea-6357236565c2",
        "colab": {
          "base_uri": "https://localhost:8080/",
          "height": 51
        }
      },
      "source": [
        "def spiralPrint(arr):\n",
        "   \n",
        "    k = 0\n",
        "    l = 0\n",
        "    n=len(arr[0])\n",
        "    m=len(arr)\n",
        "    while (k < m and l < n) :\n",
        "        for i in range(l, n) :\n",
        "            print(arr[k][i], end = \" \")      \n",
        "        k += 1\n",
        "        for i in range(k, m) :\n",
        "            print(arr[i][n - 1], end = \" \")        \n",
        "        n -= 1\n",
        "        if ( k < m) :\n",
        "            for i in range(n - 1, (l - 1), -1) :\n",
        "                print(arr[m - 1][i], end = \" \")  \n",
        "            m -= 1\n",
        "        if (l < n) :\n",
        "            for i in range(m - 1, k - 1, -1) :\n",
        "                print(arr[i][l], end = \" \")  \n",
        "            l += 1\n",
        " \n",
        "l=[int(i) for i in input().strip().split(' ')]\n",
        "m, n=l[0], l[1]\n",
        "arr = [ [ l[(j*n)+i+2] for i in range(n)] for j in range(m)]\n",
        "spiralPrint(arr)"
      ],
      "execution_count": 0,
      "outputs": [
        {
          "output_type": "stream",
          "text": [
            "4 4 1 2 3 4 5 6 7 8 9 10 11 12 13 14 15 16\n",
            "1 2 3 4 8 12 16 15 14 13 9 5 6 7 11 10 "
          ],
          "name": "stdout"
        }
      ]
    },
    {
      "cell_type": "code",
      "metadata": {
        "id": "A6rWjtiv88vF",
        "colab_type": "code",
        "outputId": "f5a8fbb5-15c1-4d21-e9f2-4263fd43cc06",
        "colab": {
          "base_uri": "https://localhost:8080/",
          "height": 34
        }
      },
      "source": [
        "a = 1,2\n",
        "b = (4,5)\n",
        "d = a+b\n",
        "print(d)"
      ],
      "execution_count": 0,
      "outputs": [
        {
          "output_type": "stream",
          "text": [
            "(1, 2, 4, 5)\n"
          ],
          "name": "stdout"
        }
      ]
    },
    {
      "cell_type": "code",
      "metadata": {
        "id": "u3OAENrO-n8D",
        "colab_type": "code",
        "outputId": "1f146d05-1aed-49d5-b26b-e10f35581654",
        "colab": {
          "base_uri": "https://localhost:8080/",
          "height": 34
        }
      },
      "source": [
        "d = {1:2, 'abc':5, 'def':7}\n",
        "print(d.get(0,5))"
      ],
      "execution_count": 0,
      "outputs": [
        {
          "output_type": "stream",
          "text": [
            "5\n"
          ],
          "name": "stdout"
        }
      ]
    },
    {
      "cell_type": "code",
      "metadata": {
        "id": "Fx8dDE4iLkGP",
        "colab_type": "code",
        "outputId": "f22df1b4-acbb-45f2-9774-cffca9ea4e82",
        "colab": {
          "base_uri": "https://localhost:8080/",
          "height": 129
        }
      },
      "source": [
        "d = {1:2, “abc”:5, “def”:7}\n",
        "print(d[0])"
      ],
      "execution_count": 0,
      "outputs": [
        {
          "output_type": "error",
          "ename": "SyntaxError",
          "evalue": "ignored",
          "traceback": [
            "\u001b[0;36m  File \u001b[0;32m\"<ipython-input-20-3ea8b3cf0af1>\"\u001b[0;36m, line \u001b[0;32m1\u001b[0m\n\u001b[0;31m    d = {1:2, “abc”:5, “def”:7}\u001b[0m\n\u001b[0m                  ^\u001b[0m\n\u001b[0;31mSyntaxError\u001b[0m\u001b[0;31m:\u001b[0m invalid character in identifier\n"
          ]
        }
      ]
    },
    {
      "cell_type": "code",
      "metadata": {
        "id": "R4UCHobgL7_8",
        "colab_type": "code",
        "outputId": "1a391c6b-0cd9-4966-96ed-a8d9258d4fcb",
        "colab": {
          "base_uri": "https://localhost:8080/",
          "height": 51
        }
      },
      "source": [
        "a = {1:2,'list':[1,2],3:5}\n",
        "b = {4:5,3:7}\n",
        "a.update(b)\n",
        "print(a)\n",
        "print(a[3])\n"
      ],
      "execution_count": 0,
      "outputs": [
        {
          "output_type": "stream",
          "text": [
            "{1: 2, 'list': [1, 2], 3: 7, 4: 5}\n",
            "7\n"
          ],
          "name": "stdout"
        }
      ]
    },
    {
      "cell_type": "code",
      "metadata": {
        "id": "Eb-aVMq-Pi9C",
        "colab_type": "code",
        "outputId": "3f4006b9-8e51-4702-8e19-3b88bf3b3350",
        "colab": {
          "base_uri": "https://localhost:8080/",
          "height": 34
        }
      },
      "source": [
        "s = {1,2,3,5,4,2,3,1}\n",
        "print(len(s),end= ' ' )\n",
        "s.add(4)\n",
        "s.add(3)\n",
        "print(len(s))"
      ],
      "execution_count": 0,
      "outputs": [
        {
          "output_type": "stream",
          "text": [
            "5 5\n"
          ],
          "name": "stdout"
        }
      ]
    },
    {
      "cell_type": "code",
      "metadata": {
        "id": "Ewj6J9ksWb1p",
        "colab_type": "code",
        "colab": {}
      },
      "source": [
        "def fact(n):\n",
        "  if n==0:\n",
        "    return 1\n",
        "  smalloutput=fact(n-1)\n",
        "  return n*smalloutput\n"
      ],
      "execution_count": 0,
      "outputs": []
    },
    {
      "cell_type": "code",
      "metadata": {
        "id": "GaXiIIK7BVBS",
        "colab_type": "code",
        "outputId": "4aaeea53-caea-48b6-b36f-098e10b5f54b",
        "colab": {
          "base_uri": "https://localhost:8080/",
          "height": 51
        }
      },
      "source": [
        "n=int(input())\n",
        "print(fact(n))"
      ],
      "execution_count": 0,
      "outputs": [
        {
          "output_type": "stream",
          "text": [
            "5\n",
            "120\n"
          ],
          "name": "stdout"
        }
      ]
    },
    {
      "cell_type": "code",
      "metadata": {
        "id": "GHB9sJtDBdM9",
        "colab_type": "code",
        "outputId": "a8e7ee49-8738-44e9-9876-9aff0965d46b",
        "colab": {
          "base_uri": "https://localhost:8080/",
          "height": 391
        }
      },
      "source": [
        "def func(num):\n",
        "    return func(num-1)\n",
        "num = 5\n",
        "ans = func(num-1)\n",
        "print(ans)"
      ],
      "execution_count": 0,
      "outputs": [
        {
          "output_type": "error",
          "ename": "RecursionError",
          "evalue": "ignored",
          "traceback": [
            "\u001b[0;31m---------------------------------------------------------------------------\u001b[0m",
            "\u001b[0;31mRecursionError\u001b[0m                            Traceback (most recent call last)",
            "\u001b[0;32m<ipython-input-6-5d9407e03308>\u001b[0m in \u001b[0;36m<module>\u001b[0;34m()\u001b[0m\n\u001b[1;32m      2\u001b[0m     \u001b[0;32mreturn\u001b[0m \u001b[0mfunc\u001b[0m\u001b[0;34m(\u001b[0m\u001b[0mnum\u001b[0m\u001b[0;34m-\u001b[0m\u001b[0;36m1\u001b[0m\u001b[0;34m)\u001b[0m\u001b[0;34m\u001b[0m\u001b[0;34m\u001b[0m\u001b[0m\n\u001b[1;32m      3\u001b[0m \u001b[0mnum\u001b[0m \u001b[0;34m=\u001b[0m \u001b[0;36m5\u001b[0m\u001b[0;34m\u001b[0m\u001b[0;34m\u001b[0m\u001b[0m\n\u001b[0;32m----> 4\u001b[0;31m \u001b[0mans\u001b[0m \u001b[0;34m=\u001b[0m \u001b[0mfunc\u001b[0m\u001b[0;34m(\u001b[0m\u001b[0mnum\u001b[0m\u001b[0;34m-\u001b[0m\u001b[0;36m1\u001b[0m\u001b[0;34m)\u001b[0m\u001b[0;34m\u001b[0m\u001b[0;34m\u001b[0m\u001b[0m\n\u001b[0m\u001b[1;32m      5\u001b[0m \u001b[0mprint\u001b[0m\u001b[0;34m(\u001b[0m\u001b[0mans\u001b[0m\u001b[0;34m)\u001b[0m\u001b[0;34m\u001b[0m\u001b[0;34m\u001b[0m\u001b[0m\n",
            "\u001b[0;32m<ipython-input-6-5d9407e03308>\u001b[0m in \u001b[0;36mfunc\u001b[0;34m(num)\u001b[0m\n\u001b[1;32m      1\u001b[0m \u001b[0;32mdef\u001b[0m \u001b[0mfunc\u001b[0m\u001b[0;34m(\u001b[0m\u001b[0mnum\u001b[0m\u001b[0;34m)\u001b[0m\u001b[0;34m:\u001b[0m\u001b[0;34m\u001b[0m\u001b[0;34m\u001b[0m\u001b[0m\n\u001b[0;32m----> 2\u001b[0;31m     \u001b[0;32mreturn\u001b[0m \u001b[0mfunc\u001b[0m\u001b[0;34m(\u001b[0m\u001b[0mnum\u001b[0m\u001b[0;34m-\u001b[0m\u001b[0;36m1\u001b[0m\u001b[0;34m)\u001b[0m\u001b[0;34m\u001b[0m\u001b[0;34m\u001b[0m\u001b[0m\n\u001b[0m\u001b[1;32m      3\u001b[0m \u001b[0mnum\u001b[0m \u001b[0;34m=\u001b[0m \u001b[0;36m5\u001b[0m\u001b[0;34m\u001b[0m\u001b[0;34m\u001b[0m\u001b[0m\n\u001b[1;32m      4\u001b[0m \u001b[0mans\u001b[0m \u001b[0;34m=\u001b[0m \u001b[0mfunc\u001b[0m\u001b[0;34m(\u001b[0m\u001b[0mnum\u001b[0m\u001b[0;34m-\u001b[0m\u001b[0;36m1\u001b[0m\u001b[0;34m)\u001b[0m\u001b[0;34m\u001b[0m\u001b[0;34m\u001b[0m\u001b[0m\n\u001b[1;32m      5\u001b[0m \u001b[0mprint\u001b[0m\u001b[0;34m(\u001b[0m\u001b[0mans\u001b[0m\u001b[0;34m)\u001b[0m\u001b[0;34m\u001b[0m\u001b[0;34m\u001b[0m\u001b[0m\n",
            "... last 1 frames repeated, from the frame below ...\n",
            "\u001b[0;32m<ipython-input-6-5d9407e03308>\u001b[0m in \u001b[0;36mfunc\u001b[0;34m(num)\u001b[0m\n\u001b[1;32m      1\u001b[0m \u001b[0;32mdef\u001b[0m \u001b[0mfunc\u001b[0m\u001b[0;34m(\u001b[0m\u001b[0mnum\u001b[0m\u001b[0;34m)\u001b[0m\u001b[0;34m:\u001b[0m\u001b[0;34m\u001b[0m\u001b[0;34m\u001b[0m\u001b[0m\n\u001b[0;32m----> 2\u001b[0;31m     \u001b[0;32mreturn\u001b[0m \u001b[0mfunc\u001b[0m\u001b[0;34m(\u001b[0m\u001b[0mnum\u001b[0m\u001b[0;34m-\u001b[0m\u001b[0;36m1\u001b[0m\u001b[0;34m)\u001b[0m\u001b[0;34m\u001b[0m\u001b[0;34m\u001b[0m\u001b[0m\n\u001b[0m\u001b[1;32m      3\u001b[0m \u001b[0mnum\u001b[0m \u001b[0;34m=\u001b[0m \u001b[0;36m5\u001b[0m\u001b[0;34m\u001b[0m\u001b[0;34m\u001b[0m\u001b[0m\n\u001b[1;32m      4\u001b[0m \u001b[0mans\u001b[0m \u001b[0;34m=\u001b[0m \u001b[0mfunc\u001b[0m\u001b[0;34m(\u001b[0m\u001b[0mnum\u001b[0m\u001b[0;34m-\u001b[0m\u001b[0;36m1\u001b[0m\u001b[0;34m)\u001b[0m\u001b[0;34m\u001b[0m\u001b[0;34m\u001b[0m\u001b[0m\n\u001b[1;32m      5\u001b[0m \u001b[0mprint\u001b[0m\u001b[0;34m(\u001b[0m\u001b[0mans\u001b[0m\u001b[0;34m)\u001b[0m\u001b[0;34m\u001b[0m\u001b[0;34m\u001b[0m\u001b[0m\n",
            "\u001b[0;31mRecursionError\u001b[0m: maximum recursion depth exceeded"
          ]
        }
      ]
    },
    {
      "cell_type": "markdown",
      "metadata": {
        "id": "hRjBL_itwKNR",
        "colab_type": "text"
      },
      "source": [
        "# **SUM OF ARRAY USING RECURSION**"
      ]
    },
    {
      "cell_type": "code",
      "metadata": {
        "id": "_ybMb0H0FDrz",
        "colab_type": "code",
        "outputId": "8d6c9caa-c5e8-4bde-acbc-49c08b689142",
        "colab": {
          "base_uri": "https://localhost:8080/",
          "height": 68
        }
      },
      "source": [
        "def sumArray(arr):\n",
        "    l=len(arr)\n",
        "    if l==1:\n",
        "      return arr[0]\n",
        "    small=arr[1:]\n",
        "    smallout=sumArray(small)\n",
        "    sum=arr[0]+smallout\n",
        "    return sum\n",
        "\n",
        "# Main\n",
        "from sys import setrecursionlimit\n",
        "setrecursionlimit(11000)\n",
        "n=int(input())\n",
        "arr=list(int(i) for i in input().strip().split(' '))\n",
        "print(sumArray(arr))\n"
      ],
      "execution_count": 0,
      "outputs": [
        {
          "output_type": "stream",
          "text": [
            "3\n",
            "9 8 8\n",
            "25\n"
          ],
          "name": "stdout"
        }
      ]
    },
    {
      "cell_type": "code",
      "metadata": {
        "id": "0QIU4fQyoFr5",
        "colab_type": "code",
        "outputId": "740d2295-1839-4159-cc09-2a11adb95b6b",
        "colab": {
          "base_uri": "https://localhost:8080/",
          "height": 85
        }
      },
      "source": [
        "def checkNumber(arr, x):\n",
        "    l=len(arr)\n",
        "    if l==0:\n",
        "      return False\n",
        "    if arr[0]==x:\n",
        "      return True\n",
        "    else:\n",
        "      isnumber=checkNumber(arr[1:],x)\n",
        "      if isnumber:\n",
        "        return True\n",
        "      else:\n",
        "        return False\n",
        "\n",
        "# Main\n",
        "from sys import setrecursionlimit\n",
        "setrecursionlimit(11000)\n",
        "n=int(input())\n",
        "arr=list(int(i) for i in input().strip().split(' '))\n",
        "x=int(input())\n",
        "if checkNumber(arr, x):\n",
        "    print('true')\n",
        "else:\n",
        "    print('false')\n"
      ],
      "execution_count": 0,
      "outputs": [
        {
          "output_type": "stream",
          "text": [
            "0\n",
            "1\n",
            "2\n",
            "false\n"
          ],
          "name": "stdout"
        }
      ]
    },
    {
      "cell_type": "markdown",
      "metadata": {
        "id": "Lnv9qDaU_Gaj",
        "colab_type": "text"
      },
      "source": [
        "# **WITHOUT COPY**"
      ]
    },
    {
      "cell_type": "code",
      "metadata": {
        "id": "qOZInssay2Mu",
        "colab_type": "code",
        "colab": {}
      },
      "source": [
        "def firstIndex(arr, x,si):\n",
        "    l = len(arr)\n",
        "    if si==l:\n",
        "      return -1\n",
        "    if arr[si]==x:\n",
        "      return si\n",
        "    cutarr = firstIndex(arr,x,si+1)\n",
        "    return cutarr"
      ],
      "execution_count": 0,
      "outputs": []
    },
    {
      "cell_type": "code",
      "metadata": {
        "id": "4fVtYMdO1kKR",
        "colab_type": "code",
        "outputId": "447cad11-7bfd-408d-fb6f-c1dbe09f9975",
        "colab": {
          "base_uri": "https://localhost:8080/",
          "height": 34
        }
      },
      "source": [
        "arr=[1,2,34,5,6]\n",
        "x=6\n",
        "si=0\n",
        "print(firstIndex(arr,x,si))\n"
      ],
      "execution_count": 0,
      "outputs": [
        {
          "output_type": "stream",
          "text": [
            "4\n"
          ],
          "name": "stdout"
        }
      ]
    },
    {
      "cell_type": "code",
      "metadata": {
        "id": "YxfduWRO3PUf",
        "colab_type": "code",
        "colab": {}
      },
      "source": [
        "def last(arr,x):\n",
        "  l=len(arr)\n",
        "  if l==0:\n",
        "    return -1\n",
        "  if arr[0]==x:\n",
        "    return 0\n",
        "  recurfromlast=last(arr[1:],x)\n",
        "  return recurfromlast\n",
        "  #if arr[0]==x:\n",
        "    #return 0\n",
        "  #else:\n",
        "     #return -1\n"
      ],
      "execution_count": 0,
      "outputs": []
    },
    {
      "cell_type": "code",
      "metadata": {
        "id": "CZ58jyUHtAea",
        "colab_type": "code",
        "outputId": "17de6d42-69d1-4328-acf7-148b03c73461",
        "colab": {
          "base_uri": "https://localhost:8080/",
          "height": 51
        }
      },
      "source": [
        "arr=[1,2,3,4,1,5]\n",
        "x=int(input())\n",
        "print(last(arr,x))"
      ],
      "execution_count": 0,
      "outputs": [
        {
          "output_type": "stream",
          "text": [
            "1\n",
            "0\n"
          ],
          "name": "stdout"
        }
      ]
    },
    {
      "cell_type": "markdown",
      "metadata": {
        "id": "fQzU6wbcvjbI",
        "colab_type": "text"
      },
      "source": [
        "# **Last element recursion**"
      ]
    },
    {
      "cell_type": "code",
      "metadata": {
        "id": "0TcXceYZtiug",
        "colab_type": "code",
        "colab": {}
      },
      "source": [
        "def firstIndex(arr, x,si):\n",
        "    l = len(arr)\n",
        "    if si==l:\n",
        "      return -1\n",
        "    if arr[si]==x:\n",
        "      return si\n",
        "    cutarr = firstIndex(arr,x,si+1)\n",
        "    return cutarr\n",
        "    if arr[0]==x:\n",
        "      return 0\n",
        "    return -1"
      ],
      "execution_count": 0,
      "outputs": []
    },
    {
      "cell_type": "code",
      "metadata": {
        "id": "jtChFpxQtwYm",
        "colab_type": "code",
        "outputId": "60975384-468d-4c29-89f3-53605033982c",
        "colab": {
          "base_uri": "https://localhost:8080/",
          "height": 34
        }
      },
      "source": [
        "arr=[6,2,3,4,5]\n",
        "x=6\n",
        "si=1\n",
        "print(firstIndex(arr,x,si))\n"
      ],
      "execution_count": 0,
      "outputs": [
        {
          "output_type": "stream",
          "text": [
            "-1\n"
          ],
          "name": "stdout"
        }
      ]
    },
    {
      "cell_type": "code",
      "metadata": {
        "id": "6fRcFRd1vMeB",
        "colab_type": "code",
        "outputId": "b4666ce9-1223-460b-94bc-1747e100bd35",
        "colab": {
          "base_uri": "https://localhost:8080/",
          "height": 34
        }
      },
      "source": [
        "a='s'\n",
        "print(len(a))"
      ],
      "execution_count": 0,
      "outputs": [
        {
          "output_type": "stream",
          "text": [
            "1\n"
          ],
          "name": "stdout"
        }
      ]
    },
    {
      "cell_type": "code",
      "metadata": {
        "id": "gjW2aXq57Nfo",
        "colab_type": "code",
        "outputId": "037f0671-1f09-48b2-96ee-1d2bc1c3fe74",
        "colab": {
          "base_uri": "https://localhost:8080/",
          "height": 34
        }
      },
      "source": [
        "# Problem: Remove x from string\n",
        "def removeX(string): \n",
        "    if len(string)==0:\n",
        "      return string\n",
        "    if string[0]=='x':\n",
        "      return removeX(string[1:])\n",
        "    else:\n",
        "      return string[0] + removeX(string[1:])\n",
        "    \n",
        "# Main\n",
        "string = 'xaxb'\n",
        "print(removeX(string))\n"
      ],
      "execution_count": 0,
      "outputs": [
        {
          "output_type": "stream",
          "text": [
            "ab\n"
          ],
          "name": "stdout"
        }
      ]
    },
    {
      "cell_type": "code",
      "metadata": {
        "id": "8NOusicq9Ayi",
        "colab_type": "code",
        "outputId": "f9cbe2c0-25c5-471f-c865-ec836d548deb",
        "colab": {
          "base_uri": "https://localhost:8080/",
          "height": 34
        }
      },
      "source": [
        "def replace(s,a,b):\n",
        "  if len(s)==0:\n",
        "    return s\n",
        "  smalloutput=replace(s[1:],a,b)\n",
        "  if s[0]==a:\n",
        "    return b+smalloutput\n",
        "  else:\n",
        "    return s[0]+smalloutput\n",
        "s='dacdxcd'\n",
        "a='c'\n",
        "b='x'\n",
        "print(replace(s,a,b))"
      ],
      "execution_count": 0,
      "outputs": [
        {
          "output_type": "stream",
          "text": [
            "daxdxxd\n"
          ],
          "name": "stdout"
        }
      ]
    },
    {
      "cell_type": "code",
      "metadata": {
        "id": "-3aJbgfo-_Ce",
        "colab_type": "code",
        "outputId": "61de3100-72d9-49b0-c7f7-51dd7189e383",
        "colab": {
          "base_uri": "https://localhost:8080/",
          "height": 34
        }
      },
      "source": [
        "# Problem ID 91, removeConsecutiveDuplicates\n",
        "def removeConsecutiveDuplicates(string):\n",
        "    if len(string)==0 or len(string)==1:\n",
        "      return string\n",
        "    if string[0]==string[1]:\n",
        "      smaller=string[1:]\n",
        "      smallout=removeConsecutiveDuplicates(smaller)\n",
        "      return smallout\n",
        "    else:\n",
        "      smaller=string[1:]\n",
        "      smallout=removeConsecutiveDuplicates(smaller)\n",
        "      return string[0]+smallout\n",
        "# Main\n",
        "string = 'aaabccba'\n",
        "print(removeConsecutiveDuplicates(string))"
      ],
      "execution_count": 0,
      "outputs": [
        {
          "output_type": "stream",
          "text": [
            "abcba\n"
          ],
          "name": "stdout"
        }
      ]
    },
    {
      "cell_type": "code",
      "metadata": {
        "id": "X5sUWLolA-fE",
        "colab_type": "code",
        "outputId": "1b4fec69-9307-4fa2-a5ce-e0246ea9f084",
        "colab": {
          "base_uri": "https://localhost:8080/",
          "height": 51
        }
      },
      "source": [
        "#aabccba\n",
        "string = input().strip()\n",
        "print(string)"
      ],
      "execution_count": 0,
      "outputs": [
        {
          "output_type": "stream",
          "text": [
            "aabccba\n",
            "aabccba\n"
          ],
          "name": "stdout"
        }
      ]
    },
    {
      "cell_type": "code",
      "metadata": {
        "id": "8R2-E3qHBBqu",
        "colab_type": "code",
        "outputId": "a77eef9d-efb6-4c71-8e41-54beb3d7fae9",
        "colab": {
          "base_uri": "https://localhost:8080/",
          "height": 34
        }
      },
      "source": [
        "def remove(x, s):\n",
        "    if not s:\n",
        "        return ''\n",
        "    if x == s[0]:\n",
        "        return remove(x, s[1:])\n",
        "    else:\n",
        "        return s[0] + remove(x, s[1:])\n",
        "\n",
        "print(remove('x','abc'))"
      ],
      "execution_count": 0,
      "outputs": [
        {
          "output_type": "stream",
          "text": [
            "abc\n"
          ],
          "name": "stdout"
        }
      ]
    },
    {
      "cell_type": "code",
      "metadata": {
        "id": "CiWXGV46Ho9m",
        "colab_type": "code",
        "colab": {}
      },
      "source": [
        ""
      ],
      "execution_count": 0,
      "outputs": []
    },
    {
      "cell_type": "code",
      "metadata": {
        "id": "NAT2wmaDEJMA",
        "colab_type": "code",
        "colab": {}
      },
      "source": [
        "def mergeSort(arr, start, end):\n",
        "  if len(l)<=1:\n",
        "    return arr\n",
        "  mid=len(l)//2\n",
        "  small1=arr[mid:]\n",
        "  if arr[0]>arr[1]:\n",
        "    return arr[1]\n",
        "  smallist=arr[1:]\n",
        "  small1=mergeSort(arr,start,mid)\n",
        "  small2=mergeSort(arr,mid+1,l)\n",
        "  merge=mergeSort(arr,small1,s)\n",
        "    \n",
        "\n",
        "# Main\n",
        "n=int(input())\n",
        "arr=list(int(i) for i in input().strip().split(' '))\n",
        "mergeSort(arr, 0, n)\n",
        "print(*arr)\n"
      ],
      "execution_count": 0,
      "outputs": []
    },
    {
      "cell_type": "markdown",
      "metadata": {
        "id": "WRGdL8eVQ15M",
        "colab_type": "text"
      },
      "source": [
        "# **Merge Sort using Recursion**"
      ]
    },
    {
      "cell_type": "code",
      "metadata": {
        "id": "_K1eTNLBHp7l",
        "colab_type": "code",
        "outputId": "206fbb92-e544-48d2-a3c4-f0dc1d1293a6",
        "colab": {
          "base_uri": "https://localhost:8080/",
          "height": 51
        }
      },
      "source": [
        "def mergesort(arr):\n",
        "  if len(arr)==0 or len(arr)==1:\n",
        "    return\n",
        "  mid=len(arr)//2\n",
        "  s1=arr[0:mid]\n",
        "  s2=arr[mid:]\n",
        "  mergesort(s1)\n",
        "  mergesort(s2)\n",
        "  merge(s1,s2,arr)\n",
        "\n",
        "def merge(s1,s2,arr):\n",
        "  i,j,k=0,0,0\n",
        "  while i<len(s1) and j<len(s2):\n",
        "    if s1[i]<s2[j]:\n",
        "      arr[k]=s1[i]\n",
        "      k+=1\n",
        "      i+=1\n",
        "    else :\n",
        "      arr[k]=s2[j]\n",
        "      k+=1\n",
        "      j+=1\n",
        "  while i<len(s1):\n",
        "    arr[k]=s1[i]\n",
        "    k+=1\n",
        "    i+=1\n",
        "  while j<len(s2):\n",
        "    arr[k]=s2[j]\n",
        "    k+=1\n",
        "    j+=1\n",
        "\n",
        "arr=list(int(i) for i in input().strip().split(' '))\n",
        "mergesort(arr)\n",
        "print(*arr)"
      ],
      "execution_count": 0,
      "outputs": [
        {
          "output_type": "stream",
          "text": [
            "7 2 3 9 1 4\n",
            "1 2 3 4 7 9\n"
          ],
          "name": "stdout"
        }
      ]
    },
    {
      "cell_type": "code",
      "metadata": {
        "id": "MeUo7apRH1ly",
        "colab_type": "code",
        "outputId": "4ae18147-f503-4d95-945f-e5e1444b208f",
        "colab": {
          "base_uri": "https://localhost:8080/",
          "height": 68
        }
      },
      "source": [
        "def mergesort(arr):\n",
        "  if len(arr)==0 or len(arr)==1:\n",
        "    return\n",
        "  mid=len(arr)//2\n",
        "  s1=arr[0:mid]\n",
        "  s2=arr[mid:]\n",
        "  mergesort(s1)\n",
        "  mergesort(s2)\n",
        "  merge(s1,s2,arr)\n",
        "\n",
        "def merge(s1,s2,arr):\n",
        "  i,j,k=0,0,0\n",
        "  while i<len(s1) and j<len(s2):\n",
        "    if s1[i]<s2[j]:\n",
        "      arr[k]=s1[i]\n",
        "      k+=1\n",
        "      i+=1\n",
        "    else :\n",
        "      arr[k]=s2[j]\n",
        "      k+=1\n",
        "      j+=1\n",
        "  while i<len(s1):\n",
        "    arr[k]=s1[i]\n",
        "    k+=1\n",
        "    i+=1\n",
        "  while j<len(s2):\n",
        "    arr[k]=s2[j]\n",
        "    k+=1\n",
        "    j+=1\n",
        "n=int(input())\n",
        "arr=list(int(i) for i in input().strip().split(' '))\n",
        "mergesort(arr)\n",
        "print(*arr)\n"
      ],
      "execution_count": 0,
      "outputs": [
        {
          "output_type": "stream",
          "text": [
            "5\n",
            "9 2 8 3 7 \n",
            "2 3 7 8 9\n"
          ],
          "name": "stdout"
        }
      ]
    },
    {
      "cell_type": "markdown",
      "metadata": {
        "id": "WJOQuiM0aGYk",
        "colab_type": "text"
      },
      "source": [
        "# **Quick Sort Recursion**"
      ]
    },
    {
      "cell_type": "code",
      "metadata": {
        "id": "tCsCWfiTSJuA",
        "colab_type": "code",
        "outputId": "ec9c2927-9344-4b28-b816-26febfacb9d0",
        "colab": {
          "base_uri": "https://localhost:8080/",
          "height": 68
        }
      },
      "source": [
        "def quickSort(arr, start, end):\n",
        "    if start>=end:\n",
        "      return\n",
        "    pivot_index=partition(arr,start,end)\n",
        "    quickSort(arr,start,pivot_index-1)\n",
        "    quickSort(arr,pivot_index+1,end)\n",
        "\n",
        "def partition(arr,start,end):\n",
        "  pivot=arr[start]\n",
        "  count=0\n",
        "  for i in range(start,end+1):\n",
        "    if arr[i]<pivot:\n",
        "      count+=1\n",
        "  arr[start+count],arr[start]=arr[start],arr[start+count]\n",
        "  pivot_index=start+count\n",
        "  i=start\n",
        "  j=end\n",
        "  while i<j:\n",
        "    if arr[i]<pivot:\n",
        "      i+=1\n",
        "    elif arr[j]>=pivot:\n",
        "      j-=1\n",
        "    else:\n",
        "      arr[i],arr[j]=arr[j],arr[i]\n",
        "      i+=1\n",
        "      j-=1\n",
        "  return pivot_index\n",
        "n=int(input())\n",
        "arr=list(int(i) for i in input().strip().split(' '))\n",
        "quickSort(arr, 0, n-1)\n",
        "print(*arr)\n"
      ],
      "execution_count": 0,
      "outputs": [
        {
          "output_type": "stream",
          "text": [
            "5\n",
            "8 7 4 3 1\n",
            "1 3 4 7 8\n"
          ],
          "name": "stdout"
        }
      ]
    },
    {
      "cell_type": "code",
      "metadata": {
        "id": "f-gRKObMTw_1",
        "colab_type": "code",
        "outputId": "4133f3d3-ef64-4179-9601-a8b66d77f5bc",
        "colab": {
          "base_uri": "https://localhost:8080/",
          "height": 153
        }
      },
      "source": [
        "def towerofhanoi(n, source, aux, dest):\n",
        "    if n==0:\n",
        "      return\n",
        "    towerofhanoi(n-1,source,dest,aux)\n",
        "    print(source,dest)\n",
        "    towerofhanoi(n-1,aux,source,dest)\n",
        "\n",
        "n=int(input())\n",
        "towerofhanoi(n, 's', 'h', 'd')\n"
      ],
      "execution_count": 0,
      "outputs": [
        {
          "output_type": "stream",
          "text": [
            "3\n",
            "s d\n",
            "s h\n",
            "d h\n",
            "s d\n",
            "h s\n",
            "h d\n",
            "s d\n"
          ],
          "name": "stdout"
        }
      ]
    },
    {
      "cell_type": "code",
      "metadata": {
        "id": "AVwzP4udBnVs",
        "colab_type": "code",
        "outputId": "ce37437c-da33-40d9-d530-b490e5a5571c",
        "colab": {
          "base_uri": "https://localhost:8080/",
          "height": 51
        }
      },
      "source": [
        "a=12345\n",
        "\n",
        "print(a%10)\n",
        "print(a//10)"
      ],
      "execution_count": 0,
      "outputs": [
        {
          "output_type": "stream",
          "text": [
            "5\n",
            "1234\n"
          ],
          "name": "stdout"
        }
      ]
    },
    {
      "cell_type": "code",
      "metadata": {
        "id": "GM9hZ8_5RuCv",
        "colab_type": "code",
        "outputId": "4a25a77d-c558-4b29-83d0-eb54b1606c5b",
        "colab": {
          "base_uri": "https://localhost:8080/",
          "height": 51
        }
      },
      "source": [
        "def sum(n):\n",
        "  if n==0:\n",
        "    return 0\n",
        "  else:\n",
        "    r=n%10\n",
        "    return r+sum(n//10)\n",
        "  \n",
        "n=int(input())\n",
        "sum(n)"
      ],
      "execution_count": 0,
      "outputs": [
        {
          "output_type": "stream",
          "text": [
            "12345\n"
          ],
          "name": "stdout"
        },
        {
          "output_type": "execute_result",
          "data": {
            "text/plain": [
              "15"
            ]
          },
          "metadata": {
            "tags": []
          },
          "execution_count": 36
        }
      ]
    },
    {
      "cell_type": "code",
      "metadata": {
        "id": "8aK217-iGv9U",
        "colab_type": "code",
        "outputId": "38d4e164-bfb8-46ea-af5b-0da82a30f10f",
        "colab": {
          "base_uri": "https://localhost:8080/",
          "height": 68
        }
      },
      "source": [
        "def multi(m,n):\n",
        "  if n==0:\n",
        "    return 0\n",
        "  else:\n",
        "    ans=multi(m,n-1)\n",
        "    return ans+m\n",
        "\n",
        "m=int(input())\n",
        "n=int(input())\n",
        "multi(m,n)"
      ],
      "execution_count": 0,
      "outputs": [
        {
          "output_type": "stream",
          "text": [
            "78\n",
            "12\n"
          ],
          "name": "stdout"
        },
        {
          "output_type": "execute_result",
          "data": {
            "text/plain": [
              "936"
            ]
          },
          "metadata": {
            "tags": []
          },
          "execution_count": 1
        }
      ]
    },
    {
      "cell_type": "code",
      "metadata": {
        "id": "JVUOJcLZhYHm",
        "colab_type": "code",
        "outputId": "55fb4376-ebfe-4e9d-f615-6cfd2b6817a8",
        "colab": {
          "base_uri": "https://localhost:8080/",
          "height": 51
        }
      },
      "source": [
        "def zero(n):\n",
        "  if n==0:\n",
        "    return 0\n",
        "  if n%10==0:\n",
        "      return 1+zero(n//10)\n",
        "  else:\n",
        "    return zero(n//10)\n",
        " \n",
        "  #if smallout%10==0:\n",
        "   # return c+1\n",
        " # else:\n",
        "   # return 0\n",
        "n=int(input())\n",
        "print(zero(n))\n",
        "\n"
      ],
      "execution_count": 0,
      "outputs": [
        {
          "output_type": "stream",
          "text": [
            "100240\n",
            "3\n"
          ],
          "name": "stdout"
        }
      ]
    },
    {
      "cell_type": "markdown",
      "metadata": {
        "id": "LiwC6ZTqdJAY",
        "colab_type": "text"
      },
      "source": [
        "# **1 + 1/2 + 1/4 + 1/8 + ... + 1/(2^k)**"
      ]
    },
    {
      "cell_type": "code",
      "metadata": {
        "id": "693feEsol3a4",
        "colab_type": "code",
        "outputId": "e8e6a32c-f862-4672-eafc-bdfe7bc5f078",
        "colab": {
          "base_uri": "https://localhost:8080/",
          "height": 51
        }
      },
      "source": [
        "def gsum(n):\n",
        "    if n <0:\n",
        "        return 0\n",
        "    small = gsum(n-1)\n",
        "    ans = 1/pow(2,n) + small\n",
        "    return ans\n",
        "\n",
        "n = int(input())\n",
        "a=gsum(n)\n",
        "print('%.5f'%a)"
      ],
      "execution_count": 0,
      "outputs": [
        {
          "output_type": "stream",
          "text": [
            "5\n",
            "1.96875\n"
          ],
          "name": "stdout"
        }
      ]
    },
    {
      "cell_type": "code",
      "metadata": {
        "id": "R8Ac_zB0M5c6",
        "colab_type": "code",
        "colab": {}
      },
      "source": [
        "## x*xbdgc*c\n",
        "def xxyy(n,total,i = 0):\n",
        "  total = total + n[i]\n",
        "\n",
        "  if i == (len(n)-1):\n",
        "    print(total)\n",
        "    return\n",
        "  if n[i] == n[i+1]:\n",
        "    total = total+ '*'\n",
        "  xxyy(n,total,i+1)\n",
        "\n",
        "n = input()\n",
        "xxyy(n,'',0)"
      ],
      "execution_count": 0,
      "outputs": []
    },
    {
      "cell_type": "markdown",
      "metadata": {
        "id": "jXuADd91itP8",
        "colab_type": "text"
      },
      "source": [
        "# **Stair case problem**"
      ]
    },
    {
      "cell_type": "code",
      "metadata": {
        "id": "5Hhq2L2Dixm0",
        "colab_type": "code",
        "outputId": "c876d46b-8d24-48a9-a040-2a4a69b47f65",
        "colab": {
          "base_uri": "https://localhost:8080/",
          "height": 51
        }
      },
      "source": [
        "import sys\n",
        "sys.setrecursionlimit(10000)\n",
        "def staircase(n):\n",
        "  if n==1:\n",
        "    return 1\n",
        "  elif n==2:\n",
        "    return 2\n",
        "  elif n==3:\n",
        "    return 4\n",
        "  else:\n",
        "    x=staircase(n-1)\n",
        "    y=staircase(n-2)\n",
        "    z=staircase(n-3)\n",
        "  return x+y+z\n",
        "\n",
        "\n",
        "n=int(input())\n",
        "print(staircase(n))"
      ],
      "execution_count": 0,
      "outputs": [
        {
          "output_type": "stream",
          "text": [
            "5\n",
            "13\n"
          ],
          "name": "stdout"
        }
      ]
    },
    {
      "cell_type": "markdown",
      "metadata": {
        "id": "sdKPgTF95uLH",
        "colab_type": "text"
      },
      "source": [
        "# **Checking Ab**"
      ]
    },
    {
      "cell_type": "code",
      "metadata": {
        "id": "WrMOS_AejW42",
        "colab_type": "code",
        "outputId": "febf50a5-9847-4d3a-d8a2-c4694e1b33d3",
        "colab": {
          "base_uri": "https://localhost:8080/",
          "height": 34
        }
      },
      "source": [
        "def checkAB(str):\n",
        "    if(len(str)==0):\n",
        "      print(\"true\")\n",
        "      return \n",
        "    if(str[0]=='a'):\n",
        "        if (len(str[1:])>1 and str[1:3]=='bb'):\n",
        "            return checkAB(str[3:])\n",
        "        else:\n",
        "            return checkAB(str[1:])\n",
        "    else:\n",
        "        print(\"false\")\n",
        "n='abbc'\n",
        "checkAB(n)"
      ],
      "execution_count": 0,
      "outputs": [
        {
          "output_type": "stream",
          "text": [
            "false\n"
          ],
          "name": "stdout"
        }
      ]
    },
    {
      "cell_type": "code",
      "metadata": {
        "id": "1e4DDrt1-vSF",
        "colab_type": "code",
        "colab": {}
      },
      "source": [
        "def checkAB(str):\n",
        "    if(len(str)==0):\n",
        "        return True\n",
        "    if(str[0]=='a'):\n",
        "        if (len(str[1:])>1 and str[1:3]=='bb'):\n",
        "            return checkAB(str[3:])\n",
        "        else:\n",
        "            return checkAB(str[1:])\n",
        "    else:\n",
        "        return False\n",
        " \n",
        "n=input()\n",
        "if checkAB(n):\n",
        "    print('true')\n",
        "else:\n",
        "    print('false')"
      ],
      "execution_count": 0,
      "outputs": []
    },
    {
      "cell_type": "code",
      "metadata": {
        "id": "w3kZK6NkA2Rc",
        "colab_type": "code",
        "outputId": "f2472bf6-3811-4315-8011-347106dcac21",
        "colab": {
          "base_uri": "https://localhost:8080/",
          "height": 34
        }
      },
      "source": [
        "class Student:\n",
        "    name = 'Parikh'\n",
        "    def store_details(self):\n",
        "        self.age = 60\n",
        "    def print_details(self):\n",
        "        print(self.name, end=' ')\n",
        "        print(self.age)\n",
        "s = Student()\n",
        "s.store_details()\n",
        "s.print_details()"
      ],
      "execution_count": 0,
      "outputs": [
        {
          "output_type": "stream",
          "text": [
            "Parikh 60\n"
          ],
          "name": "stdout"
        }
      ]
    },
    {
      "cell_type": "code",
      "metadata": {
        "id": "_8gEd2OlA7dK",
        "colab_type": "code",
        "outputId": "2edb4300-c7b2-48d2-dc73-29b84c5a4075",
        "colab": {
          "base_uri": "https://localhost:8080/",
          "height": 119
        }
      },
      "source": [
        "class Student:\n",
        "\n",
        "\tpassingPercentage = 40\n",
        "\n",
        "\tdef studentDetails(self):\n",
        "\t\tself.name = \"Parikh\"\n",
        "\t\tprint(\"Name = \", self.name)\n",
        "\t\tself.percentage = 80\n",
        "\t\tprint(\"Percentage = \", self.percentage)\n",
        "\t\tpass\n",
        "\n",
        "\tdef isPassed(self):\n",
        "\t\tif self.percentage > Student.passingPercentage:\n",
        "\t\t\tprint(\"Student is passed\")\n",
        "\t\telse:\n",
        "\t\t\tprint(\"Student is not passed\")\n",
        "\n",
        "\t@staticmethod\n",
        "\tdef welcomeToSchool():\n",
        "\t\tprint(\"Hey! Welcome To School\")\n",
        "\n",
        "s1 = Student()\n",
        "s1.studentDetails()\n",
        "Student.studentDetails(s1)\n",
        "s1.isPassed()\n",
        "s1.welcomeToSchool()\n",
        "\n",
        "#class_name.function(object_name)"
      ],
      "execution_count": 0,
      "outputs": [
        {
          "output_type": "stream",
          "text": [
            "Name =  Parikh\n",
            "Percentage =  80\n",
            "Name =  Parikh\n",
            "Percentage =  80\n",
            "Student is passed\n",
            "Hey! Welcome To School\n"
          ],
          "name": "stdout"
        }
      ]
    },
    {
      "cell_type": "code",
      "metadata": {
        "id": "lgqEtK7GBPAf",
        "colab_type": "code",
        "outputId": "08113466-e015-4014-8fb6-c5e161baf10d",
        "colab": {
          "base_uri": "https://localhost:8080/",
          "height": 34
        }
      },
      "source": [
        "class Student:\n",
        "    def __init__(self,name,age):\n",
        "        self.name = 'Rohan'\n",
        "        self.age = 20\n",
        "\n",
        "    def print_student_details(self):\n",
        "        print(self.name, end= ' ' )\n",
        "        print(self.age)\n",
        "s = Student('Parikh',25)\n",
        "s.print_student_details()"
      ],
      "execution_count": 0,
      "outputs": [
        {
          "output_type": "stream",
          "text": [
            "Rohan 20\n"
          ],
          "name": "stdout"
        }
      ]
    },
    {
      "cell_type": "markdown",
      "metadata": {
        "id": "GmF5F1kC0U3Y",
        "colab_type": "text"
      },
      "source": [
        "# **Acess modifier private and public**"
      ]
    },
    {
      "cell_type": "code",
      "metadata": {
        "id": "umNknMmTxKzi",
        "colab_type": "code",
        "colab": {}
      },
      "source": [
        "\n",
        "class Student:\n",
        "\n",
        "\t__passingPercentage = 40\n",
        "\n",
        "\tdef __init__(self,name,age=15,percentage=80):\n",
        "\t\tself.__name = name\n",
        "\t\tself.age = age\n",
        "\t\tself.percentage = percentage\n",
        "\n",
        "\tdef studentDetails(self):\n",
        "\t\tprint(\"Name = \", self.__name)\n",
        "\t\tprint(\"Age =\" , self.age)\n",
        "\t\tprint(\"Percentage = \", self.percentage)\n",
        "\t\t\n",
        "\n",
        "\tdef isPassed(self):\n",
        "\t\tif self.percentage > Student.passingPercentage:\n",
        "\t\t\tprint(\"Student is passed\")\n",
        "\t\telse:\n",
        "\t\t\tprint(\"Student is not passed\")\n",
        "\n",
        "\t@staticmethod\n",
        "\tdef welcomeToSchool():\n",
        "\t\tprint(\"Hey! Welcome To School\")\n",
        "\n",
        "s1 = Student(\"Parikh\")\n",
        "#print(s1.__name)\n",
        "#print(s1.age)\n",
        "s1.age = 20\n",
        "print(Student._Student__passingPercentage)\n",
        "s1.studentDetails()\n",
        "# s1.name = \"Ankush\"\n",
        "# s1.age = 20\n",
        "# print(s1.name)\n",
        "# print(s1.age)\n",
        "#s1.studentDetails()\n",
        "# s1.isPassed()\n",
        "# s2 = Student(\"Varun\",26,90)\n",
        "# s1.studentDetails()\n",
        "# s2.studentDetails()\n",
        "# s1.studentDetails()\n",
        "# Student.studentDetails(s1)\n",
        "# s1.isPassed()\n",
        "# s1.welcomeToSchool()\n",
        "\n",
        "\n",
        "#class_name.function(object_name)"
      ],
      "execution_count": 0,
      "outputs": []
    },
    {
      "cell_type": "markdown",
      "metadata": {
        "id": "LmDWWzvuD_qi",
        "colab_type": "text"
      },
      "source": [
        "# **Inheritance**"
      ]
    },
    {
      "cell_type": "code",
      "metadata": {
        "id": "sNpbstfaEDc4",
        "colab_type": "code",
        "outputId": "8967c81a-4b31-422e-e325-e56855482ed5",
        "colab": {
          "base_uri": "https://localhost:8080/",
          "height": 85
        }
      },
      "source": [
        "\n",
        "\n",
        "class Vehicle:\n",
        "\n",
        "\tdef __init__(self,color,maxSpeed):\n",
        "\t\tself.color = color\n",
        "\t\tself.maxSpeed = maxSpeed\n",
        "\n",
        "class Car(Vehicle):\n",
        "\n",
        "\tdef __init__(self,color,maxSpeed,numGears,isConvertible):\n",
        "\n",
        "\t\tsuper().__init__(color,maxSpeed)\n",
        "\t\tself.numGears = numGears\n",
        "\t\tself.isConvertible = isConvertible\n",
        "\n",
        "\tdef printCar(self):\n",
        "\t\tprint(\"Color :\" ,self.color)\n",
        "\t\tprint(\"MaxSpeed :\",self.maxSpeed)\n",
        "\t\tprint(\"NumGears :\",self.numGears)\n",
        "\t\tprint(\"IsConvertible :\", self.isConvertible)\n",
        "\n",
        "\n",
        "c = Car(\"red\",15,3,False)\n",
        "c.printCar()"
      ],
      "execution_count": 0,
      "outputs": [
        {
          "output_type": "stream",
          "text": [
            "Color : red\n",
            "MaxSpeed : 15\n",
            "NumGears : 3\n",
            "IsConvertible : False\n"
          ],
          "name": "stdout"
        }
      ]
    },
    {
      "cell_type": "markdown",
      "metadata": {
        "id": "ZHE_CvCyFXgA",
        "colab_type": "text"
      },
      "source": [
        "# **Inheritance And Private Members**"
      ]
    },
    {
      "cell_type": "code",
      "metadata": {
        "id": "6gAyay1eEEdA",
        "colab_type": "code",
        "outputId": "5c10610a-6326-4599-8c37-8e31a79a46da",
        "colab": {
          "base_uri": "https://localhost:8080/",
          "height": 85
        }
      },
      "source": [
        "\n",
        "\n",
        "class Vehicle:\n",
        "\n",
        "\tdef __init__(self,color,maxSpeed):\n",
        "\t\tself.color = color\n",
        "\t\tself.__maxSpeed = maxSpeed\n",
        "\n",
        "\tdef getMaxSpeed(self):\n",
        "\t\treturn self.__maxSpeed\n",
        "\n",
        "\tdef setMaxSpeed(self,maxSpeed):\n",
        "\t\tself.__maxSpeed = maxSpeed\n",
        "\n",
        "class Car(Vehicle):\n",
        "\n",
        "\tdef __init__(self,color,maxSpeed,numGears,isConvertible):\n",
        "\n",
        "\t\tsuper().__init__(color,maxSpeed)\n",
        "\t\tself.numGears = numGears\n",
        "\t\tself.isConvertible = isConvertible\n",
        "\n",
        "\tdef printCar(self):\n",
        "\t\tprint(\"Color :\" ,self.color)\n",
        "\t\tprint(\"MaxSpeed :\",self.getMaxSpeed())\n",
        "\t\tprint(\"NumGears :\",self.numGears)\n",
        "\t\tprint(\"IsConvertible :\", self.isConvertible)\n",
        "\n",
        "\n",
        "c = Car(\"red\",15,3,False)\n",
        "c.printCar()"
      ],
      "execution_count": 0,
      "outputs": [
        {
          "output_type": "stream",
          "text": [
            "Color : red\n",
            "MaxSpeed : 15\n",
            "NumGears : 3\n",
            "IsConvertible : False\n"
          ],
          "name": "stdout"
        }
      ]
    },
    {
      "cell_type": "markdown",
      "metadata": {
        "id": "uPFEKi_YHvan",
        "colab_type": "text"
      },
      "source": [
        "# **Polymorphism**"
      ]
    },
    {
      "cell_type": "code",
      "metadata": {
        "id": "3gZY1IQRFcdK",
        "colab_type": "code",
        "colab": {}
      },
      "source": [
        "\n",
        "\n",
        "class Vehicle:\n",
        "\n",
        "\tdef __init__(self,color,maxSpeed):\n",
        "\t\tself.color = color\n",
        "\t\tself._maxSpeed = maxSpeed\n",
        "\n",
        "\t@classmethod\n",
        "\tdef getMaxSpeed(cls):\n",
        "\t\treturn 15\n",
        "\n",
        "\tdef setMaxSpeed(self,maxSpeed):\n",
        "\t\tself._maxSpeed = maxSpeed\n",
        "\n",
        "\tdef print(self):\n",
        "\t\tprint(\"Color :\" ,self.color)\n",
        "\t\tprint(\"MaxSpeed :\",self._maxSpeed)\n",
        "\n",
        "class Car(Vehicle):\n",
        "\n",
        "\tdef __init__(self,color,maxSpeed,numGears,isConvertible):\n",
        "\n",
        "\t\tsuper().__init__(color,maxSpeed)\n",
        "\t\tself.numGears = numGears\n",
        "\t\tself.isConvertible = isConvertible\n",
        "\n",
        "\tdef print(self):\n",
        "\t\t# super().print()\n",
        "\t\tprint(\"Color :\" ,self.color)\n",
        "\t\tprint(\"MaxSpeed :\",self._maxSpeed)\n",
        "\t\tprint(\"NumGears :\",self.numGears)\n",
        "\t\tprint(\"IsConvertible :\", self.isConvertible)\n",
        "\n",
        "\n",
        "# c = Car(\"red\",15,3,False)\n",
        "# c.print()\n",
        "#print()\n",
        "v = Vehicle(\"red\",18)\n",
        "v.print()\n",
        "print()\n",
        "v._maxSpeed = 19\n",
        "get = v.getMaxSpeed()\n",
        "print(get)"
      ],
      "execution_count": 0,
      "outputs": []
    },
    {
      "cell_type": "code",
      "metadata": {
        "id": "4fEp6DlaH6YV",
        "colab_type": "code",
        "outputId": "68456ae2-2952-423e-e8a1-b015807b2d20",
        "colab": {
          "base_uri": "https://localhost:8080/",
          "height": 316
        }
      },
      "source": [
        "class Vehicle:\n",
        "     def __init__(self,color):\n",
        "         self.__color = color\n",
        "class Car(Vehicle):\n",
        "    def __init__(self,color,numGears):\n",
        "        super().__init__(color)\n",
        "        self.numGears = numGears\n",
        "    def printCar(self):\n",
        "        print(c.__color,end='' )\n",
        "        print(c.numGears)\n",
        "c = Car('black',5)\n",
        "c.printCar()"
      ],
      "execution_count": 0,
      "outputs": [
        {
          "output_type": "error",
          "ename": "AttributeError",
          "evalue": "ignored",
          "traceback": [
            "\u001b[0;31m---------------------------------------------------------------------------\u001b[0m",
            "\u001b[0;31mAttributeError\u001b[0m                            Traceback (most recent call last)",
            "\u001b[0;32m<ipython-input-2-8e476b9c61a5>\u001b[0m in \u001b[0;36m<module>\u001b[0;34m()\u001b[0m\n\u001b[1;32m     10\u001b[0m         \u001b[0mprint\u001b[0m\u001b[0;34m(\u001b[0m\u001b[0mc\u001b[0m\u001b[0;34m.\u001b[0m\u001b[0mnumGears\u001b[0m\u001b[0;34m)\u001b[0m\u001b[0;34m\u001b[0m\u001b[0;34m\u001b[0m\u001b[0m\n\u001b[1;32m     11\u001b[0m \u001b[0mc\u001b[0m \u001b[0;34m=\u001b[0m \u001b[0mCar\u001b[0m\u001b[0;34m(\u001b[0m\u001b[0;34m'black'\u001b[0m\u001b[0;34m,\u001b[0m\u001b[0;36m5\u001b[0m\u001b[0;34m)\u001b[0m\u001b[0;34m\u001b[0m\u001b[0;34m\u001b[0m\u001b[0m\n\u001b[0;32m---> 12\u001b[0;31m \u001b[0mc\u001b[0m\u001b[0;34m.\u001b[0m\u001b[0mprintCar\u001b[0m\u001b[0;34m(\u001b[0m\u001b[0;34m)\u001b[0m\u001b[0;34m\u001b[0m\u001b[0;34m\u001b[0m\u001b[0m\n\u001b[0m",
            "\u001b[0;32m<ipython-input-2-8e476b9c61a5>\u001b[0m in \u001b[0;36mprintCar\u001b[0;34m(self)\u001b[0m\n\u001b[1;32m      7\u001b[0m         \u001b[0mself\u001b[0m\u001b[0;34m.\u001b[0m\u001b[0mnumGears\u001b[0m \u001b[0;34m=\u001b[0m \u001b[0mnumGears\u001b[0m\u001b[0;34m\u001b[0m\u001b[0;34m\u001b[0m\u001b[0m\n\u001b[1;32m      8\u001b[0m     \u001b[0;32mdef\u001b[0m \u001b[0mprintCar\u001b[0m\u001b[0;34m(\u001b[0m\u001b[0mself\u001b[0m\u001b[0;34m)\u001b[0m\u001b[0;34m:\u001b[0m\u001b[0;34m\u001b[0m\u001b[0;34m\u001b[0m\u001b[0m\n\u001b[0;32m----> 9\u001b[0;31m         \u001b[0mprint\u001b[0m\u001b[0;34m(\u001b[0m\u001b[0mc\u001b[0m\u001b[0;34m.\u001b[0m\u001b[0m__color\u001b[0m\u001b[0;34m,\u001b[0m\u001b[0mend\u001b[0m\u001b[0;34m=\u001b[0m\u001b[0;34m''\u001b[0m \u001b[0;34m)\u001b[0m\u001b[0;34m\u001b[0m\u001b[0;34m\u001b[0m\u001b[0m\n\u001b[0m\u001b[1;32m     10\u001b[0m         \u001b[0mprint\u001b[0m\u001b[0;34m(\u001b[0m\u001b[0mc\u001b[0m\u001b[0;34m.\u001b[0m\u001b[0mnumGears\u001b[0m\u001b[0;34m)\u001b[0m\u001b[0;34m\u001b[0m\u001b[0;34m\u001b[0m\u001b[0m\n\u001b[1;32m     11\u001b[0m \u001b[0mc\u001b[0m \u001b[0;34m=\u001b[0m \u001b[0mCar\u001b[0m\u001b[0;34m(\u001b[0m\u001b[0;34m'black'\u001b[0m\u001b[0;34m,\u001b[0m\u001b[0;36m5\u001b[0m\u001b[0;34m)\u001b[0m\u001b[0;34m\u001b[0m\u001b[0;34m\u001b[0m\u001b[0m\n",
            "\u001b[0;31mAttributeError\u001b[0m: 'Car' object has no attribute '_Car__color'"
          ]
        }
      ]
    },
    {
      "cell_type": "code",
      "metadata": {
        "id": "MbzuHDd0JPwP",
        "colab_type": "code",
        "outputId": "304dd238-a32b-431f-c5da-4f2aacb05e5c",
        "colab": {
          "base_uri": "https://localhost:8080/",
          "height": 374
        }
      },
      "source": [
        "class Vehicle:\n",
        "    def __init__(self,color):\n",
        "        self.color = color\n",
        "    def print(self):\n",
        "        print(c.color,end='')\n",
        "class Car(Vehicle):\n",
        "    def __init__(self,color,numGears):\n",
        "        super().__init__(color)\n",
        "        self.numGears = numGears\n",
        "    def print(self):\n",
        "        self.print()\n",
        "        print(c.numGears)\n",
        "c = Car('black',5)\n",
        "c.print()"
      ],
      "execution_count": 0,
      "outputs": [
        {
          "output_type": "error",
          "ename": "RecursionError",
          "evalue": "ignored",
          "traceback": [
            "\u001b[0;31m---------------------------------------------------------------------------\u001b[0m",
            "\u001b[0;31mRecursionError\u001b[0m                            Traceback (most recent call last)",
            "\u001b[0;32m<ipython-input-4-7472f54ff151>\u001b[0m in \u001b[0;36m<module>\u001b[0;34m()\u001b[0m\n\u001b[1;32m     12\u001b[0m         \u001b[0mprint\u001b[0m\u001b[0;34m(\u001b[0m\u001b[0mc\u001b[0m\u001b[0;34m.\u001b[0m\u001b[0mnumGears\u001b[0m\u001b[0;34m)\u001b[0m\u001b[0;34m\u001b[0m\u001b[0;34m\u001b[0m\u001b[0m\n\u001b[1;32m     13\u001b[0m \u001b[0mc\u001b[0m \u001b[0;34m=\u001b[0m \u001b[0mCar\u001b[0m\u001b[0;34m(\u001b[0m\u001b[0;34m'black'\u001b[0m\u001b[0;34m,\u001b[0m\u001b[0;36m5\u001b[0m\u001b[0;34m)\u001b[0m\u001b[0;34m\u001b[0m\u001b[0;34m\u001b[0m\u001b[0m\n\u001b[0;32m---> 14\u001b[0;31m \u001b[0mc\u001b[0m\u001b[0;34m.\u001b[0m\u001b[0mprint\u001b[0m\u001b[0;34m(\u001b[0m\u001b[0;34m)\u001b[0m\u001b[0;34m\u001b[0m\u001b[0;34m\u001b[0m\u001b[0m\n\u001b[0m",
            "\u001b[0;32m<ipython-input-4-7472f54ff151>\u001b[0m in \u001b[0;36mprint\u001b[0;34m(self)\u001b[0m\n\u001b[1;32m      9\u001b[0m         \u001b[0mself\u001b[0m\u001b[0;34m.\u001b[0m\u001b[0mnumGears\u001b[0m \u001b[0;34m=\u001b[0m \u001b[0mnumGears\u001b[0m\u001b[0;34m\u001b[0m\u001b[0;34m\u001b[0m\u001b[0m\n\u001b[1;32m     10\u001b[0m     \u001b[0;32mdef\u001b[0m \u001b[0mprint\u001b[0m\u001b[0;34m(\u001b[0m\u001b[0mself\u001b[0m\u001b[0;34m)\u001b[0m\u001b[0;34m:\u001b[0m\u001b[0;34m\u001b[0m\u001b[0;34m\u001b[0m\u001b[0m\n\u001b[0;32m---> 11\u001b[0;31m         \u001b[0mself\u001b[0m\u001b[0;34m.\u001b[0m\u001b[0mprint\u001b[0m\u001b[0;34m(\u001b[0m\u001b[0;34m)\u001b[0m\u001b[0;34m\u001b[0m\u001b[0;34m\u001b[0m\u001b[0m\n\u001b[0m\u001b[1;32m     12\u001b[0m         \u001b[0mprint\u001b[0m\u001b[0;34m(\u001b[0m\u001b[0mc\u001b[0m\u001b[0;34m.\u001b[0m\u001b[0mnumGears\u001b[0m\u001b[0;34m)\u001b[0m\u001b[0;34m\u001b[0m\u001b[0;34m\u001b[0m\u001b[0m\n\u001b[1;32m     13\u001b[0m \u001b[0mc\u001b[0m \u001b[0;34m=\u001b[0m \u001b[0mCar\u001b[0m\u001b[0;34m(\u001b[0m\u001b[0;34m'black'\u001b[0m\u001b[0;34m,\u001b[0m\u001b[0;36m5\u001b[0m\u001b[0;34m)\u001b[0m\u001b[0;34m\u001b[0m\u001b[0;34m\u001b[0m\u001b[0m\n",
            "... last 1 frames repeated, from the frame below ...\n",
            "\u001b[0;32m<ipython-input-4-7472f54ff151>\u001b[0m in \u001b[0;36mprint\u001b[0;34m(self)\u001b[0m\n\u001b[1;32m      9\u001b[0m         \u001b[0mself\u001b[0m\u001b[0;34m.\u001b[0m\u001b[0mnumGears\u001b[0m \u001b[0;34m=\u001b[0m \u001b[0mnumGears\u001b[0m\u001b[0;34m\u001b[0m\u001b[0;34m\u001b[0m\u001b[0m\n\u001b[1;32m     10\u001b[0m     \u001b[0;32mdef\u001b[0m \u001b[0mprint\u001b[0m\u001b[0;34m(\u001b[0m\u001b[0mself\u001b[0m\u001b[0;34m)\u001b[0m\u001b[0;34m:\u001b[0m\u001b[0;34m\u001b[0m\u001b[0;34m\u001b[0m\u001b[0m\n\u001b[0;32m---> 11\u001b[0;31m         \u001b[0mself\u001b[0m\u001b[0;34m.\u001b[0m\u001b[0mprint\u001b[0m\u001b[0;34m(\u001b[0m\u001b[0;34m)\u001b[0m\u001b[0;34m\u001b[0m\u001b[0;34m\u001b[0m\u001b[0m\n\u001b[0m\u001b[1;32m     12\u001b[0m         \u001b[0mprint\u001b[0m\u001b[0;34m(\u001b[0m\u001b[0mc\u001b[0m\u001b[0;34m.\u001b[0m\u001b[0mnumGears\u001b[0m\u001b[0;34m)\u001b[0m\u001b[0;34m\u001b[0m\u001b[0;34m\u001b[0m\u001b[0m\n\u001b[1;32m     13\u001b[0m \u001b[0mc\u001b[0m \u001b[0;34m=\u001b[0m \u001b[0mCar\u001b[0m\u001b[0;34m(\u001b[0m\u001b[0;34m'black'\u001b[0m\u001b[0;34m,\u001b[0m\u001b[0;36m5\u001b[0m\u001b[0;34m)\u001b[0m\u001b[0;34m\u001b[0m\u001b[0;34m\u001b[0m\u001b[0m\n",
            "\u001b[0;31mRecursionError\u001b[0m: maximum recursion depth exceeded"
          ]
        }
      ]
    },
    {
      "cell_type": "markdown",
      "metadata": {
        "id": "-bIRlEeiLjbI",
        "colab_type": "text"
      },
      "source": [
        "# **Class Object**"
      ]
    },
    {
      "cell_type": "code",
      "metadata": {
        "id": "8PujTvTOJ3Vk",
        "colab_type": "code",
        "outputId": "6fe58f30-d741-4477-ded9-304ac43a2a1a",
        "colab": {
          "base_uri": "https://localhost:8080/",
          "height": 34
        }
      },
      "source": [
        "class Circle(object):\n",
        "\n",
        "\tdef __init__(self,radius):\n",
        "\t\tself.__radius = radius\n",
        "\n",
        "\tdef __str__(self):\n",
        "\t\treturn \"This is a Circle class which takes radius as an argument.\"\n",
        "\n",
        "c = Circle(3)\n",
        "print(c)"
      ],
      "execution_count": 0,
      "outputs": [
        {
          "output_type": "stream",
          "text": [
            "This is a Circle class which takes radius as an argument.\n"
          ],
          "name": "stdout"
        }
      ]
    },
    {
      "cell_type": "code",
      "metadata": {
        "id": "lazLlDKrMk87",
        "colab_type": "code",
        "colab": {}
      },
      "source": [
        ""
      ],
      "execution_count": 0,
      "outputs": []
    },
    {
      "cell_type": "markdown",
      "metadata": {
        "id": "oSS5IKn3WLN5",
        "colab_type": "text"
      },
      "source": [
        "# **Operator Overloading**"
      ]
    },
    {
      "cell_type": "code",
      "metadata": {
        "id": "riiiE5jAWNK3",
        "colab_type": "code",
        "outputId": "bc464747-bb0c-40bf-d613-152a5f743b11",
        "colab": {
          "base_uri": "https://localhost:8080/",
          "height": 51
        }
      },
      "source": [
        "import math\n",
        "class Point:\n",
        "\n",
        "\tdef __init__(self,x,y):\n",
        "\t\tself.__x = x\n",
        "\t\tself.__y = y\n",
        "\n",
        "\n",
        "\tdef __str__(self):\n",
        "\n",
        "\t\treturn \"This point is at (\" + str(self.__x) + \",\" + str(self.__y) + \")\"\n",
        "\n",
        "\tdef __add__(self,point_object):\n",
        "\t\treturn Point(self.__x + point_object.__x,self.__y + point_object.__y)\n",
        "\n",
        "\tdef __lt__(self,point_object):\n",
        "\t\treturn math.sqrt(self.__x**2 + self.__y**2) < math.sqrt(point_object.__x**2 + point_object.__y**2)\n",
        "\n",
        "\n",
        "p1 = Point(1,2)\n",
        "p2 = Point(3,4)\n",
        "p3 = p1 + p2\n",
        "print(p3)\n",
        "print(p2<p1)"
      ],
      "execution_count": 0,
      "outputs": [
        {
          "output_type": "stream",
          "text": [
            "This point is at (4,6)\n",
            "False\n"
          ],
          "name": "stdout"
        }
      ]
    },
    {
      "cell_type": "markdown",
      "metadata": {
        "id": "grTtZT-JeT38",
        "colab_type": "text"
      },
      "source": [
        "# **Customr Exception**"
      ]
    },
    {
      "cell_type": "code",
      "metadata": {
        "id": "1ZR7z1aKWQmw",
        "colab_type": "code",
        "colab": {}
      },
      "source": [
        "\n",
        "\n",
        "class ZeroDenominatorError(ZeroDivisionError):\n",
        "\tpass\n",
        "while True:\n",
        "\ttry:\n",
        "\t\tn = input('Enter the numerator :')\n",
        "\t\tnum = int(n)\n",
        "\t\tn = input('Enter the denominator :')\n",
        "\t\tdenom = int(n)\n",
        "\t\tif denom == 0:\n",
        "\t\t\traise ZeroDenominatorError('Denominator should not be zero')\n",
        "\t\tvalue = num/denom\n",
        "\texcept ValueError:\n",
        "\t\tprint(\"Numerator and Denominator should be integers\")\n",
        "\texcept ZeroDenominatorError:\n",
        "\t\tprint(\"ZeroDenominatorError is raised\")\n",
        "\texcept ZeroDivisionError:\n",
        "\t\tprint(\"Division by zero is not allowed\")\n",
        "\texcept :\n",
        "\t\tprint(\"some exception is raised\") \n",
        "\telse:\n",
        "\t\tprint(value)\n",
        "\t\tbreak\n",
        "\tfinally:\n",
        "\t\tprint(num)\n",
        "\t\tprint(denom)\n",
        "\t\tprint(value)\n",
        "\t\tprint('exception may or may not be raised')\n"
      ],
      "execution_count": 0,
      "outputs": []
    },
    {
      "cell_type": "markdown",
      "metadata": {
        "id": "ZraAOkAYVD5v",
        "colab_type": "text"
      },
      "source": [
        "# **Array intersection improved**"
      ]
    },
    {
      "cell_type": "code",
      "metadata": {
        "id": "DsfAXNiDea9R",
        "colab_type": "code",
        "outputId": "d6496293-2d1b-4010-9832-43e8c85f74f8",
        "colab": {
          "base_uri": "https://localhost:8080/",
          "height": 102
        }
      },
      "source": [
        "def mergesort(arr1):\n",
        "  if len(arr1)==0 or len(arr1)==1:\n",
        "    return \n",
        "  mid=len(arr1)//2\n",
        "  s1=arr1[0:mid]\n",
        "  s2=arr1[mid:]\n",
        "  mergesort(s1)\n",
        "  mergesort(s2)\n",
        "  merge(s1,s2,arr1)\n",
        "def merge(s1,s2,arr1):\n",
        "  i,j,k=0,0,0\n",
        "  while i<len(s1) and j<len(s2):\n",
        "    if s1[i]<s2[j]:\n",
        "      arr1[k]=s1[i]\n",
        "      k+=1\n",
        "      i+=1\n",
        "    else:\n",
        "      arr1[k]=s2[j]\n",
        "      k+=1\n",
        "      j+=1\n",
        "  while i<len(s1):\n",
        "    arr1[k]=s1[i]\n",
        "    k+=1\n",
        "    i+=1\n",
        "  while j<len(s2):\n",
        "    arr1[k]=s2[j]\n",
        "    k+=1\n",
        "    j+=1\n",
        "def intersection(arr1,arr2):\n",
        "  if len(arr1)>len(arr2):\n",
        "    i,j,k=0,0,0\n",
        "    while k<len(arr1) and k<len(arr2):\n",
        "      if arr1[i]==arr2[j]:\n",
        "        print(arr1[i])\n",
        "        i+=1\n",
        "        j+=1\n",
        "        k+=1\n",
        "      else:\n",
        "        i+=1\n",
        "        j+=1\n",
        "        k+=1\n",
        "         \n",
        "  else:\n",
        "     i,j,k=0,0,0\n",
        "     while k <len(arr1) and k<len(arr2):\n",
        "      if arr2[i]==arr1[j]:\n",
        "        print(arr2[i])\n",
        "        i+=1\n",
        "        j+=1\n",
        "        k+=1\n",
        "      else:\n",
        "        i+=1\n",
        "        j+=1\n",
        "        k+=1\n",
        "\n",
        "\n",
        "# Main\n",
        "#n1=int(input())\n",
        "#arr1=list(int(i) for i in input().strip().split(' '))\n",
        "#n2=int(input())\n",
        "#arr2=list(int(i) for i in input().strip().split(' '))\n",
        "#intersection(arr1, arr2) \n",
        "arr1=[2 ,6 ,1, 2]\n",
        "arr2=[1 ,2 ,3 ,4 ,2]\n",
        "mergesort(arr1)\n",
        "mergesort(arr2)\n",
        "print(*arr1)\n",
        "print(*arr2)\n",
        "intersection(arr1,arr2)"
      ],
      "execution_count": 0,
      "outputs": [
        {
          "output_type": "stream",
          "text": [
            "1 2 2 6\n",
            "1 2 2 3 4\n",
            "1\n",
            "2\n",
            "2\n"
          ],
          "name": "stdout"
        }
      ]
    },
    {
      "cell_type": "code",
      "metadata": {
        "id": "wljcegJY0oYJ",
        "colab_type": "code",
        "colab": {}
      },
      "source": [
        "def mergesort(arr):\n",
        "  if len(arr)==0 or len(arr)==1:\n",
        "    return\n",
        "  mid=len(arr)//2\n",
        "  s1=arr[0:mid]\n",
        "  s2=arr[mid:]\n",
        "  mergesort(s1)\n",
        "  mergesort(s2)\n",
        "  merge(s1,s2,arr)\n",
        "\n",
        "def merge(s1,s2,arr):\n",
        "  i,j,k=0,0,0\n",
        "  while i<len(s1) and j<len(s2):\n",
        "    if s1[i]<s2[j]:\n",
        "      arr[k]=s1[i]\n",
        "      k+=1\n",
        "      i+=1\n",
        "    else :\n",
        "      arr[k]=s2[j]\n",
        "      k+=1\n",
        "      j+=1\n",
        "  while i<len(s1):\n",
        "    arr[k]=s1[i]\n",
        "    k+=1\n",
        "    i+=1\n",
        "  while j<len(s2):\n",
        "    arr[k]=s2[j]\n",
        "    k+=1\n",
        "    j+=1\n",
        "\n",
        "arr=list(int(i) for i in input().strip().split(' '))\n",
        "mergesort(arr)\n",
        "print(*arr)"
      ],
      "execution_count": 0,
      "outputs": []
    },
    {
      "cell_type": "code",
      "metadata": {
        "id": "ozcVmrXtNSni",
        "colab_type": "code",
        "outputId": "3abbee25-3901-4c2c-cfaa-661a01bc1696",
        "colab": {
          "base_uri": "https://localhost:8080/",
          "height": 136
        }
      },
      "source": [
        "def merge(a1,a2,a):\n",
        "  i = 0\n",
        "  j = 0\n",
        "  k = 0\n",
        "  while i<len(a1) and j<len(a2):\n",
        "    if a1[i]<a2[j]:\n",
        "      a[k] = a1[i]\n",
        "      i = i+1\n",
        "      k = k+1\n",
        "    else:\n",
        "      a[k] = a2[j]\n",
        "      j = j+1\n",
        "      k = k+1\n",
        "  while i<len(a1):\n",
        "    a[k] = a1[i]\n",
        "    k = k+1\n",
        "    i = i+1\n",
        "  while j<len(a2):\n",
        "    a[k] = a2[j]\n",
        "    k = k+1\n",
        "    j = j+1\n",
        "  return(a)\n",
        "\n",
        "def merge_sort(a):\n",
        "  if len(a) == 0 or len(a) == 1:\n",
        "    return\n",
        "  \n",
        "  mid = len(a)//2\n",
        "  a1 = a[0:mid]\n",
        "  a2 = a[mid:]\n",
        "  merge_sort(a1)\n",
        "  merge_sort(a2)\n",
        "\n",
        "  return (merge(a1,a2,a))\n",
        "\n",
        "\n",
        "\n",
        "def intersection(arr1, arr2):\n",
        "    sa1=merge_sort(arr1)\n",
        "    sa2=merge_sort(arr2)\n",
        "    i = 0\n",
        "    j = 0\n",
        "    while i<len(arr1) and j<len(arr2):\n",
        "        if sa1[i] < sa2[j]:\n",
        "            i = i+1\n",
        "        elif sa2[j] < sa1[i]:\n",
        "            j = j+1\n",
        "\n",
        "        else:\n",
        "            print(sa2[j])\n",
        "            i = i+1\n",
        "            j = j+1\n",
        "\n",
        "    \n",
        "\n",
        "# Main\n",
        "n1=int(input())\n",
        "arr1=list(int(i) for i in input().strip().split(' '))\n",
        "n2=int(input())\n",
        "arr2=list(int(i) for i in input().strip().split(' '))\n",
        "intersection(arr1, arr2) "
      ],
      "execution_count": 0,
      "outputs": [
        {
          "output_type": "stream",
          "text": [
            "4\n",
            "2 6 1 2\n",
            "5\n",
            "1 2 3 4 2\n",
            "1\n",
            "2\n",
            "2\n"
          ],
          "name": "stdout"
        }
      ]
    },
    {
      "cell_type": "markdown",
      "metadata": {
        "id": "KeVJZhhMVM9U",
        "colab_type": "text"
      },
      "source": [
        "# **Equilibrium improved**"
      ]
    },
    {
      "cell_type": "code",
      "metadata": {
        "id": "gPCd4GbtNTnS",
        "colab_type": "code",
        "outputId": "a6f60e87-b859-4414-c393-e3ac1f8df323",
        "colab": {
          "base_uri": "https://localhost:8080/",
          "height": 68
        }
      },
      "source": [
        "def equilibriumIndex(arr):\n",
        "  total,i=0,0\n",
        "  while i<len(arr):\n",
        "    total+=arr[i]\n",
        "    i+=1\n",
        "  index,left=0,0\n",
        "  while index<len(arr):\n",
        "    right=total-left-arr[index]\n",
        "    if right==left:\n",
        "      return index\n",
        "    left+=arr[index]\n",
        "    index+=1\n",
        "  return -1\n",
        "n = int(input())\n",
        "arr = [int(i) for i in input().strip().split()]\n",
        "print(equilibriumIndex(arr))"
      ],
      "execution_count": 0,
      "outputs": [
        {
          "output_type": "stream",
          "text": [
            "7\n",
            "-7 1 5 2 -4 3 0\n",
            "3\n"
          ],
          "name": "stdout"
        }
      ]
    },
    {
      "cell_type": "code",
      "metadata": {
        "id": "cvN2GBwkakwh",
        "colab_type": "code",
        "outputId": "9b6c6ac0-bfb8-4157-cab7-c9845ec5645e",
        "colab": {
          "base_uri": "https://localhost:8080/",
          "height": 68
        }
      },
      "source": [
        "def mergesort(arr):\n",
        "  if len(arr)==0 or len(arr)==1:\n",
        "    return\n",
        "  mid=len(arr)//2\n",
        "  s1=arr[0:mid]\n",
        "  s2=arr[mid:]\n",
        "  mergesort(s1)\n",
        "  mergesort(s2)\n",
        "  return merge(s1,s2,arr)\n",
        "\n",
        "def merge(s1,s2,arr):\n",
        "  i,j,k=0,0,0\n",
        "  while i<len(s1) and j<len(s2):\n",
        "    if s1[i]<s2[j]:\n",
        "      arr[k]=s1[i]\n",
        "      k+=1\n",
        "      i+=1\n",
        "    else :\n",
        "      arr[k]=s2[j]\n",
        "      k+=1\n",
        "      j+=1\n",
        "  while i<len(s1):\n",
        "    arr[k]=s1[i]\n",
        "    k+=1\n",
        "    i+=1\n",
        "  while j<len(s2):\n",
        "    arr[k]=s2[j]\n",
        "    k+=1\n",
        "    j+=1\n",
        "  return arr\n",
        "def FindUnique(arr):\n",
        "  arr=mergesort(arr)\n",
        "  i=0\n",
        "  while i<len(arr):\n",
        "    if arr[i]==arr[i+1]:\n",
        "      pass\n",
        "    else:\n",
        "      return arr[i]\n",
        "\n",
        "\n",
        "# Main\n",
        "n=int(input())\n",
        "arr=list(int(i) for i in input().strip().split(' '))\n",
        "#arr=[2,3,1,6,3,6,2]\n",
        "unique=FindUnique(arr)\n",
        "print(unique)\n"
      ],
      "execution_count": 0,
      "outputs": [
        {
          "output_type": "stream",
          "text": [
            "7\n",
            "2 3 1 6 3 6 2\n",
            "1\n"
          ],
          "name": "stdout"
        }
      ]
    },
    {
      "cell_type": "markdown",
      "metadata": {
        "id": "FmYcXGyC6SmM",
        "colab_type": "text"
      },
      "source": [
        "# **XOR use to identify unique element**"
      ]
    },
    {
      "cell_type": "code",
      "metadata": {
        "id": "TNGeW55IsQqV",
        "colab_type": "code",
        "outputId": "975b98d7-939e-4696-f66c-19456dd9f435",
        "colab": {
          "base_uri": "https://localhost:8080/",
          "height": 68
        }
      },
      "source": [
        "def FindUniqu(arr):\n",
        "  i,a=0,0\n",
        "  while i<len(arr) :\n",
        "    a^=arr[i]\n",
        "    i+=1\n",
        "  return a\n",
        "\n",
        "\n",
        "n=int(input())\n",
        "arr=list(int(i) for i in input().strip().split(' '))\n",
        "#arr=[2,3,1,6,3,6,2]\n",
        "unique=FindUniqu(arr)\n",
        "print(unique)\n"
      ],
      "execution_count": 0,
      "outputs": [
        {
          "output_type": "stream",
          "text": [
            "4\n",
            "2 7 8 9\n",
            "4\n"
          ],
          "name": "stdout"
        }
      ]
    },
    {
      "cell_type": "code",
      "metadata": {
        "id": "NwhWNkJty900",
        "colab_type": "code",
        "outputId": "af5a4b0a-7fbd-48df-9b9a-2acd9abb2b38",
        "colab": {
          "base_uri": "https://localhost:8080/",
          "height": 68
        }
      },
      "source": [
        "def MissingNumber(arr):\n",
        "  total=0\n",
        "  i=0\n",
        "  while i <len(arr):\n",
        "    total+=arr[i]\n",
        "    i+=1\n",
        "  natural=((n-2)*(n-1))//2\n",
        "  return total-natural\n",
        "\n",
        "# Main\n",
        "n=int(input())\n",
        "arr=list(int(i) for i in input().strip().split(' '))\n",
        "ans=MissingNumber(arr)\n",
        "print(ans)"
      ],
      "execution_count": 0,
      "outputs": [
        {
          "output_type": "stream",
          "text": [
            "9\n",
            "0 7 2 5 4 7 1 3 6\n",
            "7\n"
          ],
          "name": "stdout"
        }
      ]
    },
    {
      "cell_type": "markdown",
      "metadata": {
        "id": "tBQynI4YCBTV",
        "colab_type": "text"
      },
      "source": [
        "# **sum pair**"
      ]
    },
    {
      "cell_type": "code",
      "metadata": {
        "id": "OLMBOwUs2SC5",
        "colab_type": "code",
        "outputId": "22c6a9f7-2bf0-49c0-bf0e-714c6173b4d6",
        "colab": {
          "base_uri": "https://localhost:8080/",
          "height": 51
        }
      },
      "source": [
        "def mergesort(arr):\n",
        "  if len(arr)==0 or len(arr)==1:\n",
        "    return\n",
        "  mid=len(arr)//2\n",
        "  s1=arr[0:mid]\n",
        "  s2=arr[mid:]\n",
        "  mergesort(s1)\n",
        "  mergesort(s2)\n",
        "  return merge(s1,s2,arr)\n",
        "\n",
        "def merge(s1,s2,arr):\n",
        "  i,j,k=0,0,0\n",
        "  while i<len(s1) and j<len(s2):\n",
        "    if s1[i]<s2[j]:\n",
        "      arr[k]=s1[i]\n",
        "      k+=1\n",
        "      i+=1\n",
        "    else :\n",
        "      arr[k]=s2[j]\n",
        "      k+=1\n",
        "      j+=1\n",
        "  while i<len(s1):\n",
        "    arr[k]=s1[i]\n",
        "    k+=1\n",
        "    i+=1\n",
        "  while j<len(s2):\n",
        "    arr[k]=s2[j]\n",
        "    k+=1\n",
        "    j+=1\n",
        "  return arr\n",
        "def pairSum(arr, x):\n",
        "  arr=mergesort(arr)\n",
        "  #print(*arr)\n",
        "  i,j=0,n-1\n",
        "  while i<j:\n",
        "    sum1=arr[i]+arr[j]\n",
        "    if sum1>x:\n",
        "        j=j-1\n",
        "    elif sum1<x:\n",
        "        i=i+1\n",
        "    elif sum1==x:\n",
        "        p=0\n",
        "        if arr[i]==arr[j]:\n",
        "            count=j-i+1\n",
        "            p=count*(count-1)//2\n",
        "            i=j\n",
        "        else:\n",
        "            s_count=1\n",
        "            e_count=1\n",
        "            while (i+1)<j and arr[i+1]==arr[i]:\n",
        "                s_count=s_count+1\n",
        "                i=i+1\n",
        "            while i<j-1 and arr[j-1]==arr[j]:\n",
        "                e_count=e_count+1\n",
        "                j=j-1\n",
        "            p=e_count*s_count\n",
        "        for k in range(p):\n",
        "            print(arr[i],arr[j])\n",
        "        i=i+1\n",
        "        j=j-1\n",
        "# Main\n",
        "#n=int(input())\n",
        "#arr=list(int(i) for i in input().strip().split(' '))\n",
        "#sum=int(input())\n",
        "n=4\n",
        "arr=[4,5,6,1,1,3,4]\n",
        "sum=5\n",
        "pairSum(arr, sum)\n"
      ],
      "execution_count": 0,
      "outputs": [
        {
          "output_type": "stream",
          "text": [
            "1 4\n",
            "1 4\n"
          ],
          "name": "stdout"
        }
      ]
    },
    {
      "cell_type": "code",
      "metadata": {
        "id": "SPhFVKQmOJ-L",
        "colab_type": "code",
        "outputId": "a82b12ec-2145-4348-8a13-a7ae4b9c48da",
        "colab": {
          "base_uri": "https://localhost:8080/",
          "height": 34
        }
      },
      "source": [
        "def Rotate(arr, d):\n",
        "  li=[]\n",
        "  for i in range(0,d):\n",
        "    li.append(arr[i])\n",
        "  #print(li)\n",
        "  #li.reverse()\n",
        "  #print(li)\n",
        "  #print(*arr)\n",
        "  for i in range(0,n-d):\n",
        "    arr[i]=arr[i+d]\n",
        "  arr=arr[0:n-d:]+li\n",
        "  print(*arr)\n",
        "  \n",
        "    \n",
        "\n",
        "# Main\n",
        "#n=int(input())\n",
        "#arr=list(int(i) for i in input().strip().split(' '))\n",
        "#d=int(input())\n",
        "n=5\n",
        "arr=[1, 2, 3, 4, 5]\n",
        "d=2\n",
        "Rotate(arr, d)\n",
        "#print(*arr)\n"
      ],
      "execution_count": 0,
      "outputs": [
        {
          "output_type": "stream",
          "text": [
            "3 4 5 1 2\n"
          ],
          "name": "stdout"
        }
      ]
    },
    {
      "cell_type": "code",
      "metadata": {
        "id": "K6bUARp2FjjV",
        "colab_type": "code",
        "outputId": "7e4c3933-4c05-446e-ea90-a430c251d97b",
        "colab": {
          "base_uri": "https://localhost:8080/",
          "height": 34
        }
      },
      "source": [
        "my =[1, 2, 3, 4, 5]\n",
        "lit=my[5:2:-1]\n",
        "li=[4,5]\n",
        "reult=lit+li\n",
        "print(reult)"
      ],
      "execution_count": 0,
      "outputs": [
        {
          "output_type": "stream",
          "text": [
            "[3, 2, 1, 4, 5]\n"
          ],
          "name": "stdout"
        }
      ]
    },
    {
      "cell_type": "code",
      "metadata": {
        "id": "DRLq4hA3FnRJ",
        "colab_type": "code",
        "outputId": "1d914f54-ffd5-445d-e57c-8aa69b51392b",
        "colab": {
          "base_uri": "https://localhost:8080/",
          "height": 51
        }
      },
      "source": [
        "class Node:\n",
        "  def __init__(self,data):\n",
        "    self.data=data\n",
        "    self.next=None\n",
        "\n",
        "def printLL(head):\n",
        "  while head is not None:\n",
        "    print(str(head.data)+\"->\",end=\"\")\n",
        "    head=head.next\n",
        "  print(\"None\")\n",
        "  return \n",
        "\n",
        "def takeInput():\n",
        "    inputList=[int(ele) for ele in input().split()]\n",
        "    head=None\n",
        "    tail=None\n",
        "    for currentinput in inputList:\n",
        "      if currentinput==-1:\n",
        "        break\n",
        "      newNode=Node(currentinput) \n",
        "      if head is None:\n",
        "        head=newNode\n",
        "        tail=newNode\n",
        "      else:\n",
        "        tail.next=newNode\n",
        "        tail=newNode\n",
        "    return head\n",
        "\n",
        "head=takeInput()\n",
        "printLL(head)"
      ],
      "execution_count": 0,
      "outputs": [
        {
          "output_type": "stream",
          "text": [
            "1 2 3 4 5 -1\n",
            "1->2->3->4->5->None\n"
          ],
          "name": "stdout"
        }
      ]
    },
    {
      "cell_type": "markdown",
      "metadata": {
        "id": "mFSDDVpJ5JLX",
        "colab_type": "text"
      },
      "source": [
        "# **Find the Lenght of Linked List**"
      ]
    },
    {
      "cell_type": "markdown",
      "metadata": {
        "id": "471fI1ipxiv8",
        "colab_type": "text"
      },
      "source": [
        "# **Inserting At I th position**"
      ]
    },
    {
      "cell_type": "code",
      "metadata": {
        "id": "vUyn_sss2UUV",
        "colab_type": "code",
        "outputId": "aad1f104-1498-4af4-dbfa-e6d397704600",
        "colab": {
          "base_uri": "https://localhost:8080/",
          "height": 68
        }
      },
      "source": [
        "class Node:\n",
        "    def __init__(self, data):\n",
        "        self.data = data\n",
        "        self.next = None\n",
        "def printLL(head):\n",
        "  while head is not None:\n",
        "    print(str(head.data)+\"->\",end=\"\")\n",
        "    head=head.next\n",
        "  print(\"None\")\n",
        "  return \n",
        "\n",
        "def length(head):\n",
        "    count=0\n",
        "    while head is not None and head.data!=-1:\n",
        "      count+=1\n",
        "      head=head.next\n",
        "    return count\n",
        "def Inserti(head,ele,data):\n",
        "  if ele<0 or ele>length(head):\n",
        "    return head\n",
        "  prev=None\n",
        "  curr=head\n",
        "  count=0\n",
        "  while count<ele:\n",
        "    prev=curr\n",
        "    curr=curr.next\n",
        "    count+=1\n",
        "  newNode=Node(data)\n",
        "  if prev is not None:\n",
        "    prev.next=newNode\n",
        "  else:\n",
        "    head=newNode\n",
        "  newNode.next=curr\n",
        "  return head\n",
        "def ll(arr):\n",
        "    if len(arr)==0:\n",
        "        return None\n",
        "    head = Node(arr[0])\n",
        "    last = head\n",
        "    for data in arr[1:]:\n",
        "        last.next = Node(data)\n",
        "        last = last.next\n",
        "    return head\n",
        "def takeInput():\n",
        "    inputList=[int(ele) for ele in input().split()]\n",
        "    head=None\n",
        "    tail=None\n",
        "    for currentinput in inputList:\n",
        "      if currentinput==-1:\n",
        "        break\n",
        "      newNode=Node(currentinput) \n",
        "      if head is None:\n",
        "        head=newNode\n",
        "        tail=newNode\n",
        "      else:\n",
        "        tail.next=newNode\n",
        "        tail=newNode\n",
        "    return head\n",
        "\n",
        "head=takeInput()\n",
        "printLL(head)\n",
        "# Main\n",
        "# Read the link list elements including -1\n",
        "#arr=list(int(i) for i in input().strip().split(' '))\n",
        "# Create a Linked list after removing -1 from list\n",
        "head=Inserti(head,2,7)\n",
        "printLL(head)\n"
      ],
      "execution_count": 0,
      "outputs": [
        {
          "output_type": "stream",
          "text": [
            "1 2 3 4 9 8\n",
            "1->2->3->4->9->8->None\n",
            "1->2->7->3->4->9->8->None\n"
          ],
          "name": "stdout"
        }
      ]
    },
    {
      "cell_type": "code",
      "metadata": {
        "id": "tAXMUy8F63Ce",
        "colab_type": "code",
        "colab": {}
      },
      "source": [
        "class Node:\n",
        "    def __init__(self, data):\n",
        "        self.data = data\n",
        "        self.next = None\n",
        "\n",
        "def delete(head, i):\n",
        "    \n",
        "\n",
        "def ll(arr):\n",
        "    if len(arr)==0:\n",
        "        return None\n",
        "    head = Node(arr[0])\n",
        "    last = head\n",
        "    for data in arr[1:]:\n",
        "        last.next = Node(data)\n",
        "        last = last.next\n",
        "    return head\n",
        "\n",
        "def printll(head):\n",
        "    while head:\n",
        "        print(head.data, end=' ')\n",
        "        head = head.next\n",
        "    print()\n",
        "\n",
        "# Main\n",
        "# Read the link list elements including -1\n",
        "arr=list(int(i) for i in input().strip().split(' '))\n",
        "# Create a Linked list after removing -1 from list\n",
        "l = ll(arr[:-1])\n",
        "i=int(input())\n",
        "l = delete(l, i)\n",
        "printll(l)\n"
      ],
      "execution_count": 0,
      "outputs": []
    },
    {
      "cell_type": "markdown",
      "metadata": {
        "id": "buiVP1c5xsiw",
        "colab_type": "text"
      },
      "source": [
        "# **Deleting an element**"
      ]
    },
    {
      "cell_type": "code",
      "metadata": {
        "id": "E9uMXDvRxsBj",
        "colab_type": "code",
        "outputId": "4a6c052f-f08d-4e7c-b64c-3cfa7f5e18bb",
        "colab": {
          "base_uri": "https://localhost:8080/",
          "height": 68
        }
      },
      "source": [
        "class Node:\n",
        "    def __init__(self, data):\n",
        "        self.data = data\n",
        "        self.next = None\n",
        "def printLL(head):\n",
        "  while head is not None:\n",
        "    print(str(head.data)+\"->\",end=\"\")\n",
        "    head=head.next\n",
        "  print(\"None\")\n",
        "  return \n",
        "\n",
        "def length(head):\n",
        "    count=0\n",
        "    while head is not None and head.data!=-1:\n",
        "      count+=1\n",
        "      head=head.next\n",
        "    return count\n",
        "def Deletei(head,ele):\n",
        "  if ele<0 or ele>length(head):\n",
        "    return head\n",
        "  prev=None\n",
        "  curr=head\n",
        "  count=0\n",
        "  while count<ele:\n",
        "    prev=curr\n",
        "    curr=curr.next\n",
        "    count+=1\n",
        "  #newNode=Node(data)\n",
        "  if prev is not None:\n",
        "    prev.next=curr.next\n",
        "  else:\n",
        "    head=head.next\n",
        "  return head\n",
        "def takeInput():\n",
        "    inputList=[int(ele) for ele in input().split()]\n",
        "    head=None\n",
        "    tail=None\n",
        "    for currentinput in inputList:\n",
        "      if currentinput==-1:\n",
        "        break\n",
        "      newNode=Node(currentinput) \n",
        "      if head is None:\n",
        "        head=newNode\n",
        "        tail=newNode\n",
        "      else:\n",
        "        tail.next=newNode\n",
        "        tail=newNode\n",
        "    return head\n",
        "\n",
        "head=takeInput()\n",
        "printLL(head)\n",
        "# Main\n",
        "# Read the link list elements including -1\n",
        "#arr=list(int(i) for i in input().strip().split(' '))\n",
        "# Create a Linked list after removing -1 from list\n",
        "head=Deletei(head,6)\n",
        "printLL(head)\n"
      ],
      "execution_count": 0,
      "outputs": [
        {
          "output_type": "stream",
          "text": [
            "1 2 3 4 5\n",
            "1->2->3->4->5->None\n",
            "1->2->3->4->5->None\n"
          ],
          "name": "stdout"
        }
      ]
    },
    {
      "cell_type": "code",
      "metadata": {
        "id": "Wt12QI0Y0J6O",
        "colab_type": "code",
        "outputId": "3648e00d-3dfa-447f-fa4b-735e1aef5fd6",
        "colab": {
          "base_uri": "https://localhost:8080/",
          "height": 68
        }
      },
      "source": [
        "class Node:\n",
        "    def __init__(self, data):\n",
        "        self.data = data\n",
        "        self.next = None\n",
        "    \n",
        "def length(head):\n",
        "    count=0\n",
        "    while head is not None :\n",
        "      count+=1\n",
        "      head=head.next\n",
        "    return count\n",
        "\n",
        "def delete(head, i):\n",
        "    # A linked list and a position i, delete the node of ith position from\n",
        "    # Linked List iteratively. If position i is greater than length of LL, then\n",
        "    # you should return the same LL without any change. Indexing starts from 0.\n",
        "    # You don't need to print the elements, just delete the node and return the\n",
        "    # head of updated LL.\n",
        "    #############################\n",
        "    l = length(head)\n",
        "    if i>=l:\n",
        "        return(head)\n",
        "    count = 0\n",
        "    prev = None\n",
        "    current = head\n",
        "    while count<i:\n",
        "      prev = current\n",
        "      current = current.next\n",
        "      count = count+1\n",
        "  \n",
        "    if prev is not None:\n",
        "      prev.next = current.next\n",
        "    else:\n",
        "      head = head.next\n",
        "    return(head)\n",
        "\n",
        "def ll(arr):\n",
        "    if len(arr)==0:\n",
        "        return None\n",
        "    head = Node(arr[0])\n",
        "    last = head\n",
        "    for data in arr[1:]:\n",
        "        last.next = Node(data)\n",
        "        last = last.next\n",
        "    return head\n",
        "\n",
        "def printll(head):\n",
        "    while head:\n",
        "        print(head.data, end=' ')\n",
        "        head = head.next\n",
        "    print()\n",
        "\n",
        "# Main\n",
        "# Read the link list elements including -1\n",
        "arr=list(int(i) for i in input().strip().split(' '))\n",
        "# Create a Linked list after removing -1 from list\n",
        "l = ll(arr[:-1])\n",
        "i=int(input())\n",
        "l = delete(l, i)\n",
        "printll(l)\n"
      ],
      "execution_count": 1,
      "outputs": [
        {
          "output_type": "stream",
          "text": [
            "1 2 3 4 5 6\n",
            "3\n",
            "1 2 3 5 \n"
          ],
          "name": "stdout"
        }
      ]
    },
    {
      "cell_type": "code",
      "metadata": {
        "id": "c--EmWa_Q828",
        "colab_type": "code",
        "outputId": "41efff6a-9a2a-48d9-a3dc-ffd4a6aa256b",
        "colab": {
          "base_uri": "https://localhost:8080/",
          "height": 367
        }
      },
      "source": [
        "class Node:\n",
        "    def __init__(self, data):\n",
        "        self.data = data\n",
        "        self.next = None\n",
        "\n",
        "def lengthRecursive(head):\n",
        "    # A linked list, find and return the length of input LL recursively.\n",
        "    #############################\n",
        "    # PLEASE ADD YOUR CODE HERE #\n",
        "    #############################\n",
        "    if head is None:\n",
        "        return 0\n",
        "    else:\n",
        "        return(1+lengthRecursive(head.next))\n",
        "\n",
        "def ll(arr):\n",
        "    if len(arr)==0:\n",
        "        return None\n",
        "    head = Node(arr[0])\n",
        "    last = head\n",
        "    for data in arr[1:]:\n",
        "        last.next = Node(data)\n",
        "        last = last.next\n",
        "    return head\n",
        "\n",
        "# Main\n",
        "from sys import setrecursionlimit\n",
        "setrecursionlimit(11000)\n",
        "# Read the link list elements including -1\n",
        "arr=list(int(i) for i in input().strip().split(' '))\n",
        "# Create a Linked list after removing -1 from list\n",
        "l = ll(arr[:-1])\n",
        "len=lengthRecursive(l)\n",
        "print(len)\n"
      ],
      "execution_count": 0,
      "outputs": [
        {
          "output_type": "stream",
          "text": [
            "1 2 3 4 5\n"
          ],
          "name": "stdout"
        },
        {
          "output_type": "error",
          "ename": "TypeError",
          "evalue": "ignored",
          "traceback": [
            "\u001b[0;31m---------------------------------------------------------------------------\u001b[0m",
            "\u001b[0;31mTypeError\u001b[0m                                 Traceback (most recent call last)",
            "\u001b[0;32m<ipython-input-21-c50922f5ac5d>\u001b[0m in \u001b[0;36m<module>\u001b[0;34m()\u001b[0m\n\u001b[1;32m     30\u001b[0m \u001b[0marr\u001b[0m\u001b[0;34m=\u001b[0m\u001b[0mlist\u001b[0m\u001b[0;34m(\u001b[0m\u001b[0mint\u001b[0m\u001b[0;34m(\u001b[0m\u001b[0mi\u001b[0m\u001b[0;34m)\u001b[0m \u001b[0;32mfor\u001b[0m \u001b[0mi\u001b[0m \u001b[0;32min\u001b[0m \u001b[0minput\u001b[0m\u001b[0;34m(\u001b[0m\u001b[0;34m)\u001b[0m\u001b[0;34m.\u001b[0m\u001b[0mstrip\u001b[0m\u001b[0;34m(\u001b[0m\u001b[0;34m)\u001b[0m\u001b[0;34m.\u001b[0m\u001b[0msplit\u001b[0m\u001b[0;34m(\u001b[0m\u001b[0;34m' '\u001b[0m\u001b[0;34m)\u001b[0m\u001b[0;34m)\u001b[0m\u001b[0;34m\u001b[0m\u001b[0;34m\u001b[0m\u001b[0m\n\u001b[1;32m     31\u001b[0m \u001b[0;31m# Create a Linked list after removing -1 from list\u001b[0m\u001b[0;34m\u001b[0m\u001b[0;34m\u001b[0m\u001b[0;34m\u001b[0m\u001b[0m\n\u001b[0;32m---> 32\u001b[0;31m \u001b[0ml\u001b[0m \u001b[0;34m=\u001b[0m \u001b[0mll\u001b[0m\u001b[0;34m(\u001b[0m\u001b[0marr\u001b[0m\u001b[0;34m[\u001b[0m\u001b[0;34m:\u001b[0m\u001b[0;34m-\u001b[0m\u001b[0;36m1\u001b[0m\u001b[0;34m]\u001b[0m\u001b[0;34m)\u001b[0m\u001b[0;34m\u001b[0m\u001b[0;34m\u001b[0m\u001b[0m\n\u001b[0m\u001b[1;32m     33\u001b[0m \u001b[0mlen\u001b[0m\u001b[0;34m=\u001b[0m\u001b[0mlengthRecursive\u001b[0m\u001b[0;34m(\u001b[0m\u001b[0ml\u001b[0m\u001b[0;34m)\u001b[0m\u001b[0;34m\u001b[0m\u001b[0;34m\u001b[0m\u001b[0m\n\u001b[1;32m     34\u001b[0m \u001b[0mprint\u001b[0m\u001b[0;34m(\u001b[0m\u001b[0mlen\u001b[0m\u001b[0;34m)\u001b[0m\u001b[0;34m\u001b[0m\u001b[0;34m\u001b[0m\u001b[0m\n",
            "\u001b[0;32m<ipython-input-21-c50922f5ac5d>\u001b[0m in \u001b[0;36mll\u001b[0;34m(arr)\u001b[0m\n\u001b[1;32m     15\u001b[0m \u001b[0;34m\u001b[0m\u001b[0m\n\u001b[1;32m     16\u001b[0m \u001b[0;32mdef\u001b[0m \u001b[0mll\u001b[0m\u001b[0;34m(\u001b[0m\u001b[0marr\u001b[0m\u001b[0;34m)\u001b[0m\u001b[0;34m:\u001b[0m\u001b[0;34m\u001b[0m\u001b[0;34m\u001b[0m\u001b[0m\n\u001b[0;32m---> 17\u001b[0;31m     \u001b[0;32mif\u001b[0m \u001b[0mlen\u001b[0m\u001b[0;34m(\u001b[0m\u001b[0marr\u001b[0m\u001b[0;34m)\u001b[0m\u001b[0;34m==\u001b[0m\u001b[0;36m0\u001b[0m\u001b[0;34m:\u001b[0m\u001b[0;34m\u001b[0m\u001b[0;34m\u001b[0m\u001b[0m\n\u001b[0m\u001b[1;32m     18\u001b[0m         \u001b[0;32mreturn\u001b[0m \u001b[0;32mNone\u001b[0m\u001b[0;34m\u001b[0m\u001b[0;34m\u001b[0m\u001b[0m\n\u001b[1;32m     19\u001b[0m     \u001b[0mhead\u001b[0m \u001b[0;34m=\u001b[0m \u001b[0mNode\u001b[0m\u001b[0;34m(\u001b[0m\u001b[0marr\u001b[0m\u001b[0;34m[\u001b[0m\u001b[0;36m0\u001b[0m\u001b[0;34m]\u001b[0m\u001b[0;34m)\u001b[0m\u001b[0;34m\u001b[0m\u001b[0;34m\u001b[0m\u001b[0m\n",
            "\u001b[0;31mTypeError\u001b[0m: 'int' object is not callable"
          ]
        }
      ]
    },
    {
      "cell_type": "markdown",
      "metadata": {
        "id": "znB6FVO55Vfh",
        "colab_type": "text"
      },
      "source": [
        "# **Lenght of Linked list using recursion**"
      ]
    },
    {
      "cell_type": "code",
      "metadata": {
        "id": "0x064H5WRfCX",
        "colab_type": "code",
        "colab": {
          "base_uri": "https://localhost:8080/",
          "height": 51
        },
        "outputId": "558f9013-2fe7-4f18-8284-c80ac3430c90"
      },
      "source": [
        "class Node:\n",
        "    def __init__(self, data):\n",
        "        self.data = data\n",
        "        self.next = None\n",
        "\n",
        "def lengthRecursive(head):\n",
        "    # A linked list, find and return the length of input LL recursively.\n",
        "    #############################\n",
        "    # PLEASE ADD YOUR CODE HERE #\n",
        "    #############################\n",
        "    if head is None:\n",
        "        return 0\n",
        "    else:\n",
        "        return(1+lengthRecursive(head.next))\n",
        "\n",
        "def ll(arr):\n",
        "    if len(arr)==0:\n",
        "        return None\n",
        "    head = Node(arr[0])\n",
        "    last = head\n",
        "    for data in arr[1:]:\n",
        "        last.next = Node(data)\n",
        "        last = last.next\n",
        "    return head\n",
        "\n",
        "# Main\n",
        "from sys import setrecursionlimit\n",
        "setrecursionlimit(11000)\n",
        "# Read the link list elements including -1\n",
        "arr=list(int(i) for i in input().strip().split(' '))\n",
        "# Create a Linked list after removing -1 from list\n",
        "l = ll(arr[:-1])\n",
        "len=lengthRecursive(l)\n",
        "print(len)\n"
      ],
      "execution_count": 2,
      "outputs": [
        {
          "output_type": "stream",
          "text": [
            "1 2 3 4 5\n",
            "4\n"
          ],
          "name": "stdout"
        }
      ]
    },
    {
      "cell_type": "markdown",
      "metadata": {
        "id": "OHmamg_58Iza",
        "colab_type": "text"
      },
      "source": [
        "# **Inserting at ith position using recursion**"
      ]
    },
    {
      "cell_type": "code",
      "metadata": {
        "id": "7qakgZFm5Q3f",
        "colab_type": "code",
        "colab": {
          "base_uri": "https://localhost:8080/",
          "height": 68
        },
        "outputId": "0cb559c8-8435-404a-e3b6-ccc5ddf35ffa"
      },
      "source": [
        "class Node:\n",
        "    def __init__(self, data):\n",
        "        self.data = data\n",
        "        self.next = None\n",
        "def printLL(head):\n",
        "  while head is not None:\n",
        "    print(str(head.data)+\"->\",end=\"\")\n",
        "    head=head.next\n",
        "  print(\"None\")\n",
        "  return \n",
        "def Inserti(head,ele,data):\n",
        "  if ele<0:\n",
        "    return head\n",
        "  if ele==0:\n",
        "    newNode=Node(data)\n",
        "    newNode.next=head\n",
        "    return newNode\n",
        "  if head is None:\n",
        "    return head\n",
        "  smallout=Inserti(head.next,ele-1,data)\n",
        "  head.next=smallout\n",
        "  return head\n",
        "def takeInput():\n",
        "    inputList=[int(ele) for ele in input().split()]\n",
        "    head=None\n",
        "    tail=None\n",
        "    for currentinput in inputList:\n",
        "      if currentinput==-1:\n",
        "        break\n",
        "      newNode=Node(currentinput) \n",
        "      if head is None:\n",
        "        head=newNode\n",
        "        tail=newNode\n",
        "      else:\n",
        "        tail.next=newNode\n",
        "        tail=newNode\n",
        "    return head\n",
        "\n",
        "head=takeInput()\n",
        "printLL(head)\n",
        "# Main\n",
        "# Read the link list elements including -1\n",
        "#arr=list(int(i) for i in input().strip().split(' '))\n",
        "# Create a Linked list after removing -1 from list\n",
        "head=Inserti(head,2,7)\n",
        "printLL(head)\n",
        "def deleteRec(head, i):\n"
      ],
      "execution_count": 5,
      "outputs": [
        {
          "output_type": "stream",
          "text": [
            "1 2 3 4 5 6\n",
            "1->2->3->4->5->6->None\n",
            "1->2->7->3->4->5->6->None\n"
          ],
          "name": "stdout"
        }
      ]
    },
    {
      "cell_type": "code",
      "metadata": {
        "id": "cevHoTby_5hC",
        "colab_type": "code",
        "colab": {
          "base_uri": "https://localhost:8080/",
          "height": 391
        },
        "outputId": "a86477fd-696d-4758-ef60-253736555b1f"
      },
      "source": [
        "class Node:\n",
        "    def __init__(self, data):\n",
        "        self.data = data\n",
        "        self.next = None\n",
        "def printLL(head):\n",
        "  while head is not None:\n",
        "    print(str(head.data)+\"->\",end=\"\")\n",
        "    head=head.next\n",
        "  print(\"None\")\n",
        "  return \n",
        "def lengthRecursive(head):\n",
        "    # A linked list, find and return the length of input LL recursively.\n",
        "    #############################\n",
        "    # PLEASE ADD YOUR CODE HERE #\n",
        "    #############################\n",
        "    if head is None:\n",
        "        return 0\n",
        "    else:\n",
        "        return(1+lengthRecursive(head.next))\n",
        "def deleteRec(head, i):\n",
        "  if i<0 or i>lengthRecursive(head):\n",
        "    return head\n",
        "  if i==0:\n",
        "    head=head.next\n",
        "    return head\n",
        "  if head is None:\n",
        "    return head\n",
        "  smallhead=deleteRec(head.next,i-1)\n",
        "  head.next=smallhead\n",
        "  return head\n",
        "def Inserti(head,ele,data):\n",
        "  if ele<0:\n",
        "    return head\n",
        "  if ele==0:\n",
        "    newNode=Node(data)\n",
        "    newNode.next=head\n",
        "    return newNode\n",
        "  if head is None:\n",
        "    return head\n",
        "  smallout=Inserti(head.next,ele-1,data)\n",
        "  head.next=smallout\n",
        "  return head\n",
        "def takeInput():\n",
        "    inputList=[int(ele) for ele in input().split()]\n",
        "    head=None\n",
        "    tail=None\n",
        "    for currentinput in inputList:\n",
        "      if currentinput==-1:\n",
        "        break\n",
        "      newNode=Node(currentinput) \n",
        "      if head is None:\n",
        "        head=newNode\n",
        "        tail=newNode\n",
        "      else:\n",
        "        tail.next=newNode\n",
        "        tail=newNode\n",
        "    return head\n",
        "\n",
        "head=takeInput()\n",
        "printLL(head)\n",
        "# Main\n",
        "# Read the link list elements including -1\n",
        "#arr=list(int(i) for i in input().strip().split(' '))\n",
        "# Create a Linked list after removing -1 from list\n",
        "#head=Inserti(head,2,7)\n",
        "#printLL(head)\n",
        "head=deleteRec(head,3)\n",
        "printLL(head)\n"
      ],
      "execution_count": 18,
      "outputs": [
        {
          "output_type": "stream",
          "text": [
            "1 2 3 \n",
            "1->2->3->None\n"
          ],
          "name": "stdout"
        },
        {
          "output_type": "error",
          "ename": "AttributeError",
          "evalue": "ignored",
          "traceback": [
            "\u001b[0;31m---------------------------------------------------------------------------\u001b[0m",
            "\u001b[0;31mAttributeError\u001b[0m                            Traceback (most recent call last)",
            "\u001b[0;32m<ipython-input-18-a12029ffe206>\u001b[0m in \u001b[0;36m<module>\u001b[0;34m()\u001b[0m\n\u001b[1;32m     65\u001b[0m \u001b[0;31m#head=Inserti(head,2,7)\u001b[0m\u001b[0;34m\u001b[0m\u001b[0;34m\u001b[0m\u001b[0;34m\u001b[0m\u001b[0m\n\u001b[1;32m     66\u001b[0m \u001b[0;31m#printLL(head)\u001b[0m\u001b[0;34m\u001b[0m\u001b[0;34m\u001b[0m\u001b[0;34m\u001b[0m\u001b[0m\n\u001b[0;32m---> 67\u001b[0;31m \u001b[0mhead\u001b[0m\u001b[0;34m=\u001b[0m\u001b[0mdeleteRec\u001b[0m\u001b[0;34m(\u001b[0m\u001b[0mhead\u001b[0m\u001b[0;34m,\u001b[0m\u001b[0;36m3\u001b[0m\u001b[0;34m)\u001b[0m\u001b[0;34m\u001b[0m\u001b[0;34m\u001b[0m\u001b[0m\n\u001b[0m\u001b[1;32m     68\u001b[0m \u001b[0mprintLL\u001b[0m\u001b[0;34m(\u001b[0m\u001b[0mhead\u001b[0m\u001b[0;34m)\u001b[0m\u001b[0;34m\u001b[0m\u001b[0;34m\u001b[0m\u001b[0m\n",
            "\u001b[0;32m<ipython-input-18-a12029ffe206>\u001b[0m in \u001b[0;36mdeleteRec\u001b[0;34m(head, i)\u001b[0m\n\u001b[1;32m     26\u001b[0m   \u001b[0;32mif\u001b[0m \u001b[0mhead\u001b[0m \u001b[0;32mis\u001b[0m \u001b[0;32mNone\u001b[0m\u001b[0;34m:\u001b[0m\u001b[0;34m\u001b[0m\u001b[0;34m\u001b[0m\u001b[0m\n\u001b[1;32m     27\u001b[0m     \u001b[0;32mreturn\u001b[0m \u001b[0mhead\u001b[0m\u001b[0;34m\u001b[0m\u001b[0;34m\u001b[0m\u001b[0m\n\u001b[0;32m---> 28\u001b[0;31m   \u001b[0msmallhead\u001b[0m\u001b[0;34m=\u001b[0m\u001b[0mdeleteRec\u001b[0m\u001b[0;34m(\u001b[0m\u001b[0mhead\u001b[0m\u001b[0;34m.\u001b[0m\u001b[0mnext\u001b[0m\u001b[0;34m,\u001b[0m\u001b[0mi\u001b[0m\u001b[0;34m-\u001b[0m\u001b[0;36m1\u001b[0m\u001b[0;34m)\u001b[0m\u001b[0;34m\u001b[0m\u001b[0;34m\u001b[0m\u001b[0m\n\u001b[0m\u001b[1;32m     29\u001b[0m   \u001b[0mhead\u001b[0m\u001b[0;34m.\u001b[0m\u001b[0mnext\u001b[0m\u001b[0;34m=\u001b[0m\u001b[0msmallhead\u001b[0m\u001b[0;34m\u001b[0m\u001b[0;34m\u001b[0m\u001b[0m\n\u001b[1;32m     30\u001b[0m   \u001b[0;32mreturn\u001b[0m \u001b[0mhead\u001b[0m\u001b[0;34m\u001b[0m\u001b[0;34m\u001b[0m\u001b[0m\n",
            "\u001b[0;32m<ipython-input-18-a12029ffe206>\u001b[0m in \u001b[0;36mdeleteRec\u001b[0;34m(head, i)\u001b[0m\n\u001b[1;32m     26\u001b[0m   \u001b[0;32mif\u001b[0m \u001b[0mhead\u001b[0m \u001b[0;32mis\u001b[0m \u001b[0;32mNone\u001b[0m\u001b[0;34m:\u001b[0m\u001b[0;34m\u001b[0m\u001b[0;34m\u001b[0m\u001b[0m\n\u001b[1;32m     27\u001b[0m     \u001b[0;32mreturn\u001b[0m \u001b[0mhead\u001b[0m\u001b[0;34m\u001b[0m\u001b[0;34m\u001b[0m\u001b[0m\n\u001b[0;32m---> 28\u001b[0;31m   \u001b[0msmallhead\u001b[0m\u001b[0;34m=\u001b[0m\u001b[0mdeleteRec\u001b[0m\u001b[0;34m(\u001b[0m\u001b[0mhead\u001b[0m\u001b[0;34m.\u001b[0m\u001b[0mnext\u001b[0m\u001b[0;34m,\u001b[0m\u001b[0mi\u001b[0m\u001b[0;34m-\u001b[0m\u001b[0;36m1\u001b[0m\u001b[0;34m)\u001b[0m\u001b[0;34m\u001b[0m\u001b[0;34m\u001b[0m\u001b[0m\n\u001b[0m\u001b[1;32m     29\u001b[0m   \u001b[0mhead\u001b[0m\u001b[0;34m.\u001b[0m\u001b[0mnext\u001b[0m\u001b[0;34m=\u001b[0m\u001b[0msmallhead\u001b[0m\u001b[0;34m\u001b[0m\u001b[0;34m\u001b[0m\u001b[0m\n\u001b[1;32m     30\u001b[0m   \u001b[0;32mreturn\u001b[0m \u001b[0mhead\u001b[0m\u001b[0;34m\u001b[0m\u001b[0;34m\u001b[0m\u001b[0m\n",
            "\u001b[0;32m<ipython-input-18-a12029ffe206>\u001b[0m in \u001b[0;36mdeleteRec\u001b[0;34m(head, i)\u001b[0m\n\u001b[1;32m     26\u001b[0m   \u001b[0;32mif\u001b[0m \u001b[0mhead\u001b[0m \u001b[0;32mis\u001b[0m \u001b[0;32mNone\u001b[0m\u001b[0;34m:\u001b[0m\u001b[0;34m\u001b[0m\u001b[0;34m\u001b[0m\u001b[0m\n\u001b[1;32m     27\u001b[0m     \u001b[0;32mreturn\u001b[0m \u001b[0mhead\u001b[0m\u001b[0;34m\u001b[0m\u001b[0;34m\u001b[0m\u001b[0m\n\u001b[0;32m---> 28\u001b[0;31m   \u001b[0msmallhead\u001b[0m\u001b[0;34m=\u001b[0m\u001b[0mdeleteRec\u001b[0m\u001b[0;34m(\u001b[0m\u001b[0mhead\u001b[0m\u001b[0;34m.\u001b[0m\u001b[0mnext\u001b[0m\u001b[0;34m,\u001b[0m\u001b[0mi\u001b[0m\u001b[0;34m-\u001b[0m\u001b[0;36m1\u001b[0m\u001b[0;34m)\u001b[0m\u001b[0;34m\u001b[0m\u001b[0;34m\u001b[0m\u001b[0m\n\u001b[0m\u001b[1;32m     29\u001b[0m   \u001b[0mhead\u001b[0m\u001b[0;34m.\u001b[0m\u001b[0mnext\u001b[0m\u001b[0;34m=\u001b[0m\u001b[0msmallhead\u001b[0m\u001b[0;34m\u001b[0m\u001b[0;34m\u001b[0m\u001b[0m\n\u001b[1;32m     30\u001b[0m   \u001b[0;32mreturn\u001b[0m \u001b[0mhead\u001b[0m\u001b[0;34m\u001b[0m\u001b[0;34m\u001b[0m\u001b[0m\n",
            "\u001b[0;32m<ipython-input-18-a12029ffe206>\u001b[0m in \u001b[0;36mdeleteRec\u001b[0;34m(head, i)\u001b[0m\n\u001b[1;32m     22\u001b[0m     \u001b[0;32mreturn\u001b[0m \u001b[0mhead\u001b[0m\u001b[0;34m\u001b[0m\u001b[0;34m\u001b[0m\u001b[0m\n\u001b[1;32m     23\u001b[0m   \u001b[0;32mif\u001b[0m \u001b[0mi\u001b[0m\u001b[0;34m==\u001b[0m\u001b[0;36m0\u001b[0m\u001b[0;34m:\u001b[0m\u001b[0;34m\u001b[0m\u001b[0;34m\u001b[0m\u001b[0m\n\u001b[0;32m---> 24\u001b[0;31m     \u001b[0mhead\u001b[0m\u001b[0;34m=\u001b[0m\u001b[0mhead\u001b[0m\u001b[0;34m.\u001b[0m\u001b[0mnext\u001b[0m\u001b[0;34m\u001b[0m\u001b[0;34m\u001b[0m\u001b[0m\n\u001b[0m\u001b[1;32m     25\u001b[0m     \u001b[0;32mreturn\u001b[0m \u001b[0mhead\u001b[0m\u001b[0;34m\u001b[0m\u001b[0;34m\u001b[0m\u001b[0m\n\u001b[1;32m     26\u001b[0m   \u001b[0;32mif\u001b[0m \u001b[0mhead\u001b[0m \u001b[0;32mis\u001b[0m \u001b[0;32mNone\u001b[0m\u001b[0;34m:\u001b[0m\u001b[0;34m\u001b[0m\u001b[0;34m\u001b[0m\u001b[0m\n",
            "\u001b[0;31mAttributeError\u001b[0m: 'NoneType' object has no attribute 'next'"
          ]
        }
      ]
    },
    {
      "cell_type": "markdown",
      "metadata": {
        "id": "7dStqd7S2yTb",
        "colab_type": "text"
      },
      "source": [
        "# **Reversing the linked list**"
      ]
    },
    {
      "cell_type": "code",
      "metadata": {
        "id": "pjFEQosXVbJk",
        "colab_type": "code",
        "colab": {
          "base_uri": "https://localhost:8080/",
          "height": 68
        },
        "outputId": "3b341dd2-989c-4203-863a-dec7b4c1f75c"
      },
      "source": [
        "class Node:\n",
        "    def __init__(self, data):\n",
        "        self.data = data\n",
        "        self.next = None\n",
        "def printLL(head):\n",
        "  while head is not None:\n",
        "    print(str(head.data)+\"->\",end=\"\")\n",
        "    head=head.next\n",
        "  print(\"None\")\n",
        "  return \n",
        "def lengthRecursive(head):\n",
        "    # A linked list, find and return the length of input LL recursively.\n",
        "    #############################\n",
        "    # PLEASE ADD YOUR CODE HERE #\n",
        "    #############################\n",
        "    if head is None:\n",
        "        return 0\n",
        "    else:\n",
        "        return(1+lengthRecursive(head.next))\n",
        "\n",
        "\n",
        "def print_linkedlist_spl(head):\n",
        "  if head is None:\n",
        "    return 0\n",
        "  smallhead=print_linkedlist_spl(head.next)\n",
        "  return print(head.data,end=' ')\n",
        "\n",
        "\n",
        "def deleteRec(head, i):\n",
        "  if i<0 or i>lengthRecursive(head):\n",
        "    return head\n",
        "  if i==0:\n",
        "    head=head.next\n",
        "    return head\n",
        "  if head is None:\n",
        "    return head\n",
        "  smallhead=deleteRec(head.next,i-1)\n",
        "  head.next=smallhead\n",
        "  return head\n",
        "\n",
        "def takeInput():\n",
        "    inputList=[int(ele) for ele in input().split()]\n",
        "    head=None\n",
        "    tail=None\n",
        "    for currentinput in inputList:\n",
        "      if currentinput==-1:\n",
        "        break\n",
        "      newNode=Node(currentinput) \n",
        "      if head is None:\n",
        "        head=newNode\n",
        "        tail=newNode\n",
        "      else:\n",
        "        tail.next=newNode\n",
        "        tail=newNode\n",
        "    return head\n",
        "\n",
        "head=takeInput()\n",
        "printLL(head)\n",
        "# Main\n",
        "# Read the link list elements including -1\n",
        "#arr=list(int(i) for i in input().strip().split(' '))\n",
        "# Create a Linked list after removing -1 from list\n",
        "#head=Inserti(head,2,7)\n",
        "#printLL(head)\n",
        "#head=deleteRec(head,8)\n",
        "#printLL(head)\n",
        "print_linkedlist_spl(head)\n"
      ],
      "execution_count": 24,
      "outputs": [
        {
          "output_type": "stream",
          "text": [
            "1 2 3 4\n",
            "1->2->3->4->None\n",
            "4321"
          ],
          "name": "stdout"
        }
      ]
    },
    {
      "cell_type": "markdown",
      "metadata": {
        "id": "O93wAPGuAyvX",
        "colab_type": "text"
      },
      "source": [
        "# **Checking Plaindrome in Linked List**"
      ]
    },
    {
      "cell_type": "code",
      "metadata": {
        "id": "qfC7DqFD-Jpt",
        "colab_type": "code",
        "colab": {}
      },
      "source": [
        ""
      ],
      "execution_count": 0,
      "outputs": []
    }
  ]
}